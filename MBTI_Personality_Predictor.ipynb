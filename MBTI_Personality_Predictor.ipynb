{
  "cells": [
    {
      "cell_type": "markdown",
      "metadata": {
        "id": "view-in-github",
        "colab_type": "text"
      },
      "source": [
        "<a href=\"https://colab.research.google.com/github/arrohit258/MBTI/blob/main/MBTI_Personality_Predictor.ipynb\" target=\"_parent\"><img src=\"https://colab.research.google.com/assets/colab-badge.svg\" alt=\"Open In Colab\"/></a>"
      ]
    },
    {
      "cell_type": "code",
      "execution_count": 3,
      "metadata": {
        "id": "fyKfSmemHTdz"
      },
      "outputs": [],
      "source": [
        "import pandas as pd\n",
        "import numpy as np\n",
        "import csv\n",
        "import seaborn as sns\n",
        "import matplotlib.pyplot as plt\n",
        "import spacy\n",
        "from spacy.lang.en.stop_words import STOP_WORDS"
      ]
    },
    {
      "cell_type": "code",
      "execution_count": 4,
      "metadata": {
        "colab": {
          "base_uri": "https://localhost:8080/",
          "height": 513
        },
        "id": "FikbbyXbIaMB",
        "outputId": "001b1d0f-04f8-4628-bd59-5f1a797eb7fd"
      },
      "outputs": [
        {
          "output_type": "stream",
          "name": "stderr",
          "text": [
            "/usr/local/lib/python3.7/dist-packages/IPython/core/interactiveshell.py:2882: FutureWarning: The error_bad_lines argument has been deprecated and will be removed in a future version.\n",
            "\n",
            "\n",
            "  exec(code_obj, self.user_global_ns, self.user_ns)\n"
          ]
        },
        {
          "output_type": "execute_result",
          "data": {
            "text/plain": [
              "      type                                              posts\n",
              "0     INFJ  'http://www.youtube.com/watch?v=qsXHcwe3krw|||...\n",
              "1     ENTP  'I'm finding the lack of me in these posts ver...\n",
              "2     INTP  'Good one  _____   https://www.youtube.com/wat...\n",
              "3     INTJ  'Dear INTP,   I enjoyed our conversation the o...\n",
              "4     ENTJ  'You're fired.|||That's another silly misconce...\n",
              "...    ...                                                ...\n",
              "8670  ISFP  'https://www.youtube.com/watch?v=t8edHB_h908||...\n",
              "8671  ENFP  'So...if this thread already exists someplace ...\n",
              "8672  INTP  'So many questions when i do these things.  I ...\n",
              "8673  INFP  'I am very conflicted right now when it comes ...\n",
              "8674  INFP  'It has been too long since I have been on per...\n",
              "\n",
              "[8675 rows x 2 columns]"
            ],
            "text/html": [
              "\n",
              "  <div id=\"df-00ea9655-834c-4eef-b23c-514f8904c6c2\">\n",
              "    <div class=\"colab-df-container\">\n",
              "      <div>\n",
              "<style scoped>\n",
              "    .dataframe tbody tr th:only-of-type {\n",
              "        vertical-align: middle;\n",
              "    }\n",
              "\n",
              "    .dataframe tbody tr th {\n",
              "        vertical-align: top;\n",
              "    }\n",
              "\n",
              "    .dataframe thead th {\n",
              "        text-align: right;\n",
              "    }\n",
              "</style>\n",
              "<table border=\"1\" class=\"dataframe\">\n",
              "  <thead>\n",
              "    <tr style=\"text-align: right;\">\n",
              "      <th></th>\n",
              "      <th>type</th>\n",
              "      <th>posts</th>\n",
              "    </tr>\n",
              "  </thead>\n",
              "  <tbody>\n",
              "    <tr>\n",
              "      <th>0</th>\n",
              "      <td>INFJ</td>\n",
              "      <td>'http://www.youtube.com/watch?v=qsXHcwe3krw|||...</td>\n",
              "    </tr>\n",
              "    <tr>\n",
              "      <th>1</th>\n",
              "      <td>ENTP</td>\n",
              "      <td>'I'm finding the lack of me in these posts ver...</td>\n",
              "    </tr>\n",
              "    <tr>\n",
              "      <th>2</th>\n",
              "      <td>INTP</td>\n",
              "      <td>'Good one  _____   https://www.youtube.com/wat...</td>\n",
              "    </tr>\n",
              "    <tr>\n",
              "      <th>3</th>\n",
              "      <td>INTJ</td>\n",
              "      <td>'Dear INTP,   I enjoyed our conversation the o...</td>\n",
              "    </tr>\n",
              "    <tr>\n",
              "      <th>4</th>\n",
              "      <td>ENTJ</td>\n",
              "      <td>'You're fired.|||That's another silly misconce...</td>\n",
              "    </tr>\n",
              "    <tr>\n",
              "      <th>...</th>\n",
              "      <td>...</td>\n",
              "      <td>...</td>\n",
              "    </tr>\n",
              "    <tr>\n",
              "      <th>8670</th>\n",
              "      <td>ISFP</td>\n",
              "      <td>'https://www.youtube.com/watch?v=t8edHB_h908||...</td>\n",
              "    </tr>\n",
              "    <tr>\n",
              "      <th>8671</th>\n",
              "      <td>ENFP</td>\n",
              "      <td>'So...if this thread already exists someplace ...</td>\n",
              "    </tr>\n",
              "    <tr>\n",
              "      <th>8672</th>\n",
              "      <td>INTP</td>\n",
              "      <td>'So many questions when i do these things.  I ...</td>\n",
              "    </tr>\n",
              "    <tr>\n",
              "      <th>8673</th>\n",
              "      <td>INFP</td>\n",
              "      <td>'I am very conflicted right now when it comes ...</td>\n",
              "    </tr>\n",
              "    <tr>\n",
              "      <th>8674</th>\n",
              "      <td>INFP</td>\n",
              "      <td>'It has been too long since I have been on per...</td>\n",
              "    </tr>\n",
              "  </tbody>\n",
              "</table>\n",
              "<p>8675 rows × 2 columns</p>\n",
              "</div>\n",
              "      <button class=\"colab-df-convert\" onclick=\"convertToInteractive('df-00ea9655-834c-4eef-b23c-514f8904c6c2')\"\n",
              "              title=\"Convert this dataframe to an interactive table.\"\n",
              "              style=\"display:none;\">\n",
              "        \n",
              "  <svg xmlns=\"http://www.w3.org/2000/svg\" height=\"24px\"viewBox=\"0 0 24 24\"\n",
              "       width=\"24px\">\n",
              "    <path d=\"M0 0h24v24H0V0z\" fill=\"none\"/>\n",
              "    <path d=\"M18.56 5.44l.94 2.06.94-2.06 2.06-.94-2.06-.94-.94-2.06-.94 2.06-2.06.94zm-11 1L8.5 8.5l.94-2.06 2.06-.94-2.06-.94L8.5 2.5l-.94 2.06-2.06.94zm10 10l.94 2.06.94-2.06 2.06-.94-2.06-.94-.94-2.06-.94 2.06-2.06.94z\"/><path d=\"M17.41 7.96l-1.37-1.37c-.4-.4-.92-.59-1.43-.59-.52 0-1.04.2-1.43.59L10.3 9.45l-7.72 7.72c-.78.78-.78 2.05 0 2.83L4 21.41c.39.39.9.59 1.41.59.51 0 1.02-.2 1.41-.59l7.78-7.78 2.81-2.81c.8-.78.8-2.07 0-2.86zM5.41 20L4 18.59l7.72-7.72 1.47 1.35L5.41 20z\"/>\n",
              "  </svg>\n",
              "      </button>\n",
              "      \n",
              "  <style>\n",
              "    .colab-df-container {\n",
              "      display:flex;\n",
              "      flex-wrap:wrap;\n",
              "      gap: 12px;\n",
              "    }\n",
              "\n",
              "    .colab-df-convert {\n",
              "      background-color: #E8F0FE;\n",
              "      border: none;\n",
              "      border-radius: 50%;\n",
              "      cursor: pointer;\n",
              "      display: none;\n",
              "      fill: #1967D2;\n",
              "      height: 32px;\n",
              "      padding: 0 0 0 0;\n",
              "      width: 32px;\n",
              "    }\n",
              "\n",
              "    .colab-df-convert:hover {\n",
              "      background-color: #E2EBFA;\n",
              "      box-shadow: 0px 1px 2px rgba(60, 64, 67, 0.3), 0px 1px 3px 1px rgba(60, 64, 67, 0.15);\n",
              "      fill: #174EA6;\n",
              "    }\n",
              "\n",
              "    [theme=dark] .colab-df-convert {\n",
              "      background-color: #3B4455;\n",
              "      fill: #D2E3FC;\n",
              "    }\n",
              "\n",
              "    [theme=dark] .colab-df-convert:hover {\n",
              "      background-color: #434B5C;\n",
              "      box-shadow: 0px 1px 3px 1px rgba(0, 0, 0, 0.15);\n",
              "      filter: drop-shadow(0px 1px 2px rgba(0, 0, 0, 0.3));\n",
              "      fill: #FFFFFF;\n",
              "    }\n",
              "  </style>\n",
              "\n",
              "      <script>\n",
              "        const buttonEl =\n",
              "          document.querySelector('#df-00ea9655-834c-4eef-b23c-514f8904c6c2 button.colab-df-convert');\n",
              "        buttonEl.style.display =\n",
              "          google.colab.kernel.accessAllowed ? 'block' : 'none';\n",
              "\n",
              "        async function convertToInteractive(key) {\n",
              "          const element = document.querySelector('#df-00ea9655-834c-4eef-b23c-514f8904c6c2');\n",
              "          const dataTable =\n",
              "            await google.colab.kernel.invokeFunction('convertToInteractive',\n",
              "                                                     [key], {});\n",
              "          if (!dataTable) return;\n",
              "\n",
              "          const docLinkHtml = 'Like what you see? Visit the ' +\n",
              "            '<a target=\"_blank\" href=https://colab.research.google.com/notebooks/data_table.ipynb>data table notebook</a>'\n",
              "            + ' to learn more about interactive tables.';\n",
              "          element.innerHTML = '';\n",
              "          dataTable['output_type'] = 'display_data';\n",
              "          await google.colab.output.renderOutput(dataTable, element);\n",
              "          const docLink = document.createElement('div');\n",
              "          docLink.innerHTML = docLinkHtml;\n",
              "          element.appendChild(docLink);\n",
              "        }\n",
              "      </script>\n",
              "    </div>\n",
              "  </div>\n",
              "  "
            ]
          },
          "metadata": {},
          "execution_count": 4
        }
      ],
      "source": [
        "error_bad_lines=False\n",
        "df=pd.read_csv(\"/content/mbti_1.csv\",engine='python',error_bad_lines=False)\n",
        "#df = pd.read_csv(\"/content/mbti_1.csv\",engine='python',sep='\\t',encoding='utf-8', error_bad_lines=False,quoting=csv.QUOTE_NONE)\n",
        "df"
      ]
    },
    {
      "cell_type": "code",
      "execution_count": 5,
      "metadata": {
        "colab": {
          "base_uri": "https://localhost:8080/",
          "height": 52
        },
        "id": "4vqqAJkfryL7",
        "outputId": "5e6e02e9-9eb3-476b-bd95-aa051984ac78"
      },
      "outputs": [
        {
          "output_type": "stream",
          "name": "stderr",
          "text": [
            "[nltk_data] Downloading package stopwords to /root/nltk_data...\n",
            "[nltk_data]   Unzipping corpora/stopwords.zip.\n"
          ]
        },
        {
          "output_type": "display_data",
          "data": {
            "text/html": [
              "        <script type=\"text/javascript\">\n",
              "        window.PlotlyConfig = {MathJaxConfig: 'local'};\n",
              "        if (window.MathJax) {MathJax.Hub.Config({SVG: {font: \"STIX-Web\"}});}\n",
              "        if (typeof require !== 'undefined') {\n",
              "        require.undef(\"plotly\");\n",
              "        requirejs.config({\n",
              "            paths: {\n",
              "                'plotly': ['https://cdn.plot.ly/plotly-2.8.3.min']\n",
              "            }\n",
              "        });\n",
              "        require(['plotly'], function(Plotly) {\n",
              "            window._Plotly = Plotly;\n",
              "        });\n",
              "        }\n",
              "        </script>\n",
              "        "
            ]
          },
          "metadata": {}
        }
      ],
      "source": [
        "import numpy as np \n",
        "import pandas as pd\n",
        "import matplotlib.pyplot as plt\n",
        "import seaborn as sns\n",
        "from keras.preprocessing.text import Tokenizer\n",
        "from keras.preprocessing.sequence import pad_sequences\n",
        "from keras.models import Sequential\n",
        "from keras.layers import Dense, Embedding, LSTM, SpatialDropout1D\n",
        "from sklearn.model_selection import train_test_split\n",
        "from keras.utils.np_utils import to_categorical\n",
        "from keras.callbacks import EarlyStopping\n",
        "from keras.layers import Dropout\n",
        "import re\n",
        "import nltk\n",
        "nltk.download('stopwords')\n",
        "from nltk.corpus import stopwords\n",
        "from nltk import word_tokenize\n",
        "STOPWORDS = set(stopwords.words('english'))\n",
        "from bs4 import BeautifulSoup\n",
        "import plotly.graph_objs as go\n",
        "#import plotly.plotly as py1\n",
        "import cufflinks\n",
        "from IPython.core.interactiveshell import InteractiveShell\n",
        "import plotly.figure_factory as ff\n",
        "InteractiveShell.ast_node_interactivity = 'all'\n",
        "from plotly.offline import iplot\n",
        "cufflinks.go_offline()\n",
        "cufflinks.set_config_file(world_readable=True, theme='pearl')"
      ]
    },
    {
      "cell_type": "code",
      "execution_count": 6,
      "metadata": {
        "colab": {
          "base_uri": "https://localhost:8080/",
          "height": 424
        },
        "id": "7cnENJ6drya2",
        "outputId": "b0b3139d-fa22-44b4-e93b-544039dce384"
      },
      "outputs": [
        {
          "output_type": "execute_result",
          "data": {
            "text/plain": [
              "      type                                              posts  IE  NS  TF  PJ\n",
              "0     INFJ  'http://www.youtube.com/watch?v=qsXHcwe3krw|||...   0   0   1   1\n",
              "1     ENTP  'I'm finding the lack of me in these posts ver...   1   0   0   0\n",
              "2     INTP  'Good one  _____   https://www.youtube.com/wat...   0   0   0   0\n",
              "3     INTJ  'Dear INTP,   I enjoyed our conversation the o...   0   0   0   1\n",
              "4     ENTJ  'You're fired.|||That's another silly misconce...   1   0   0   1\n",
              "...    ...                                                ...  ..  ..  ..  ..\n",
              "8670  ISFP  'https://www.youtube.com/watch?v=t8edHB_h908||...   0   1   1   0\n",
              "8671  ENFP  'So...if this thread already exists someplace ...   1   0   1   0\n",
              "8672  INTP  'So many questions when i do these things.  I ...   0   0   0   0\n",
              "8673  INFP  'I am very conflicted right now when it comes ...   0   0   1   0\n",
              "8674  INFP  'It has been too long since I have been on per...   0   0   1   0\n",
              "\n",
              "[8675 rows x 6 columns]"
            ],
            "text/html": [
              "\n",
              "  <div id=\"df-0a852927-4f3c-4e73-93d9-3755ea8ecc14\">\n",
              "    <div class=\"colab-df-container\">\n",
              "      <div>\n",
              "<style scoped>\n",
              "    .dataframe tbody tr th:only-of-type {\n",
              "        vertical-align: middle;\n",
              "    }\n",
              "\n",
              "    .dataframe tbody tr th {\n",
              "        vertical-align: top;\n",
              "    }\n",
              "\n",
              "    .dataframe thead th {\n",
              "        text-align: right;\n",
              "    }\n",
              "</style>\n",
              "<table border=\"1\" class=\"dataframe\">\n",
              "  <thead>\n",
              "    <tr style=\"text-align: right;\">\n",
              "      <th></th>\n",
              "      <th>type</th>\n",
              "      <th>posts</th>\n",
              "      <th>IE</th>\n",
              "      <th>NS</th>\n",
              "      <th>TF</th>\n",
              "      <th>PJ</th>\n",
              "    </tr>\n",
              "  </thead>\n",
              "  <tbody>\n",
              "    <tr>\n",
              "      <th>0</th>\n",
              "      <td>INFJ</td>\n",
              "      <td>'http://www.youtube.com/watch?v=qsXHcwe3krw|||...</td>\n",
              "      <td>0</td>\n",
              "      <td>0</td>\n",
              "      <td>1</td>\n",
              "      <td>1</td>\n",
              "    </tr>\n",
              "    <tr>\n",
              "      <th>1</th>\n",
              "      <td>ENTP</td>\n",
              "      <td>'I'm finding the lack of me in these posts ver...</td>\n",
              "      <td>1</td>\n",
              "      <td>0</td>\n",
              "      <td>0</td>\n",
              "      <td>0</td>\n",
              "    </tr>\n",
              "    <tr>\n",
              "      <th>2</th>\n",
              "      <td>INTP</td>\n",
              "      <td>'Good one  _____   https://www.youtube.com/wat...</td>\n",
              "      <td>0</td>\n",
              "      <td>0</td>\n",
              "      <td>0</td>\n",
              "      <td>0</td>\n",
              "    </tr>\n",
              "    <tr>\n",
              "      <th>3</th>\n",
              "      <td>INTJ</td>\n",
              "      <td>'Dear INTP,   I enjoyed our conversation the o...</td>\n",
              "      <td>0</td>\n",
              "      <td>0</td>\n",
              "      <td>0</td>\n",
              "      <td>1</td>\n",
              "    </tr>\n",
              "    <tr>\n",
              "      <th>4</th>\n",
              "      <td>ENTJ</td>\n",
              "      <td>'You're fired.|||That's another silly misconce...</td>\n",
              "      <td>1</td>\n",
              "      <td>0</td>\n",
              "      <td>0</td>\n",
              "      <td>1</td>\n",
              "    </tr>\n",
              "    <tr>\n",
              "      <th>...</th>\n",
              "      <td>...</td>\n",
              "      <td>...</td>\n",
              "      <td>...</td>\n",
              "      <td>...</td>\n",
              "      <td>...</td>\n",
              "      <td>...</td>\n",
              "    </tr>\n",
              "    <tr>\n",
              "      <th>8670</th>\n",
              "      <td>ISFP</td>\n",
              "      <td>'https://www.youtube.com/watch?v=t8edHB_h908||...</td>\n",
              "      <td>0</td>\n",
              "      <td>1</td>\n",
              "      <td>1</td>\n",
              "      <td>0</td>\n",
              "    </tr>\n",
              "    <tr>\n",
              "      <th>8671</th>\n",
              "      <td>ENFP</td>\n",
              "      <td>'So...if this thread already exists someplace ...</td>\n",
              "      <td>1</td>\n",
              "      <td>0</td>\n",
              "      <td>1</td>\n",
              "      <td>0</td>\n",
              "    </tr>\n",
              "    <tr>\n",
              "      <th>8672</th>\n",
              "      <td>INTP</td>\n",
              "      <td>'So many questions when i do these things.  I ...</td>\n",
              "      <td>0</td>\n",
              "      <td>0</td>\n",
              "      <td>0</td>\n",
              "      <td>0</td>\n",
              "    </tr>\n",
              "    <tr>\n",
              "      <th>8673</th>\n",
              "      <td>INFP</td>\n",
              "      <td>'I am very conflicted right now when it comes ...</td>\n",
              "      <td>0</td>\n",
              "      <td>0</td>\n",
              "      <td>1</td>\n",
              "      <td>0</td>\n",
              "    </tr>\n",
              "    <tr>\n",
              "      <th>8674</th>\n",
              "      <td>INFP</td>\n",
              "      <td>'It has been too long since I have been on per...</td>\n",
              "      <td>0</td>\n",
              "      <td>0</td>\n",
              "      <td>1</td>\n",
              "      <td>0</td>\n",
              "    </tr>\n",
              "  </tbody>\n",
              "</table>\n",
              "<p>8675 rows × 6 columns</p>\n",
              "</div>\n",
              "      <button class=\"colab-df-convert\" onclick=\"convertToInteractive('df-0a852927-4f3c-4e73-93d9-3755ea8ecc14')\"\n",
              "              title=\"Convert this dataframe to an interactive table.\"\n",
              "              style=\"display:none;\">\n",
              "        \n",
              "  <svg xmlns=\"http://www.w3.org/2000/svg\" height=\"24px\"viewBox=\"0 0 24 24\"\n",
              "       width=\"24px\">\n",
              "    <path d=\"M0 0h24v24H0V0z\" fill=\"none\"/>\n",
              "    <path d=\"M18.56 5.44l.94 2.06.94-2.06 2.06-.94-2.06-.94-.94-2.06-.94 2.06-2.06.94zm-11 1L8.5 8.5l.94-2.06 2.06-.94-2.06-.94L8.5 2.5l-.94 2.06-2.06.94zm10 10l.94 2.06.94-2.06 2.06-.94-2.06-.94-.94-2.06-.94 2.06-2.06.94z\"/><path d=\"M17.41 7.96l-1.37-1.37c-.4-.4-.92-.59-1.43-.59-.52 0-1.04.2-1.43.59L10.3 9.45l-7.72 7.72c-.78.78-.78 2.05 0 2.83L4 21.41c.39.39.9.59 1.41.59.51 0 1.02-.2 1.41-.59l7.78-7.78 2.81-2.81c.8-.78.8-2.07 0-2.86zM5.41 20L4 18.59l7.72-7.72 1.47 1.35L5.41 20z\"/>\n",
              "  </svg>\n",
              "      </button>\n",
              "      \n",
              "  <style>\n",
              "    .colab-df-container {\n",
              "      display:flex;\n",
              "      flex-wrap:wrap;\n",
              "      gap: 12px;\n",
              "    }\n",
              "\n",
              "    .colab-df-convert {\n",
              "      background-color: #E8F0FE;\n",
              "      border: none;\n",
              "      border-radius: 50%;\n",
              "      cursor: pointer;\n",
              "      display: none;\n",
              "      fill: #1967D2;\n",
              "      height: 32px;\n",
              "      padding: 0 0 0 0;\n",
              "      width: 32px;\n",
              "    }\n",
              "\n",
              "    .colab-df-convert:hover {\n",
              "      background-color: #E2EBFA;\n",
              "      box-shadow: 0px 1px 2px rgba(60, 64, 67, 0.3), 0px 1px 3px 1px rgba(60, 64, 67, 0.15);\n",
              "      fill: #174EA6;\n",
              "    }\n",
              "\n",
              "    [theme=dark] .colab-df-convert {\n",
              "      background-color: #3B4455;\n",
              "      fill: #D2E3FC;\n",
              "    }\n",
              "\n",
              "    [theme=dark] .colab-df-convert:hover {\n",
              "      background-color: #434B5C;\n",
              "      box-shadow: 0px 1px 3px 1px rgba(0, 0, 0, 0.15);\n",
              "      filter: drop-shadow(0px 1px 2px rgba(0, 0, 0, 0.3));\n",
              "      fill: #FFFFFF;\n",
              "    }\n",
              "  </style>\n",
              "\n",
              "      <script>\n",
              "        const buttonEl =\n",
              "          document.querySelector('#df-0a852927-4f3c-4e73-93d9-3755ea8ecc14 button.colab-df-convert');\n",
              "        buttonEl.style.display =\n",
              "          google.colab.kernel.accessAllowed ? 'block' : 'none';\n",
              "\n",
              "        async function convertToInteractive(key) {\n",
              "          const element = document.querySelector('#df-0a852927-4f3c-4e73-93d9-3755ea8ecc14');\n",
              "          const dataTable =\n",
              "            await google.colab.kernel.invokeFunction('convertToInteractive',\n",
              "                                                     [key], {});\n",
              "          if (!dataTable) return;\n",
              "\n",
              "          const docLinkHtml = 'Like what you see? Visit the ' +\n",
              "            '<a target=\"_blank\" href=https://colab.research.google.com/notebooks/data_table.ipynb>data table notebook</a>'\n",
              "            + ' to learn more about interactive tables.';\n",
              "          element.innerHTML = '';\n",
              "          dataTable['output_type'] = 'display_data';\n",
              "          await google.colab.output.renderOutput(dataTable, element);\n",
              "          const docLink = document.createElement('div');\n",
              "          docLink.innerHTML = docLinkHtml;\n",
              "          element.appendChild(docLink);\n",
              "        }\n",
              "      </script>\n",
              "    </div>\n",
              "  </div>\n",
              "  "
            ]
          },
          "metadata": {},
          "execution_count": 6
        }
      ],
      "source": [
        "IE=[]\n",
        "NS=[]\n",
        "TF=[]\n",
        "PJ=[]\n",
        "for i in range(len(df)):\n",
        "  IE.append(int(df['type'][i][0]=='E'))\n",
        "  NS.append(int(df['type'][i][1]=='S'))\n",
        "  TF.append(int(df['type'][i][2]=='F'))\n",
        "  PJ.append(int(df['type'][i][3]=='J'))\n",
        "df['IE']=IE\n",
        "df['NS']=NS\n",
        "df['TF']=TF\n",
        "df['PJ']=PJ\n",
        "df"
      ]
    },
    {
      "cell_type": "code",
      "execution_count": 7,
      "metadata": {
        "id": "CtsIJopjtwEJ"
      },
      "outputs": [],
      "source": [
        "\n",
        "stopwords = STOP_WORDS\n",
        "nlp = spacy.load('en_core_web_sm')"
      ]
    },
    {
      "cell_type": "code",
      "execution_count": 8,
      "metadata": {
        "colab": {
          "base_uri": "https://localhost:8080/",
          "height": 424
        },
        "id": "YK9Eojv2rycf",
        "outputId": "9516d99b-c9fc-480c-8f26-073533abc181"
      },
      "outputs": [
        {
          "output_type": "execute_result",
          "data": {
            "text/plain": [
              "      type                                              posts  IE  NS  TF  PJ\n",
              "0     INFJ  intj moment sportscenter play life change expe...   0   0   1   1\n",
              "1     ENTP  I find lack I post boring position example I g...   1   0   0   0\n",
              "2     INTP  good course I I know blessing absolutely posit...   0   0   0   0\n",
              "3     INTJ  Dear INTP I enjoy conversation day Esoteric ga...   0   0   0   1\n",
              "4     ENTJ  silly misconception approach logically key unl...   1   0   0   1\n",
              "...    ...                                                ...  ..  ..  ..  ..\n",
              "8670  ISFP  I think cat Fi dom reason website haven neo na...   0   1   1   0\n",
              "8671  ENFP  thread exist someplace heck I delete I guess I...   1   0   1   0\n",
              "8672  INTP  question I thing I purple pill pick win lotter...   0   0   0   0\n",
              "8673  INFP  I conflicted right come want child I honestly ...   0   0   1   0\n",
              "8674  INFP  long I personalitycafe change bit I good like ...   0   0   1   0\n",
              "\n",
              "[8675 rows x 6 columns]"
            ],
            "text/html": [
              "\n",
              "  <div id=\"df-6bd3f7aa-a53c-4b7c-b884-17588fb9ecba\">\n",
              "    <div class=\"colab-df-container\">\n",
              "      <div>\n",
              "<style scoped>\n",
              "    .dataframe tbody tr th:only-of-type {\n",
              "        vertical-align: middle;\n",
              "    }\n",
              "\n",
              "    .dataframe tbody tr th {\n",
              "        vertical-align: top;\n",
              "    }\n",
              "\n",
              "    .dataframe thead th {\n",
              "        text-align: right;\n",
              "    }\n",
              "</style>\n",
              "<table border=\"1\" class=\"dataframe\">\n",
              "  <thead>\n",
              "    <tr style=\"text-align: right;\">\n",
              "      <th></th>\n",
              "      <th>type</th>\n",
              "      <th>posts</th>\n",
              "      <th>IE</th>\n",
              "      <th>NS</th>\n",
              "      <th>TF</th>\n",
              "      <th>PJ</th>\n",
              "    </tr>\n",
              "  </thead>\n",
              "  <tbody>\n",
              "    <tr>\n",
              "      <th>0</th>\n",
              "      <td>INFJ</td>\n",
              "      <td>intj moment sportscenter play life change expe...</td>\n",
              "      <td>0</td>\n",
              "      <td>0</td>\n",
              "      <td>1</td>\n",
              "      <td>1</td>\n",
              "    </tr>\n",
              "    <tr>\n",
              "      <th>1</th>\n",
              "      <td>ENTP</td>\n",
              "      <td>I find lack I post boring position example I g...</td>\n",
              "      <td>1</td>\n",
              "      <td>0</td>\n",
              "      <td>0</td>\n",
              "      <td>0</td>\n",
              "    </tr>\n",
              "    <tr>\n",
              "      <th>2</th>\n",
              "      <td>INTP</td>\n",
              "      <td>good course I I know blessing absolutely posit...</td>\n",
              "      <td>0</td>\n",
              "      <td>0</td>\n",
              "      <td>0</td>\n",
              "      <td>0</td>\n",
              "    </tr>\n",
              "    <tr>\n",
              "      <th>3</th>\n",
              "      <td>INTJ</td>\n",
              "      <td>Dear INTP I enjoy conversation day Esoteric ga...</td>\n",
              "      <td>0</td>\n",
              "      <td>0</td>\n",
              "      <td>0</td>\n",
              "      <td>1</td>\n",
              "    </tr>\n",
              "    <tr>\n",
              "      <th>4</th>\n",
              "      <td>ENTJ</td>\n",
              "      <td>silly misconception approach logically key unl...</td>\n",
              "      <td>1</td>\n",
              "      <td>0</td>\n",
              "      <td>0</td>\n",
              "      <td>1</td>\n",
              "    </tr>\n",
              "    <tr>\n",
              "      <th>...</th>\n",
              "      <td>...</td>\n",
              "      <td>...</td>\n",
              "      <td>...</td>\n",
              "      <td>...</td>\n",
              "      <td>...</td>\n",
              "      <td>...</td>\n",
              "    </tr>\n",
              "    <tr>\n",
              "      <th>8670</th>\n",
              "      <td>ISFP</td>\n",
              "      <td>I think cat Fi dom reason website haven neo na...</td>\n",
              "      <td>0</td>\n",
              "      <td>1</td>\n",
              "      <td>1</td>\n",
              "      <td>0</td>\n",
              "    </tr>\n",
              "    <tr>\n",
              "      <th>8671</th>\n",
              "      <td>ENFP</td>\n",
              "      <td>thread exist someplace heck I delete I guess I...</td>\n",
              "      <td>1</td>\n",
              "      <td>0</td>\n",
              "      <td>1</td>\n",
              "      <td>0</td>\n",
              "    </tr>\n",
              "    <tr>\n",
              "      <th>8672</th>\n",
              "      <td>INTP</td>\n",
              "      <td>question I thing I purple pill pick win lotter...</td>\n",
              "      <td>0</td>\n",
              "      <td>0</td>\n",
              "      <td>0</td>\n",
              "      <td>0</td>\n",
              "    </tr>\n",
              "    <tr>\n",
              "      <th>8673</th>\n",
              "      <td>INFP</td>\n",
              "      <td>I conflicted right come want child I honestly ...</td>\n",
              "      <td>0</td>\n",
              "      <td>0</td>\n",
              "      <td>1</td>\n",
              "      <td>0</td>\n",
              "    </tr>\n",
              "    <tr>\n",
              "      <th>8674</th>\n",
              "      <td>INFP</td>\n",
              "      <td>long I personalitycafe change bit I good like ...</td>\n",
              "      <td>0</td>\n",
              "      <td>0</td>\n",
              "      <td>1</td>\n",
              "      <td>0</td>\n",
              "    </tr>\n",
              "  </tbody>\n",
              "</table>\n",
              "<p>8675 rows × 6 columns</p>\n",
              "</div>\n",
              "      <button class=\"colab-df-convert\" onclick=\"convertToInteractive('df-6bd3f7aa-a53c-4b7c-b884-17588fb9ecba')\"\n",
              "              title=\"Convert this dataframe to an interactive table.\"\n",
              "              style=\"display:none;\">\n",
              "        \n",
              "  <svg xmlns=\"http://www.w3.org/2000/svg\" height=\"24px\"viewBox=\"0 0 24 24\"\n",
              "       width=\"24px\">\n",
              "    <path d=\"M0 0h24v24H0V0z\" fill=\"none\"/>\n",
              "    <path d=\"M18.56 5.44l.94 2.06.94-2.06 2.06-.94-2.06-.94-.94-2.06-.94 2.06-2.06.94zm-11 1L8.5 8.5l.94-2.06 2.06-.94-2.06-.94L8.5 2.5l-.94 2.06-2.06.94zm10 10l.94 2.06.94-2.06 2.06-.94-2.06-.94-.94-2.06-.94 2.06-2.06.94z\"/><path d=\"M17.41 7.96l-1.37-1.37c-.4-.4-.92-.59-1.43-.59-.52 0-1.04.2-1.43.59L10.3 9.45l-7.72 7.72c-.78.78-.78 2.05 0 2.83L4 21.41c.39.39.9.59 1.41.59.51 0 1.02-.2 1.41-.59l7.78-7.78 2.81-2.81c.8-.78.8-2.07 0-2.86zM5.41 20L4 18.59l7.72-7.72 1.47 1.35L5.41 20z\"/>\n",
              "  </svg>\n",
              "      </button>\n",
              "      \n",
              "  <style>\n",
              "    .colab-df-container {\n",
              "      display:flex;\n",
              "      flex-wrap:wrap;\n",
              "      gap: 12px;\n",
              "    }\n",
              "\n",
              "    .colab-df-convert {\n",
              "      background-color: #E8F0FE;\n",
              "      border: none;\n",
              "      border-radius: 50%;\n",
              "      cursor: pointer;\n",
              "      display: none;\n",
              "      fill: #1967D2;\n",
              "      height: 32px;\n",
              "      padding: 0 0 0 0;\n",
              "      width: 32px;\n",
              "    }\n",
              "\n",
              "    .colab-df-convert:hover {\n",
              "      background-color: #E2EBFA;\n",
              "      box-shadow: 0px 1px 2px rgba(60, 64, 67, 0.3), 0px 1px 3px 1px rgba(60, 64, 67, 0.15);\n",
              "      fill: #174EA6;\n",
              "    }\n",
              "\n",
              "    [theme=dark] .colab-df-convert {\n",
              "      background-color: #3B4455;\n",
              "      fill: #D2E3FC;\n",
              "    }\n",
              "\n",
              "    [theme=dark] .colab-df-convert:hover {\n",
              "      background-color: #434B5C;\n",
              "      box-shadow: 0px 1px 3px 1px rgba(0, 0, 0, 0.15);\n",
              "      filter: drop-shadow(0px 1px 2px rgba(0, 0, 0, 0.3));\n",
              "      fill: #FFFFFF;\n",
              "    }\n",
              "  </style>\n",
              "\n",
              "      <script>\n",
              "        const buttonEl =\n",
              "          document.querySelector('#df-6bd3f7aa-a53c-4b7c-b884-17588fb9ecba button.colab-df-convert');\n",
              "        buttonEl.style.display =\n",
              "          google.colab.kernel.accessAllowed ? 'block' : 'none';\n",
              "\n",
              "        async function convertToInteractive(key) {\n",
              "          const element = document.querySelector('#df-6bd3f7aa-a53c-4b7c-b884-17588fb9ecba');\n",
              "          const dataTable =\n",
              "            await google.colab.kernel.invokeFunction('convertToInteractive',\n",
              "                                                     [key], {});\n",
              "          if (!dataTable) return;\n",
              "\n",
              "          const docLinkHtml = 'Like what you see? Visit the ' +\n",
              "            '<a target=\"_blank\" href=https://colab.research.google.com/notebooks/data_table.ipynb>data table notebook</a>'\n",
              "            + ' to learn more about interactive tables.';\n",
              "          element.innerHTML = '';\n",
              "          dataTable['output_type'] = 'display_data';\n",
              "          await google.colab.output.renderOutput(dataTable, element);\n",
              "          const docLink = document.createElement('div');\n",
              "          docLink.innerHTML = docLinkHtml;\n",
              "          element.appendChild(docLink);\n",
              "        }\n",
              "      </script>\n",
              "    </div>\n",
              "  </div>\n",
              "  "
            ]
          },
          "metadata": {},
          "execution_count": 8
        }
      ],
      "source": [
        "def preprocess(data):\n",
        "    doc = nlp(data, disable = ['ner', 'parser'])\n",
        "    lemmas = [token.lemma_ for token in doc]\n",
        "    #remove stopwords \n",
        "    lemm = [lemma for lemma in lemmas\n",
        "              if lemma.isalpha() and lemma not in stopwords ]\n",
        "    return ' ' .join(lemm)\n",
        "df['posts']=df['posts'].apply(preprocess)\n",
        "df"
      ]
    },
    {
      "cell_type": "code",
      "execution_count": 9,
      "metadata": {
        "colab": {
          "base_uri": "https://localhost:8080/",
          "height": 424
        },
        "id": "c2FJ8XAqrygn",
        "outputId": "2c336932-2a56-4f92-988a-b4ef05607946"
      },
      "outputs": [
        {
          "output_type": "execute_result",
          "data": {
            "text/plain": [
              "      type                                              posts  IE  NS  TF  PJ\n",
              "0     INFJ  intj moment sportscenter play life change expe...   0   0   1   1\n",
              "1     ENTP  I find lack I post boring position example I g...   1   0   0   0\n",
              "2     INTP  good course I I know blessing absolutely posit...   0   0   0   0\n",
              "3     INTJ  Dear INTP I enjoy conversation day Esoteric ga...   0   0   0   1\n",
              "4     ENTJ  silly misconception approach logically key unl...   1   0   0   1\n",
              "...    ...                                                ...  ..  ..  ..  ..\n",
              "8670  ISFP  I think cat Fi dom reason website haven neo na...   0   1   1   0\n",
              "8671  ENFP  thread exist someplace heck I delete I guess I...   1   0   1   0\n",
              "8672  INTP  question I thing I purple pill pick win lotter...   0   0   0   0\n",
              "8673  INFP  I conflicted right come want child I honestly ...   0   0   1   0\n",
              "8674  INFP  long I personalitycafe change bit I good like ...   0   0   1   0\n",
              "\n",
              "[8675 rows x 6 columns]"
            ],
            "text/html": [
              "\n",
              "  <div id=\"df-cf13e9fc-412c-4ea9-83fb-c360a9dc893b\">\n",
              "    <div class=\"colab-df-container\">\n",
              "      <div>\n",
              "<style scoped>\n",
              "    .dataframe tbody tr th:only-of-type {\n",
              "        vertical-align: middle;\n",
              "    }\n",
              "\n",
              "    .dataframe tbody tr th {\n",
              "        vertical-align: top;\n",
              "    }\n",
              "\n",
              "    .dataframe thead th {\n",
              "        text-align: right;\n",
              "    }\n",
              "</style>\n",
              "<table border=\"1\" class=\"dataframe\">\n",
              "  <thead>\n",
              "    <tr style=\"text-align: right;\">\n",
              "      <th></th>\n",
              "      <th>type</th>\n",
              "      <th>posts</th>\n",
              "      <th>IE</th>\n",
              "      <th>NS</th>\n",
              "      <th>TF</th>\n",
              "      <th>PJ</th>\n",
              "    </tr>\n",
              "  </thead>\n",
              "  <tbody>\n",
              "    <tr>\n",
              "      <th>0</th>\n",
              "      <td>INFJ</td>\n",
              "      <td>intj moment sportscenter play life change expe...</td>\n",
              "      <td>0</td>\n",
              "      <td>0</td>\n",
              "      <td>1</td>\n",
              "      <td>1</td>\n",
              "    </tr>\n",
              "    <tr>\n",
              "      <th>1</th>\n",
              "      <td>ENTP</td>\n",
              "      <td>I find lack I post boring position example I g...</td>\n",
              "      <td>1</td>\n",
              "      <td>0</td>\n",
              "      <td>0</td>\n",
              "      <td>0</td>\n",
              "    </tr>\n",
              "    <tr>\n",
              "      <th>2</th>\n",
              "      <td>INTP</td>\n",
              "      <td>good course I I know blessing absolutely posit...</td>\n",
              "      <td>0</td>\n",
              "      <td>0</td>\n",
              "      <td>0</td>\n",
              "      <td>0</td>\n",
              "    </tr>\n",
              "    <tr>\n",
              "      <th>3</th>\n",
              "      <td>INTJ</td>\n",
              "      <td>Dear INTP I enjoy conversation day Esoteric ga...</td>\n",
              "      <td>0</td>\n",
              "      <td>0</td>\n",
              "      <td>0</td>\n",
              "      <td>1</td>\n",
              "    </tr>\n",
              "    <tr>\n",
              "      <th>4</th>\n",
              "      <td>ENTJ</td>\n",
              "      <td>silly misconception approach logically key unl...</td>\n",
              "      <td>1</td>\n",
              "      <td>0</td>\n",
              "      <td>0</td>\n",
              "      <td>1</td>\n",
              "    </tr>\n",
              "    <tr>\n",
              "      <th>...</th>\n",
              "      <td>...</td>\n",
              "      <td>...</td>\n",
              "      <td>...</td>\n",
              "      <td>...</td>\n",
              "      <td>...</td>\n",
              "      <td>...</td>\n",
              "    </tr>\n",
              "    <tr>\n",
              "      <th>8670</th>\n",
              "      <td>ISFP</td>\n",
              "      <td>I think cat Fi dom reason website haven neo na...</td>\n",
              "      <td>0</td>\n",
              "      <td>1</td>\n",
              "      <td>1</td>\n",
              "      <td>0</td>\n",
              "    </tr>\n",
              "    <tr>\n",
              "      <th>8671</th>\n",
              "      <td>ENFP</td>\n",
              "      <td>thread exist someplace heck I delete I guess I...</td>\n",
              "      <td>1</td>\n",
              "      <td>0</td>\n",
              "      <td>1</td>\n",
              "      <td>0</td>\n",
              "    </tr>\n",
              "    <tr>\n",
              "      <th>8672</th>\n",
              "      <td>INTP</td>\n",
              "      <td>question I thing I purple pill pick win lotter...</td>\n",
              "      <td>0</td>\n",
              "      <td>0</td>\n",
              "      <td>0</td>\n",
              "      <td>0</td>\n",
              "    </tr>\n",
              "    <tr>\n",
              "      <th>8673</th>\n",
              "      <td>INFP</td>\n",
              "      <td>I conflicted right come want child I honestly ...</td>\n",
              "      <td>0</td>\n",
              "      <td>0</td>\n",
              "      <td>1</td>\n",
              "      <td>0</td>\n",
              "    </tr>\n",
              "    <tr>\n",
              "      <th>8674</th>\n",
              "      <td>INFP</td>\n",
              "      <td>long I personalitycafe change bit I good like ...</td>\n",
              "      <td>0</td>\n",
              "      <td>0</td>\n",
              "      <td>1</td>\n",
              "      <td>0</td>\n",
              "    </tr>\n",
              "  </tbody>\n",
              "</table>\n",
              "<p>8675 rows × 6 columns</p>\n",
              "</div>\n",
              "      <button class=\"colab-df-convert\" onclick=\"convertToInteractive('df-cf13e9fc-412c-4ea9-83fb-c360a9dc893b')\"\n",
              "              title=\"Convert this dataframe to an interactive table.\"\n",
              "              style=\"display:none;\">\n",
              "        \n",
              "  <svg xmlns=\"http://www.w3.org/2000/svg\" height=\"24px\"viewBox=\"0 0 24 24\"\n",
              "       width=\"24px\">\n",
              "    <path d=\"M0 0h24v24H0V0z\" fill=\"none\"/>\n",
              "    <path d=\"M18.56 5.44l.94 2.06.94-2.06 2.06-.94-2.06-.94-.94-2.06-.94 2.06-2.06.94zm-11 1L8.5 8.5l.94-2.06 2.06-.94-2.06-.94L8.5 2.5l-.94 2.06-2.06.94zm10 10l.94 2.06.94-2.06 2.06-.94-2.06-.94-.94-2.06-.94 2.06-2.06.94z\"/><path d=\"M17.41 7.96l-1.37-1.37c-.4-.4-.92-.59-1.43-.59-.52 0-1.04.2-1.43.59L10.3 9.45l-7.72 7.72c-.78.78-.78 2.05 0 2.83L4 21.41c.39.39.9.59 1.41.59.51 0 1.02-.2 1.41-.59l7.78-7.78 2.81-2.81c.8-.78.8-2.07 0-2.86zM5.41 20L4 18.59l7.72-7.72 1.47 1.35L5.41 20z\"/>\n",
              "  </svg>\n",
              "      </button>\n",
              "      \n",
              "  <style>\n",
              "    .colab-df-container {\n",
              "      display:flex;\n",
              "      flex-wrap:wrap;\n",
              "      gap: 12px;\n",
              "    }\n",
              "\n",
              "    .colab-df-convert {\n",
              "      background-color: #E8F0FE;\n",
              "      border: none;\n",
              "      border-radius: 50%;\n",
              "      cursor: pointer;\n",
              "      display: none;\n",
              "      fill: #1967D2;\n",
              "      height: 32px;\n",
              "      padding: 0 0 0 0;\n",
              "      width: 32px;\n",
              "    }\n",
              "\n",
              "    .colab-df-convert:hover {\n",
              "      background-color: #E2EBFA;\n",
              "      box-shadow: 0px 1px 2px rgba(60, 64, 67, 0.3), 0px 1px 3px 1px rgba(60, 64, 67, 0.15);\n",
              "      fill: #174EA6;\n",
              "    }\n",
              "\n",
              "    [theme=dark] .colab-df-convert {\n",
              "      background-color: #3B4455;\n",
              "      fill: #D2E3FC;\n",
              "    }\n",
              "\n",
              "    [theme=dark] .colab-df-convert:hover {\n",
              "      background-color: #434B5C;\n",
              "      box-shadow: 0px 1px 3px 1px rgba(0, 0, 0, 0.15);\n",
              "      filter: drop-shadow(0px 1px 2px rgba(0, 0, 0, 0.3));\n",
              "      fill: #FFFFFF;\n",
              "    }\n",
              "  </style>\n",
              "\n",
              "      <script>\n",
              "        const buttonEl =\n",
              "          document.querySelector('#df-cf13e9fc-412c-4ea9-83fb-c360a9dc893b button.colab-df-convert');\n",
              "        buttonEl.style.display =\n",
              "          google.colab.kernel.accessAllowed ? 'block' : 'none';\n",
              "\n",
              "        async function convertToInteractive(key) {\n",
              "          const element = document.querySelector('#df-cf13e9fc-412c-4ea9-83fb-c360a9dc893b');\n",
              "          const dataTable =\n",
              "            await google.colab.kernel.invokeFunction('convertToInteractive',\n",
              "                                                     [key], {});\n",
              "          if (!dataTable) return;\n",
              "\n",
              "          const docLinkHtml = 'Like what you see? Visit the ' +\n",
              "            '<a target=\"_blank\" href=https://colab.research.google.com/notebooks/data_table.ipynb>data table notebook</a>'\n",
              "            + ' to learn more about interactive tables.';\n",
              "          element.innerHTML = '';\n",
              "          dataTable['output_type'] = 'display_data';\n",
              "          await google.colab.output.renderOutput(dataTable, element);\n",
              "          const docLink = document.createElement('div');\n",
              "          docLink.innerHTML = docLinkHtml;\n",
              "          element.appendChild(docLink);\n",
              "        }\n",
              "      </script>\n",
              "    </div>\n",
              "  </div>\n",
              "  "
            ]
          },
          "metadata": {},
          "execution_count": 9
        }
      ],
      "source": [
        "df"
      ]
    },
    {
      "cell_type": "code",
      "execution_count": 9,
      "metadata": {
        "id": "O7xzQJmRrzl8"
      },
      "outputs": [],
      "source": [
        ""
      ]
    },
    {
      "cell_type": "code",
      "execution_count": 10,
      "metadata": {
        "colab": {
          "base_uri": "https://localhost:8080/",
          "height": 424
        },
        "id": "pPTUAtQXJnV3",
        "outputId": "b6203a28-4d07-4c90-9227-93ee3f858fa2"
      },
      "outputs": [
        {
          "output_type": "execute_result",
          "data": {
            "text/plain": [
              "      type                                              posts  IE  NS  TF  PJ\n",
              "0     INFJ  intj moment sportscenter play life change expe...   0   0   1   1\n",
              "1     ENTP  I find lack I post boring position example I g...   1   0   0   0\n",
              "2     INTP  good course I I know blessing absolutely posit...   0   0   0   0\n",
              "3     INTJ  Dear INTP I enjoy conversation day Esoteric ga...   0   0   0   1\n",
              "4     ENTJ  silly misconception approach logically key unl...   1   0   0   1\n",
              "...    ...                                                ...  ..  ..  ..  ..\n",
              "8670  ISFP  I think cat Fi dom reason website haven neo na...   0   1   1   0\n",
              "8671  ENFP  thread exist someplace heck I delete I guess I...   1   0   1   0\n",
              "8672  INTP  question I thing I purple pill pick win lotter...   0   0   0   0\n",
              "8673  INFP  I conflicted right come want child I honestly ...   0   0   1   0\n",
              "8674  INFP  long I personalitycafe change bit I good like ...   0   0   1   0\n",
              "\n",
              "[8675 rows x 6 columns]"
            ],
            "text/html": [
              "\n",
              "  <div id=\"df-786c2c9f-1254-4779-8d53-61a34f2507bc\">\n",
              "    <div class=\"colab-df-container\">\n",
              "      <div>\n",
              "<style scoped>\n",
              "    .dataframe tbody tr th:only-of-type {\n",
              "        vertical-align: middle;\n",
              "    }\n",
              "\n",
              "    .dataframe tbody tr th {\n",
              "        vertical-align: top;\n",
              "    }\n",
              "\n",
              "    .dataframe thead th {\n",
              "        text-align: right;\n",
              "    }\n",
              "</style>\n",
              "<table border=\"1\" class=\"dataframe\">\n",
              "  <thead>\n",
              "    <tr style=\"text-align: right;\">\n",
              "      <th></th>\n",
              "      <th>type</th>\n",
              "      <th>posts</th>\n",
              "      <th>IE</th>\n",
              "      <th>NS</th>\n",
              "      <th>TF</th>\n",
              "      <th>PJ</th>\n",
              "    </tr>\n",
              "  </thead>\n",
              "  <tbody>\n",
              "    <tr>\n",
              "      <th>0</th>\n",
              "      <td>INFJ</td>\n",
              "      <td>intj moment sportscenter play life change expe...</td>\n",
              "      <td>0</td>\n",
              "      <td>0</td>\n",
              "      <td>1</td>\n",
              "      <td>1</td>\n",
              "    </tr>\n",
              "    <tr>\n",
              "      <th>1</th>\n",
              "      <td>ENTP</td>\n",
              "      <td>I find lack I post boring position example I g...</td>\n",
              "      <td>1</td>\n",
              "      <td>0</td>\n",
              "      <td>0</td>\n",
              "      <td>0</td>\n",
              "    </tr>\n",
              "    <tr>\n",
              "      <th>2</th>\n",
              "      <td>INTP</td>\n",
              "      <td>good course I I know blessing absolutely posit...</td>\n",
              "      <td>0</td>\n",
              "      <td>0</td>\n",
              "      <td>0</td>\n",
              "      <td>0</td>\n",
              "    </tr>\n",
              "    <tr>\n",
              "      <th>3</th>\n",
              "      <td>INTJ</td>\n",
              "      <td>Dear INTP I enjoy conversation day Esoteric ga...</td>\n",
              "      <td>0</td>\n",
              "      <td>0</td>\n",
              "      <td>0</td>\n",
              "      <td>1</td>\n",
              "    </tr>\n",
              "    <tr>\n",
              "      <th>4</th>\n",
              "      <td>ENTJ</td>\n",
              "      <td>silly misconception approach logically key unl...</td>\n",
              "      <td>1</td>\n",
              "      <td>0</td>\n",
              "      <td>0</td>\n",
              "      <td>1</td>\n",
              "    </tr>\n",
              "    <tr>\n",
              "      <th>...</th>\n",
              "      <td>...</td>\n",
              "      <td>...</td>\n",
              "      <td>...</td>\n",
              "      <td>...</td>\n",
              "      <td>...</td>\n",
              "      <td>...</td>\n",
              "    </tr>\n",
              "    <tr>\n",
              "      <th>8670</th>\n",
              "      <td>ISFP</td>\n",
              "      <td>I think cat Fi dom reason website haven neo na...</td>\n",
              "      <td>0</td>\n",
              "      <td>1</td>\n",
              "      <td>1</td>\n",
              "      <td>0</td>\n",
              "    </tr>\n",
              "    <tr>\n",
              "      <th>8671</th>\n",
              "      <td>ENFP</td>\n",
              "      <td>thread exist someplace heck I delete I guess I...</td>\n",
              "      <td>1</td>\n",
              "      <td>0</td>\n",
              "      <td>1</td>\n",
              "      <td>0</td>\n",
              "    </tr>\n",
              "    <tr>\n",
              "      <th>8672</th>\n",
              "      <td>INTP</td>\n",
              "      <td>question I thing I purple pill pick win lotter...</td>\n",
              "      <td>0</td>\n",
              "      <td>0</td>\n",
              "      <td>0</td>\n",
              "      <td>0</td>\n",
              "    </tr>\n",
              "    <tr>\n",
              "      <th>8673</th>\n",
              "      <td>INFP</td>\n",
              "      <td>I conflicted right come want child I honestly ...</td>\n",
              "      <td>0</td>\n",
              "      <td>0</td>\n",
              "      <td>1</td>\n",
              "      <td>0</td>\n",
              "    </tr>\n",
              "    <tr>\n",
              "      <th>8674</th>\n",
              "      <td>INFP</td>\n",
              "      <td>long I personalitycafe change bit I good like ...</td>\n",
              "      <td>0</td>\n",
              "      <td>0</td>\n",
              "      <td>1</td>\n",
              "      <td>0</td>\n",
              "    </tr>\n",
              "  </tbody>\n",
              "</table>\n",
              "<p>8675 rows × 6 columns</p>\n",
              "</div>\n",
              "      <button class=\"colab-df-convert\" onclick=\"convertToInteractive('df-786c2c9f-1254-4779-8d53-61a34f2507bc')\"\n",
              "              title=\"Convert this dataframe to an interactive table.\"\n",
              "              style=\"display:none;\">\n",
              "        \n",
              "  <svg xmlns=\"http://www.w3.org/2000/svg\" height=\"24px\"viewBox=\"0 0 24 24\"\n",
              "       width=\"24px\">\n",
              "    <path d=\"M0 0h24v24H0V0z\" fill=\"none\"/>\n",
              "    <path d=\"M18.56 5.44l.94 2.06.94-2.06 2.06-.94-2.06-.94-.94-2.06-.94 2.06-2.06.94zm-11 1L8.5 8.5l.94-2.06 2.06-.94-2.06-.94L8.5 2.5l-.94 2.06-2.06.94zm10 10l.94 2.06.94-2.06 2.06-.94-2.06-.94-.94-2.06-.94 2.06-2.06.94z\"/><path d=\"M17.41 7.96l-1.37-1.37c-.4-.4-.92-.59-1.43-.59-.52 0-1.04.2-1.43.59L10.3 9.45l-7.72 7.72c-.78.78-.78 2.05 0 2.83L4 21.41c.39.39.9.59 1.41.59.51 0 1.02-.2 1.41-.59l7.78-7.78 2.81-2.81c.8-.78.8-2.07 0-2.86zM5.41 20L4 18.59l7.72-7.72 1.47 1.35L5.41 20z\"/>\n",
              "  </svg>\n",
              "      </button>\n",
              "      \n",
              "  <style>\n",
              "    .colab-df-container {\n",
              "      display:flex;\n",
              "      flex-wrap:wrap;\n",
              "      gap: 12px;\n",
              "    }\n",
              "\n",
              "    .colab-df-convert {\n",
              "      background-color: #E8F0FE;\n",
              "      border: none;\n",
              "      border-radius: 50%;\n",
              "      cursor: pointer;\n",
              "      display: none;\n",
              "      fill: #1967D2;\n",
              "      height: 32px;\n",
              "      padding: 0 0 0 0;\n",
              "      width: 32px;\n",
              "    }\n",
              "\n",
              "    .colab-df-convert:hover {\n",
              "      background-color: #E2EBFA;\n",
              "      box-shadow: 0px 1px 2px rgba(60, 64, 67, 0.3), 0px 1px 3px 1px rgba(60, 64, 67, 0.15);\n",
              "      fill: #174EA6;\n",
              "    }\n",
              "\n",
              "    [theme=dark] .colab-df-convert {\n",
              "      background-color: #3B4455;\n",
              "      fill: #D2E3FC;\n",
              "    }\n",
              "\n",
              "    [theme=dark] .colab-df-convert:hover {\n",
              "      background-color: #434B5C;\n",
              "      box-shadow: 0px 1px 3px 1px rgba(0, 0, 0, 0.15);\n",
              "      filter: drop-shadow(0px 1px 2px rgba(0, 0, 0, 0.3));\n",
              "      fill: #FFFFFF;\n",
              "    }\n",
              "  </style>\n",
              "\n",
              "      <script>\n",
              "        const buttonEl =\n",
              "          document.querySelector('#df-786c2c9f-1254-4779-8d53-61a34f2507bc button.colab-df-convert');\n",
              "        buttonEl.style.display =\n",
              "          google.colab.kernel.accessAllowed ? 'block' : 'none';\n",
              "\n",
              "        async function convertToInteractive(key) {\n",
              "          const element = document.querySelector('#df-786c2c9f-1254-4779-8d53-61a34f2507bc');\n",
              "          const dataTable =\n",
              "            await google.colab.kernel.invokeFunction('convertToInteractive',\n",
              "                                                     [key], {});\n",
              "          if (!dataTable) return;\n",
              "\n",
              "          const docLinkHtml = 'Like what you see? Visit the ' +\n",
              "            '<a target=\"_blank\" href=https://colab.research.google.com/notebooks/data_table.ipynb>data table notebook</a>'\n",
              "            + ' to learn more about interactive tables.';\n",
              "          element.innerHTML = '';\n",
              "          dataTable['output_type'] = 'display_data';\n",
              "          await google.colab.output.renderOutput(dataTable, element);\n",
              "          const docLink = document.createElement('div');\n",
              "          docLink.innerHTML = docLinkHtml;\n",
              "          element.appendChild(docLink);\n",
              "        }\n",
              "      </script>\n",
              "    </div>\n",
              "  </div>\n",
              "  "
            ]
          },
          "metadata": {},
          "execution_count": 10
        }
      ],
      "source": [
        "#encoding=> I=0,N=0,T=0,P=0\n",
        "IE=[]\n",
        "NS=[]\n",
        "TF=[]\n",
        "PJ=[]\n",
        "for i in range(len(df)):\n",
        "  IE.append(int(df['type'][i][0]=='E'))\n",
        "  NS.append(int(df['type'][i][1]=='S'))\n",
        "  TF.append(int(df['type'][i][2]=='F'))\n",
        "  PJ.append(int(df['type'][i][3]=='J'))\n",
        "df['IE']=IE\n",
        "df['NS']=NS\n",
        "df['TF']=TF\n",
        "df['PJ']=PJ\n",
        "df"
      ]
    },
    {
      "cell_type": "code",
      "execution_count": 11,
      "metadata": {
        "colab": {
          "base_uri": "https://localhost:8080/"
        },
        "id": "6JAmFFSZJnwY",
        "outputId": "3947e26c-5ea1-41f4-cb40-79d154e7349e"
      },
      "outputs": [
        {
          "output_type": "stream",
          "name": "stdout",
          "text": [
            "type\n",
            "ENFJ     190\n",
            "ENFP     675\n",
            "ENTJ     231\n",
            "ENTP     685\n",
            "ESFJ      42\n",
            "ESFP      48\n",
            "ESTJ      39\n",
            "ESTP      89\n",
            "INFJ    1470\n",
            "INFP    1832\n",
            "INTJ    1091\n",
            "INTP    1304\n",
            "ISFJ     166\n",
            "ISFP     271\n",
            "ISTJ     205\n",
            "ISTP     337\n",
            "Name: posts, dtype: int64\n",
            "<class 'pandas.core.frame.DataFrame'>\n"
          ]
        }
      ],
      "source": [
        "#understanding the data\n",
        "\n",
        "#print(df['type'])\n",
        "type_count=df.groupby('type').count()\n",
        "print(type_count['posts'])\n",
        "graph_data=pd.DataFrame(data=type_count['posts'])\n",
        "print(type(graph_data))\n",
        "#print(df['type'].count['INFP'])\n",
        "#type_count1=count1(type_count)"
      ]
    },
    {
      "cell_type": "code",
      "execution_count": 12,
      "metadata": {
        "colab": {
          "base_uri": "https://localhost:8080/"
        },
        "id": "U0g2vJSWJnyO",
        "outputId": "7a207924-f01a-46f2-8dd0-178ef952805e"
      },
      "outputs": [
        {
          "output_type": "execute_result",
          "data": {
            "text/plain": [
              "Index(['ENFJ', 'ENFP', 'ENTJ', 'ENTP', 'ESFJ', 'ESFP', 'ESTJ', 'ESTP', 'INFJ',\n",
              "       'INFP', 'INTJ', 'INTP', 'ISFJ', 'ISFP', 'ISTJ', 'ISTP'],\n",
              "      dtype='object', name='type')"
            ]
          },
          "metadata": {},
          "execution_count": 12
        }
      ],
      "source": [
        "#type_count.index\n",
        "\n",
        "type_count.index"
      ]
    },
    {
      "cell_type": "code",
      "execution_count": 13,
      "metadata": {
        "colab": {
          "base_uri": "https://localhost:8080/",
          "height": 1000
        },
        "id": "v3fMkl_0Jn2m",
        "outputId": "466ed796-13a8-48ef-86dd-1bceb114a405"
      },
      "outputs": [
        {
          "output_type": "execute_result",
          "data": {
            "text/plain": [
              "<Figure size 720x720 with 0 Axes>"
            ]
          },
          "metadata": {},
          "execution_count": 13
        },
        {
          "output_type": "execute_result",
          "data": {
            "text/plain": [
              "Text(0.5, 1.0, 'type')"
            ]
          },
          "metadata": {},
          "execution_count": 13
        },
        {
          "output_type": "execute_result",
          "data": {
            "text/plain": [
              "<BarContainer object of 16 artists>"
            ]
          },
          "metadata": {},
          "execution_count": 13
        },
        {
          "output_type": "execute_result",
          "data": {
            "text/plain": [
              "<Figure size 432x288 with 0 Axes>"
            ]
          },
          "metadata": {},
          "execution_count": 13
        },
        {
          "output_type": "execute_result",
          "data": {
            "text/plain": [
              "Text(0.5, 1.0, 'IE')"
            ]
          },
          "metadata": {},
          "execution_count": 13
        },
        {
          "output_type": "execute_result",
          "data": {
            "text/plain": [
              "([<matplotlib.patches.Wedge at 0x7efc20129450>,\n",
              "  <matplotlib.patches.Wedge at 0x7efc20129bd0>],\n",
              " [Text(-0.899054762267515, 0.794795907415295, 'I'),\n",
              "  Text(0.8990547622675148, -0.7947959074152952, 'E')],\n",
              " [Text(-0.524448611322717, 0.4636309459922554, '76.96%'),\n",
              "  Text(0.5244486113227169, -0.4636309459922555, '23.04%')])"
            ]
          },
          "metadata": {},
          "execution_count": 13
        },
        {
          "output_type": "execute_result",
          "data": {
            "text/plain": [
              "<Figure size 432x288 with 0 Axes>"
            ]
          },
          "metadata": {},
          "execution_count": 13
        },
        {
          "output_type": "execute_result",
          "data": {
            "text/plain": [
              "Text(0.5, 1.0, 'NS')"
            ]
          },
          "metadata": {},
          "execution_count": 13
        },
        {
          "output_type": "execute_result",
          "data": {
            "text/plain": [
              "([<matplotlib.patches.Wedge at 0x7efc200f4610>,\n",
              "  <matplotlib.patches.Wedge at 0x7efc200f4450>],\n",
              " [Text(-1.0890086642820251, 0.5040437769863642, 'N'),\n",
              "  Text(1.089008640686032, -0.504043827966538, 'S')],\n",
              " [Text(-0.6352550541645147, 0.29402553657537905, '86.20%'),\n",
              "  Text(0.6352550404001853, -0.2940255663138138, '13.80%')])"
            ]
          },
          "metadata": {},
          "execution_count": 13
        },
        {
          "output_type": "execute_result",
          "data": {
            "text/plain": [
              "<Figure size 432x288 with 0 Axes>"
            ]
          },
          "metadata": {},
          "execution_count": 13
        },
        {
          "output_type": "execute_result",
          "data": {
            "text/plain": [
              "Text(0.5, 1.0, 'TF')"
            ]
          },
          "metadata": {},
          "execution_count": 13
        },
        {
          "output_type": "execute_result",
          "data": {
            "text/plain": [
              "([<matplotlib.patches.Wedge at 0x7efc200be610>,\n",
              "  <matplotlib.patches.Wedge at 0x7efc200be550>],\n",
              " [Text(0.15449488710069137, 1.1900131637338072, 'T'),\n",
              "  Text(-0.15449499851776388, -1.1900131492689465, 'F')],\n",
              " [Text(0.0901220174754033, 0.6941743455113873, '45.89%'),\n",
              "  Text(-0.09012208246869559, -0.6941743370735521, '54.11%')])"
            ]
          },
          "metadata": {},
          "execution_count": 13
        },
        {
          "output_type": "execute_result",
          "data": {
            "text/plain": [
              "<Figure size 432x288 with 0 Axes>"
            ]
          },
          "metadata": {},
          "execution_count": 13
        },
        {
          "output_type": "execute_result",
          "data": {
            "text/plain": [
              "Text(0.5, 1.0, 'PJ')"
            ]
          },
          "metadata": {},
          "execution_count": 13
        },
        {
          "output_type": "execute_result",
          "data": {
            "text/plain": [
              "([<matplotlib.patches.Wedge at 0x7efc20089990>,\n",
              "  <matplotlib.patches.Wedge at 0x7efc20092090>],\n",
              " [Text(-0.3856674250212006, 1.1363364982598758, 'P'),\n",
              "  Text(0.3856675314126995, -1.1363364621510808, 'J')],\n",
              " [Text(-0.2249726645957003, 0.662862957318261, '60.41%'),\n",
              "  Text(0.224972726657408, -0.662862936254797, '39.59%')])"
            ]
          },
          "metadata": {},
          "execution_count": 13
        },
        {
          "output_type": "display_data",
          "data": {
            "text/plain": [
              "<Figure size 720x720 with 1 Axes>"
            ],
            "image/png": "[encoded data removed]"
          },
          "metadata": {
            "needs_background": "light"
          }
        },
        {
          "output_type": "display_data",
          "data": {
            "text/plain": [
              "<Figure size 432x288 with 1 Axes>"
            ],
            "image/png": "[encoded data removed]"
          },
          "metadata": {}
        },
        {
          "output_type": "display_data",
          "data": {
            "text/plain": [
              "<Figure size 432x288 with 1 Axes>"
            ],
            "image/png": "[encoded data removed]"
          },
          "metadata": {}
        },
        {
          "output_type": "display_data",
          "data": {
            "text/plain": [
              "<Figure size 432x288 with 1 Axes>"
            ],
            "image/png": "[encoded data removed]"
          },
          "metadata": {}
        },
        {
          "output_type": "display_data",
          "data": {
            "text/plain": [
              "<Figure size 432x288 with 1 Axes>"
            ],
            "image/png": "[encoded data removed]"
          },
          "metadata": {}
        }
      ],
      "source": [
        "#sns.barplot(x=\"type\",y=\"count\",data=graph_data)\n",
        "for column in df.columns:\n",
        "  if column !='posts':\n",
        "    type_new=df.groupby(column).count()\n",
        "    if column==\"type\":\n",
        "     \n",
        "      plt.figure(figsize=(10, 10))\n",
        "      plt.title(column)\n",
        "      plt.bar(x=type_new.index,height=type_new['posts'])\n",
        "    else:\n",
        "      plt.figure()\n",
        "      plt.title(column)\n",
        "\n",
        "      plt.pie(labels=[type_new.index.name[0],type_new.index.name[1]],x=type_new['posts'],explode=(0.1, 0.1, ), autopct='%1.2f%%')\n",
        "\n",
        "    #type_new['posts'].plot(kind=\"bar\")\n",
        "\n",
        "#As can be seen, the most common personality type is INFP"
      ]
    },
    {
      "cell_type": "code",
      "execution_count": 14,
      "metadata": {
        "colab": {
          "base_uri": "https://localhost:8080/"
        },
        "id": "agDwpNuwb-1j",
        "outputId": "175176a7-aae1-43c5-86e2-ef6f50be3caa"
      },
      "outputs": [
        {
          "output_type": "execute_result",
          "data": {
            "text/plain": [
              "Index(['type', 'posts', 'IE', 'NS', 'TF', 'PJ'], dtype='object')"
            ]
          },
          "metadata": {},
          "execution_count": 14
        }
      ],
      "source": [
        "df.columns"
      ]
    },
    {
      "cell_type": "markdown",
      "metadata": {
        "id": "4A4ttO8Fp8hd"
      },
      "source": [
        "#Removing stop words from the text"
      ]
    },
    {
      "cell_type": "code",
      "execution_count": 15,
      "metadata": {
        "id": "tNbv_GtRqDlY"
      },
      "outputs": [],
      "source": [
        " #nlp.Defaults.stop_words |= {\"my_new_stopword1\",\"my_new_stopword2\",}\n",
        "\n",
        "\n",
        "stopwords = STOP_WORDS\n",
        "nlp = spacy.load('en_core_web_sm')\n"
      ]
    },
    {
      "cell_type": "code",
      "execution_count": 16,
      "metadata": {
        "colab": {
          "base_uri": "https://localhost:8080/",
          "height": 0
        },
        "id": "VPTwgkX5b_W8",
        "outputId": "bf38c9bf-c9bf-409a-b996-1dfa583a80db"
      },
      "outputs": [
        {
          "output_type": "execute_result",
          "data": {
            "text/plain": [
              "      type                                              posts  IE  NS  TF  PJ\n",
              "0     INFJ  intj moment sportscenter play life change expe...   0   0   1   1\n",
              "1     ENTP  I find lack I post boring position example I g...   1   0   0   0\n",
              "2     INTP  good course I I know blessing absolutely posit...   0   0   0   0\n",
              "3     INTJ  Dear INTP I enjoy conversation day esoteric ga...   0   0   0   1\n",
              "4     ENTJ  silly misconception approach logically key unl...   1   0   0   1\n",
              "...    ...                                                ...  ..  ..  ..  ..\n",
              "8670  ISFP  I think cat Fi dom reason website haven neo na...   0   1   1   0\n",
              "8671  ENFP  thread exist someplace heck I delete I guess I...   1   0   1   0\n",
              "8672  INTP  question I thing I purple pill pick win lotter...   0   0   0   0\n",
              "8673  INFP  I conflict right come want child I honestly ma...   0   0   1   0\n",
              "8674  INFP  long I personalitycafe change bit I good like ...   0   0   1   0\n",
              "\n",
              "[8675 rows x 6 columns]"
            ],
            "text/html": [
              "\n",
              "  <div id=\"df-e689bde1-576b-4a8c-8021-095fd8f290bc\">\n",
              "    <div class=\"colab-df-container\">\n",
              "      <div>\n",
              "<style scoped>\n",
              "    .dataframe tbody tr th:only-of-type {\n",
              "        vertical-align: middle;\n",
              "    }\n",
              "\n",
              "    .dataframe tbody tr th {\n",
              "        vertical-align: top;\n",
              "    }\n",
              "\n",
              "    .dataframe thead th {\n",
              "        text-align: right;\n",
              "    }\n",
              "</style>\n",
              "<table border=\"1\" class=\"dataframe\">\n",
              "  <thead>\n",
              "    <tr style=\"text-align: right;\">\n",
              "      <th></th>\n",
              "      <th>type</th>\n",
              "      <th>posts</th>\n",
              "      <th>IE</th>\n",
              "      <th>NS</th>\n",
              "      <th>TF</th>\n",
              "      <th>PJ</th>\n",
              "    </tr>\n",
              "  </thead>\n",
              "  <tbody>\n",
              "    <tr>\n",
              "      <th>0</th>\n",
              "      <td>INFJ</td>\n",
              "      <td>intj moment sportscenter play life change expe...</td>\n",
              "      <td>0</td>\n",
              "      <td>0</td>\n",
              "      <td>1</td>\n",
              "      <td>1</td>\n",
              "    </tr>\n",
              "    <tr>\n",
              "      <th>1</th>\n",
              "      <td>ENTP</td>\n",
              "      <td>I find lack I post boring position example I g...</td>\n",
              "      <td>1</td>\n",
              "      <td>0</td>\n",
              "      <td>0</td>\n",
              "      <td>0</td>\n",
              "    </tr>\n",
              "    <tr>\n",
              "      <th>2</th>\n",
              "      <td>INTP</td>\n",
              "      <td>good course I I know blessing absolutely posit...</td>\n",
              "      <td>0</td>\n",
              "      <td>0</td>\n",
              "      <td>0</td>\n",
              "      <td>0</td>\n",
              "    </tr>\n",
              "    <tr>\n",
              "      <th>3</th>\n",
              "      <td>INTJ</td>\n",
              "      <td>Dear INTP I enjoy conversation day esoteric ga...</td>\n",
              "      <td>0</td>\n",
              "      <td>0</td>\n",
              "      <td>0</td>\n",
              "      <td>1</td>\n",
              "    </tr>\n",
              "    <tr>\n",
              "      <th>4</th>\n",
              "      <td>ENTJ</td>\n",
              "      <td>silly misconception approach logically key unl...</td>\n",
              "      <td>1</td>\n",
              "      <td>0</td>\n",
              "      <td>0</td>\n",
              "      <td>1</td>\n",
              "    </tr>\n",
              "    <tr>\n",
              "      <th>...</th>\n",
              "      <td>...</td>\n",
              "      <td>...</td>\n",
              "      <td>...</td>\n",
              "      <td>...</td>\n",
              "      <td>...</td>\n",
              "      <td>...</td>\n",
              "    </tr>\n",
              "    <tr>\n",
              "      <th>8670</th>\n",
              "      <td>ISFP</td>\n",
              "      <td>I think cat Fi dom reason website haven neo na...</td>\n",
              "      <td>0</td>\n",
              "      <td>1</td>\n",
              "      <td>1</td>\n",
              "      <td>0</td>\n",
              "    </tr>\n",
              "    <tr>\n",
              "      <th>8671</th>\n",
              "      <td>ENFP</td>\n",
              "      <td>thread exist someplace heck I delete I guess I...</td>\n",
              "      <td>1</td>\n",
              "      <td>0</td>\n",
              "      <td>1</td>\n",
              "      <td>0</td>\n",
              "    </tr>\n",
              "    <tr>\n",
              "      <th>8672</th>\n",
              "      <td>INTP</td>\n",
              "      <td>question I thing I purple pill pick win lotter...</td>\n",
              "      <td>0</td>\n",
              "      <td>0</td>\n",
              "      <td>0</td>\n",
              "      <td>0</td>\n",
              "    </tr>\n",
              "    <tr>\n",
              "      <th>8673</th>\n",
              "      <td>INFP</td>\n",
              "      <td>I conflict right come want child I honestly ma...</td>\n",
              "      <td>0</td>\n",
              "      <td>0</td>\n",
              "      <td>1</td>\n",
              "      <td>0</td>\n",
              "    </tr>\n",
              "    <tr>\n",
              "      <th>8674</th>\n",
              "      <td>INFP</td>\n",
              "      <td>long I personalitycafe change bit I good like ...</td>\n",
              "      <td>0</td>\n",
              "      <td>0</td>\n",
              "      <td>1</td>\n",
              "      <td>0</td>\n",
              "    </tr>\n",
              "  </tbody>\n",
              "</table>\n",
              "<p>8675 rows × 6 columns</p>\n",
              "</div>\n",
              "      <button class=\"colab-df-convert\" onclick=\"convertToInteractive('df-e689bde1-576b-4a8c-8021-095fd8f290bc')\"\n",
              "              title=\"Convert this dataframe to an interactive table.\"\n",
              "              style=\"display:none;\">\n",
              "        \n",
              "  <svg xmlns=\"http://www.w3.org/2000/svg\" height=\"24px\"viewBox=\"0 0 24 24\"\n",
              "       width=\"24px\">\n",
              "    <path d=\"M0 0h24v24H0V0z\" fill=\"none\"/>\n",
              "    <path d=\"M18.56 5.44l.94 2.06.94-2.06 2.06-.94-2.06-.94-.94-2.06-.94 2.06-2.06.94zm-11 1L8.5 8.5l.94-2.06 2.06-.94-2.06-.94L8.5 2.5l-.94 2.06-2.06.94zm10 10l.94 2.06.94-2.06 2.06-.94-2.06-.94-.94-2.06-.94 2.06-2.06.94z\"/><path d=\"M17.41 7.96l-1.37-1.37c-.4-.4-.92-.59-1.43-.59-.52 0-1.04.2-1.43.59L10.3 9.45l-7.72 7.72c-.78.78-.78 2.05 0 2.83L4 21.41c.39.39.9.59 1.41.59.51 0 1.02-.2 1.41-.59l7.78-7.78 2.81-2.81c.8-.78.8-2.07 0-2.86zM5.41 20L4 18.59l7.72-7.72 1.47 1.35L5.41 20z\"/>\n",
              "  </svg>\n",
              "      </button>\n",
              "      \n",
              "  <style>\n",
              "    .colab-df-container {\n",
              "      display:flex;\n",
              "      flex-wrap:wrap;\n",
              "      gap: 12px;\n",
              "    }\n",
              "\n",
              "    .colab-df-convert {\n",
              "      background-color: #E8F0FE;\n",
              "      border: none;\n",
              "      border-radius: 50%;\n",
              "      cursor: pointer;\n",
              "      display: none;\n",
              "      fill: #1967D2;\n",
              "      height: 32px;\n",
              "      padding: 0 0 0 0;\n",
              "      width: 32px;\n",
              "    }\n",
              "\n",
              "    .colab-df-convert:hover {\n",
              "      background-color: #E2EBFA;\n",
              "      box-shadow: 0px 1px 2px rgba(60, 64, 67, 0.3), 0px 1px 3px 1px rgba(60, 64, 67, 0.15);\n",
              "      fill: #174EA6;\n",
              "    }\n",
              "\n",
              "    [theme=dark] .colab-df-convert {\n",
              "      background-color: #3B4455;\n",
              "      fill: #D2E3FC;\n",
              "    }\n",
              "\n",
              "    [theme=dark] .colab-df-convert:hover {\n",
              "      background-color: #434B5C;\n",
              "      box-shadow: 0px 1px 3px 1px rgba(0, 0, 0, 0.15);\n",
              "      filter: drop-shadow(0px 1px 2px rgba(0, 0, 0, 0.3));\n",
              "      fill: #FFFFFF;\n",
              "    }\n",
              "  </style>\n",
              "\n",
              "      <script>\n",
              "        const buttonEl =\n",
              "          document.querySelector('#df-e689bde1-576b-4a8c-8021-095fd8f290bc button.colab-df-convert');\n",
              "        buttonEl.style.display =\n",
              "          google.colab.kernel.accessAllowed ? 'block' : 'none';\n",
              "\n",
              "        async function convertToInteractive(key) {\n",
              "          const element = document.querySelector('#df-e689bde1-576b-4a8c-8021-095fd8f290bc');\n",
              "          const dataTable =\n",
              "            await google.colab.kernel.invokeFunction('convertToInteractive',\n",
              "                                                     [key], {});\n",
              "          if (!dataTable) return;\n",
              "\n",
              "          const docLinkHtml = 'Like what you see? Visit the ' +\n",
              "            '<a target=\"_blank\" href=https://colab.research.google.com/notebooks/data_table.ipynb>data table notebook</a>'\n",
              "            + ' to learn more about interactive tables.';\n",
              "          element.innerHTML = '';\n",
              "          dataTable['output_type'] = 'display_data';\n",
              "          await google.colab.output.renderOutput(dataTable, element);\n",
              "          const docLink = document.createElement('div');\n",
              "          docLink.innerHTML = docLinkHtml;\n",
              "          element.appendChild(docLink);\n",
              "        }\n",
              "      </script>\n",
              "    </div>\n",
              "  </div>\n",
              "  "
            ]
          },
          "metadata": {},
          "execution_count": 16
        }
      ],
      "source": [
        "def preprocess(data):\n",
        "    doc = nlp(data, disable = ['ner', 'parser'])\n",
        "    lemmas = [token.lemma_ for token in doc]\n",
        "    #remove stopwords \n",
        "    lemm = [lemma for lemma in lemmas\n",
        "              if lemma.isalpha() and lemma not in stopwords ]\n",
        "    return ' ' .join(lemm)\n",
        "df['posts']=df['posts'].apply(preprocess)\n",
        "df"
      ]
    },
    {
      "cell_type": "code",
      "execution_count": 17,
      "metadata": {
        "colab": {
          "base_uri": "https://localhost:8080/",
          "height": 0
        },
        "id": "qrrwJKKlcwpF",
        "outputId": "b0875426-9b66-410e-c4c8-f0e15a778ca8"
      },
      "outputs": [
        {
          "output_type": "execute_result",
          "data": {
            "text/plain": [
              "                                                  posts\n",
              "0     intj moment sportscenter play life change expe...\n",
              "1     I find lack I post boring position example I g...\n",
              "2     good course I I know blessing absolutely posit...\n",
              "3     Dear INTP I enjoy conversation day esoteric ga...\n",
              "4     silly misconception approach logically key unl...\n",
              "...                                                 ...\n",
              "8670  I think cat Fi dom reason website haven neo na...\n",
              "8671  thread exist someplace heck I delete I guess I...\n",
              "8672  question I thing I purple pill pick win lotter...\n",
              "8673  I conflict right come want child I honestly ma...\n",
              "8674  long I personalitycafe change bit I good like ...\n",
              "\n",
              "[8675 rows x 1 columns]"
            ],
            "text/html": [
              "\n",
              "  <div id=\"df-75382017-2813-410e-bec7-f9e1f2cd8a66\">\n",
              "    <div class=\"colab-df-container\">\n",
              "      <div>\n",
              "<style scoped>\n",
              "    .dataframe tbody tr th:only-of-type {\n",
              "        vertical-align: middle;\n",
              "    }\n",
              "\n",
              "    .dataframe tbody tr th {\n",
              "        vertical-align: top;\n",
              "    }\n",
              "\n",
              "    .dataframe thead th {\n",
              "        text-align: right;\n",
              "    }\n",
              "</style>\n",
              "<table border=\"1\" class=\"dataframe\">\n",
              "  <thead>\n",
              "    <tr style=\"text-align: right;\">\n",
              "      <th></th>\n",
              "      <th>posts</th>\n",
              "    </tr>\n",
              "  </thead>\n",
              "  <tbody>\n",
              "    <tr>\n",
              "      <th>0</th>\n",
              "      <td>intj moment sportscenter play life change expe...</td>\n",
              "    </tr>\n",
              "    <tr>\n",
              "      <th>1</th>\n",
              "      <td>I find lack I post boring position example I g...</td>\n",
              "    </tr>\n",
              "    <tr>\n",
              "      <th>2</th>\n",
              "      <td>good course I I know blessing absolutely posit...</td>\n",
              "    </tr>\n",
              "    <tr>\n",
              "      <th>3</th>\n",
              "      <td>Dear INTP I enjoy conversation day esoteric ga...</td>\n",
              "    </tr>\n",
              "    <tr>\n",
              "      <th>4</th>\n",
              "      <td>silly misconception approach logically key unl...</td>\n",
              "    </tr>\n",
              "    <tr>\n",
              "      <th>...</th>\n",
              "      <td>...</td>\n",
              "    </tr>\n",
              "    <tr>\n",
              "      <th>8670</th>\n",
              "      <td>I think cat Fi dom reason website haven neo na...</td>\n",
              "    </tr>\n",
              "    <tr>\n",
              "      <th>8671</th>\n",
              "      <td>thread exist someplace heck I delete I guess I...</td>\n",
              "    </tr>\n",
              "    <tr>\n",
              "      <th>8672</th>\n",
              "      <td>question I thing I purple pill pick win lotter...</td>\n",
              "    </tr>\n",
              "    <tr>\n",
              "      <th>8673</th>\n",
              "      <td>I conflict right come want child I honestly ma...</td>\n",
              "    </tr>\n",
              "    <tr>\n",
              "      <th>8674</th>\n",
              "      <td>long I personalitycafe change bit I good like ...</td>\n",
              "    </tr>\n",
              "  </tbody>\n",
              "</table>\n",
              "<p>8675 rows × 1 columns</p>\n",
              "</div>\n",
              "      <button class=\"colab-df-convert\" onclick=\"convertToInteractive('df-75382017-2813-410e-bec7-f9e1f2cd8a66')\"\n",
              "              title=\"Convert this dataframe to an interactive table.\"\n",
              "              style=\"display:none;\">\n",
              "        \n",
              "  <svg xmlns=\"http://www.w3.org/2000/svg\" height=\"24px\"viewBox=\"0 0 24 24\"\n",
              "       width=\"24px\">\n",
              "    <path d=\"M0 0h24v24H0V0z\" fill=\"none\"/>\n",
              "    <path d=\"M18.56 5.44l.94 2.06.94-2.06 2.06-.94-2.06-.94-.94-2.06-.94 2.06-2.06.94zm-11 1L8.5 8.5l.94-2.06 2.06-.94-2.06-.94L8.5 2.5l-.94 2.06-2.06.94zm10 10l.94 2.06.94-2.06 2.06-.94-2.06-.94-.94-2.06-.94 2.06-2.06.94z\"/><path d=\"M17.41 7.96l-1.37-1.37c-.4-.4-.92-.59-1.43-.59-.52 0-1.04.2-1.43.59L10.3 9.45l-7.72 7.72c-.78.78-.78 2.05 0 2.83L4 21.41c.39.39.9.59 1.41.59.51 0 1.02-.2 1.41-.59l7.78-7.78 2.81-2.81c.8-.78.8-2.07 0-2.86zM5.41 20L4 18.59l7.72-7.72 1.47 1.35L5.41 20z\"/>\n",
              "  </svg>\n",
              "      </button>\n",
              "      \n",
              "  <style>\n",
              "    .colab-df-container {\n",
              "      display:flex;\n",
              "      flex-wrap:wrap;\n",
              "      gap: 12px;\n",
              "    }\n",
              "\n",
              "    .colab-df-convert {\n",
              "      background-color: #E8F0FE;\n",
              "      border: none;\n",
              "      border-radius: 50%;\n",
              "      cursor: pointer;\n",
              "      display: none;\n",
              "      fill: #1967D2;\n",
              "      height: 32px;\n",
              "      padding: 0 0 0 0;\n",
              "      width: 32px;\n",
              "    }\n",
              "\n",
              "    .colab-df-convert:hover {\n",
              "      background-color: #E2EBFA;\n",
              "      box-shadow: 0px 1px 2px rgba(60, 64, 67, 0.3), 0px 1px 3px 1px rgba(60, 64, 67, 0.15);\n",
              "      fill: #174EA6;\n",
              "    }\n",
              "\n",
              "    [theme=dark] .colab-df-convert {\n",
              "      background-color: #3B4455;\n",
              "      fill: #D2E3FC;\n",
              "    }\n",
              "\n",
              "    [theme=dark] .colab-df-convert:hover {\n",
              "      background-color: #434B5C;\n",
              "      box-shadow: 0px 1px 3px 1px rgba(0, 0, 0, 0.15);\n",
              "      filter: drop-shadow(0px 1px 2px rgba(0, 0, 0, 0.3));\n",
              "      fill: #FFFFFF;\n",
              "    }\n",
              "  </style>\n",
              "\n",
              "      <script>\n",
              "        const buttonEl =\n",
              "          document.querySelector('#df-75382017-2813-410e-bec7-f9e1f2cd8a66 button.colab-df-convert');\n",
              "        buttonEl.style.display =\n",
              "          google.colab.kernel.accessAllowed ? 'block' : 'none';\n",
              "\n",
              "        async function convertToInteractive(key) {\n",
              "          const element = document.querySelector('#df-75382017-2813-410e-bec7-f9e1f2cd8a66');\n",
              "          const dataTable =\n",
              "            await google.colab.kernel.invokeFunction('convertToInteractive',\n",
              "                                                     [key], {});\n",
              "          if (!dataTable) return;\n",
              "\n",
              "          const docLinkHtml = 'Like what you see? Visit the ' +\n",
              "            '<a target=\"_blank\" href=https://colab.research.google.com/notebooks/data_table.ipynb>data table notebook</a>'\n",
              "            + ' to learn more about interactive tables.';\n",
              "          element.innerHTML = '';\n",
              "          dataTable['output_type'] = 'display_data';\n",
              "          await google.colab.output.renderOutput(dataTable, element);\n",
              "          const docLink = document.createElement('div');\n",
              "          docLink.innerHTML = docLinkHtml;\n",
              "          element.appendChild(docLink);\n",
              "        }\n",
              "      </script>\n",
              "    </div>\n",
              "  </div>\n",
              "  "
            ]
          },
          "metadata": {},
          "execution_count": 17
        },
        {
          "output_type": "execute_result",
          "data": {
            "text/plain": [
              "      IE  NS  TF  PJ\n",
              "0      0   0   1   1\n",
              "1      1   0   0   0\n",
              "2      0   0   0   0\n",
              "3      0   0   0   1\n",
              "4      1   0   0   1\n",
              "...   ..  ..  ..  ..\n",
              "8670   0   1   1   0\n",
              "8671   1   0   1   0\n",
              "8672   0   0   0   0\n",
              "8673   0   0   1   0\n",
              "8674   0   0   1   0\n",
              "\n",
              "[8675 rows x 4 columns]"
            ],
            "text/html": [
              "\n",
              "  <div id=\"df-c701fd27-fc72-4a1f-8cde-a81a4b1a7902\">\n",
              "    <div class=\"colab-df-container\">\n",
              "      <div>\n",
              "<style scoped>\n",
              "    .dataframe tbody tr th:only-of-type {\n",
              "        vertical-align: middle;\n",
              "    }\n",
              "\n",
              "    .dataframe tbody tr th {\n",
              "        vertical-align: top;\n",
              "    }\n",
              "\n",
              "    .dataframe thead th {\n",
              "        text-align: right;\n",
              "    }\n",
              "</style>\n",
              "<table border=\"1\" class=\"dataframe\">\n",
              "  <thead>\n",
              "    <tr style=\"text-align: right;\">\n",
              "      <th></th>\n",
              "      <th>IE</th>\n",
              "      <th>NS</th>\n",
              "      <th>TF</th>\n",
              "      <th>PJ</th>\n",
              "    </tr>\n",
              "  </thead>\n",
              "  <tbody>\n",
              "    <tr>\n",
              "      <th>0</th>\n",
              "      <td>0</td>\n",
              "      <td>0</td>\n",
              "      <td>1</td>\n",
              "      <td>1</td>\n",
              "    </tr>\n",
              "    <tr>\n",
              "      <th>1</th>\n",
              "      <td>1</td>\n",
              "      <td>0</td>\n",
              "      <td>0</td>\n",
              "      <td>0</td>\n",
              "    </tr>\n",
              "    <tr>\n",
              "      <th>2</th>\n",
              "      <td>0</td>\n",
              "      <td>0</td>\n",
              "      <td>0</td>\n",
              "      <td>0</td>\n",
              "    </tr>\n",
              "    <tr>\n",
              "      <th>3</th>\n",
              "      <td>0</td>\n",
              "      <td>0</td>\n",
              "      <td>0</td>\n",
              "      <td>1</td>\n",
              "    </tr>\n",
              "    <tr>\n",
              "      <th>4</th>\n",
              "      <td>1</td>\n",
              "      <td>0</td>\n",
              "      <td>0</td>\n",
              "      <td>1</td>\n",
              "    </tr>\n",
              "    <tr>\n",
              "      <th>...</th>\n",
              "      <td>...</td>\n",
              "      <td>...</td>\n",
              "      <td>...</td>\n",
              "      <td>...</td>\n",
              "    </tr>\n",
              "    <tr>\n",
              "      <th>8670</th>\n",
              "      <td>0</td>\n",
              "      <td>1</td>\n",
              "      <td>1</td>\n",
              "      <td>0</td>\n",
              "    </tr>\n",
              "    <tr>\n",
              "      <th>8671</th>\n",
              "      <td>1</td>\n",
              "      <td>0</td>\n",
              "      <td>1</td>\n",
              "      <td>0</td>\n",
              "    </tr>\n",
              "    <tr>\n",
              "      <th>8672</th>\n",
              "      <td>0</td>\n",
              "      <td>0</td>\n",
              "      <td>0</td>\n",
              "      <td>0</td>\n",
              "    </tr>\n",
              "    <tr>\n",
              "      <th>8673</th>\n",
              "      <td>0</td>\n",
              "      <td>0</td>\n",
              "      <td>1</td>\n",
              "      <td>0</td>\n",
              "    </tr>\n",
              "    <tr>\n",
              "      <th>8674</th>\n",
              "      <td>0</td>\n",
              "      <td>0</td>\n",
              "      <td>1</td>\n",
              "      <td>0</td>\n",
              "    </tr>\n",
              "  </tbody>\n",
              "</table>\n",
              "<p>8675 rows × 4 columns</p>\n",
              "</div>\n",
              "      <button class=\"colab-df-convert\" onclick=\"convertToInteractive('df-c701fd27-fc72-4a1f-8cde-a81a4b1a7902')\"\n",
              "              title=\"Convert this dataframe to an interactive table.\"\n",
              "              style=\"display:none;\">\n",
              "        \n",
              "  <svg xmlns=\"http://www.w3.org/2000/svg\" height=\"24px\"viewBox=\"0 0 24 24\"\n",
              "       width=\"24px\">\n",
              "    <path d=\"M0 0h24v24H0V0z\" fill=\"none\"/>\n",
              "    <path d=\"M18.56 5.44l.94 2.06.94-2.06 2.06-.94-2.06-.94-.94-2.06-.94 2.06-2.06.94zm-11 1L8.5 8.5l.94-2.06 2.06-.94-2.06-.94L8.5 2.5l-.94 2.06-2.06.94zm10 10l.94 2.06.94-2.06 2.06-.94-2.06-.94-.94-2.06-.94 2.06-2.06.94z\"/><path d=\"M17.41 7.96l-1.37-1.37c-.4-.4-.92-.59-1.43-.59-.52 0-1.04.2-1.43.59L10.3 9.45l-7.72 7.72c-.78.78-.78 2.05 0 2.83L4 21.41c.39.39.9.59 1.41.59.51 0 1.02-.2 1.41-.59l7.78-7.78 2.81-2.81c.8-.78.8-2.07 0-2.86zM5.41 20L4 18.59l7.72-7.72 1.47 1.35L5.41 20z\"/>\n",
              "  </svg>\n",
              "      </button>\n",
              "      \n",
              "  <style>\n",
              "    .colab-df-container {\n",
              "      display:flex;\n",
              "      flex-wrap:wrap;\n",
              "      gap: 12px;\n",
              "    }\n",
              "\n",
              "    .colab-df-convert {\n",
              "      background-color: #E8F0FE;\n",
              "      border: none;\n",
              "      border-radius: 50%;\n",
              "      cursor: pointer;\n",
              "      display: none;\n",
              "      fill: #1967D2;\n",
              "      height: 32px;\n",
              "      padding: 0 0 0 0;\n",
              "      width: 32px;\n",
              "    }\n",
              "\n",
              "    .colab-df-convert:hover {\n",
              "      background-color: #E2EBFA;\n",
              "      box-shadow: 0px 1px 2px rgba(60, 64, 67, 0.3), 0px 1px 3px 1px rgba(60, 64, 67, 0.15);\n",
              "      fill: #174EA6;\n",
              "    }\n",
              "\n",
              "    [theme=dark] .colab-df-convert {\n",
              "      background-color: #3B4455;\n",
              "      fill: #D2E3FC;\n",
              "    }\n",
              "\n",
              "    [theme=dark] .colab-df-convert:hover {\n",
              "      background-color: #434B5C;\n",
              "      box-shadow: 0px 1px 3px 1px rgba(0, 0, 0, 0.15);\n",
              "      filter: drop-shadow(0px 1px 2px rgba(0, 0, 0, 0.3));\n",
              "      fill: #FFFFFF;\n",
              "    }\n",
              "  </style>\n",
              "\n",
              "      <script>\n",
              "        const buttonEl =\n",
              "          document.querySelector('#df-c701fd27-fc72-4a1f-8cde-a81a4b1a7902 button.colab-df-convert');\n",
              "        buttonEl.style.display =\n",
              "          google.colab.kernel.accessAllowed ? 'block' : 'none';\n",
              "\n",
              "        async function convertToInteractive(key) {\n",
              "          const element = document.querySelector('#df-c701fd27-fc72-4a1f-8cde-a81a4b1a7902');\n",
              "          const dataTable =\n",
              "            await google.colab.kernel.invokeFunction('convertToInteractive',\n",
              "                                                     [key], {});\n",
              "          if (!dataTable) return;\n",
              "\n",
              "          const docLinkHtml = 'Like what you see? Visit the ' +\n",
              "            '<a target=\"_blank\" href=https://colab.research.google.com/notebooks/data_table.ipynb>data table notebook</a>'\n",
              "            + ' to learn more about interactive tables.';\n",
              "          element.innerHTML = '';\n",
              "          dataTable['output_type'] = 'display_data';\n",
              "          await google.colab.output.renderOutput(dataTable, element);\n",
              "          const docLink = document.createElement('div');\n",
              "          docLink.innerHTML = docLinkHtml;\n",
              "          element.appendChild(docLink);\n",
              "        }\n",
              "      </script>\n",
              "    </div>\n",
              "  </div>\n",
              "  "
            ]
          },
          "metadata": {},
          "execution_count": 17
        }
      ],
      "source": [
        "X=pd.DataFrame(data=df['posts'])\n",
        "#X['posts']=df['posts']\n",
        "X\n",
        "Y=pd.DataFrame({'IE':df['IE'],'NS':df['NS'],'TF':df['TF'],'PJ':df['PJ']})\n",
        "Y"
      ]
    },
    {
      "cell_type": "code",
      "execution_count": 18,
      "metadata": {
        "id": "l6ExEq-2Onmk"
      },
      "outputs": [],
      "source": [
        "from sklearn.feature_extraction.text import TfidfVectorizer\n",
        "from sklearn.feature_extraction.text import CountVectorizer"
      ]
    },
    {
      "cell_type": "code",
      "execution_count": 19,
      "metadata": {
        "colab": {
          "base_uri": "https://localhost:8080/",
          "height": 0
        },
        "id": "VcOdxyIWOn0o",
        "outputId": "75e37746-e7d9-4d52-cead-091acdd5e3a6"
      },
      "outputs": [
        {
          "output_type": "execute_result",
          "data": {
            "text/plain": [
              "'intj moment sportscenter play life change experience repeat PerC Experience immerse thing infj friend post facebook commit suicide day rest sorry hear distress natural relationship perfection time moment existence try figure hard time time growth wp content RED red pokemon Game Set wellbrutin thirty minute leg I mean sit desk chair weed moderation maybe try edible healthy alternative come item determine type whichever type want likely use type cognitive function whatnot leave thing moderation sims video game good note good somewhat subjective I completely promote death Sim ENFP favorite video game grow current favorite video game appear late I think confidence good cherish time solitude b c I revel inner world time I workin enjoy I time worry people entp lady complimentary personality main social outlet xbox live conversation verbally fatigue I dig thread require high backyard roast eat marshmellow backyard converse intellectual follow massage b sentence think watch movie corner Health class clearly teach peer host baby deer leave right munching beetle middle use blood caveman diary today late happen designate cave diary wall I pokemon world infj society jul thing know desert mediawiki pokemon silver version d dd potw dp artist artist draw idea count form like robot rank person self esteem cuz I avid signature artist like room bed ya learn share thunder grumble kind storm old high school music I hear age fail public speak class year ago I sort learn I I position big failure overload like person mentality confirm INTJ way Denver area start new life'"
            ],
            "application/vnd.google.colaboratory.intrinsic+json": {
              "type": "string"
            }
          },
          "metadata": {},
          "execution_count": 19
        },
        {
          "output_type": "execute_result",
          "data": {
            "text/plain": [
              "0       intj moment sportscenter play life change expe...\n",
              "1       I find lack I post boring position example I g...\n",
              "2       good course I I know blessing absolutely posit...\n",
              "3       Dear INTP I enjoy conversation day esoteric ga...\n",
              "4       silly misconception approach logically key unl...\n",
              "                              ...                        \n",
              "8670    I think cat Fi dom reason website haven neo na...\n",
              "8671    thread exist someplace heck I delete I guess I...\n",
              "8672    question I thing I purple pill pick win lotter...\n",
              "8673    I conflict right come want child I honestly ma...\n",
              "8674    long I personalitycafe change bit I good like ...\n",
              "Name: posts, Length: 8675, dtype: object"
            ]
          },
          "metadata": {},
          "execution_count": 19
        }
      ],
      "source": [
        "cv = CountVectorizer(max_features=7000,ngram_range=(1,3))\n",
        "X['posts'][0]\n",
        "featurized = cv.fit_transform(X['posts']).toarray()\n",
        "X['posts']"
      ]
    },
    {
      "cell_type": "code",
      "execution_count": 20,
      "metadata": {
        "colab": {
          "base_uri": "https://localhost:8080/"
        },
        "id": "-cNlIR4pOn2a",
        "outputId": "fc51625f-ded6-42d8-e1bd-480d02922946"
      },
      "outputs": [
        {
          "output_type": "execute_result",
          "data": {
            "text/plain": [
              "(8675, 7000)"
            ]
          },
          "metadata": {},
          "execution_count": 20
        }
      ],
      "source": [
        "featurized.shape"
      ]
    },
    {
      "cell_type": "code",
      "execution_count": 21,
      "metadata": {
        "colab": {
          "base_uri": "https://localhost:8080/"
        },
        "id": "6mNZyxfPOn7C",
        "outputId": "077e0a07-4ecc-40a4-beb8-347f809feb43"
      },
      "outputs": [
        {
          "output_type": "stream",
          "name": "stdout",
          "text": [
            "['abandon', 'ability', 'able', 'able find', 'abnormal', 'abortion', 'abroad', 'absence', 'absent', 'absolute', 'absolutely', 'absolutely hate', 'absolutely love', 'absorb', 'abstract', 'absurd', 'abuse', 'abusive', 'academic', 'accent', 'accept', 'acceptable', 'acceptance', 'access', 'accident', 'accidentally', 'accompany', 'accomplish', 'accomplishment', 'accord', 'account', 'accuracy', 'accurate', 'accurately', 'accuse', 'ace', 'achieve', 'achievement', 'acid', 'acknowledge', 'acquaintance', 'acquire', 'act', 'act like', 'act way', 'action', 'active', 'actively', 'activity', 'actor', 'actress', 'actual', 'actually', 'actually care', 'actually enjoy', 'actually feel', 'actually find', 'actually good', 'actually kind', 'actually know', 'actually like', 'actually look', 'actually lot', 'actually love', 'actually mean', 'actually pretty', 'actually read', 'actually start', 'actually talk', 'actually think', 'actually try', 'actually use', 'actually want', 'actually work', 'ad', 'adam', 'adapt', 'add', 'addict', 'addiction', 'addictive', 'addition', 'additional', 'address', 'adhd', 'adjust', 'admin', 'admirable', 'admire', 'admit', 'admittedly', 'adopt', 'adorable', 'adore', 'adrenaline', 'adult', 'advance', 'advanced', 'advantage', 'adventure', 'adventurous', 'advice', 'advise', 'advocate', 'aesthetic', 'affair', 'affect', 'affect way', 'affect way answer', 'affection', 'affectionate', 'affirmation', 'afford', 'afraid', 'africa', 'afternoon', 'age', 'agenda', 'agent', 'aggression', 'aggressive', 'agnostic', 'ago', 'ago think', 'agree', 'agree completely', 'agree like', 'agree lot', 'agree people', 'agree point', 'agree think', 'agreement', 'ah', 'ahead', 'ai', 'aid', 'aim', 'air', 'ak', 'aka', 'al', 'alarm', 'alas', 'albeit', 'albert', 'album', 'alcohol', 'alcoholic', 'alert', 'algebra', 'alice', 'alien', 'align', 'alignment', 'alike', 'alive', 'allergic', 'allow', 'aloof', 'alot', 'alpha', 'alright', 'alter', 'alternate', 'alternative', 'altogether', 'amaze', 'amazing', 'amazingly', 'amazon', 'ambiguous', 'ambition', 'ambitious', 'ambivert', 'america', 'american', 'americans', 'amuse', 'amusement', 'amusing', 'amy', 'analogy', 'analyse', 'analysis', 'analytical', 'analyze', 'ancient', 'androgynous', 'angel', 'anger', 'angle', 'angry', 'animal', 'animate', 'animation', 'anime', 'anna', 'anne', 'annoy', 'annoy people', 'annoyance', 'annoyed', 'annoying', 'anonymous', 'answer', 'answer like', 'answer question', 'answer question example', 'answer think', 'answer yes', 'ant', 'anti', 'anticipate', 'antisocial', 'anxiety', 'anxiety disorder', 'anxious', 'anybody', 'anymore', 'anytime', 'anyways', 'ap', 'apart', 'apartment', 'apathetic', 'apathy', 'apocalypse', 'apologise', 'apologize', 'apology', 'app', 'apparent', 'apparently', 'appeal', 'appear', 'appearance', 'apple', 'applicable', 'application', 'apply', 'appointment', 'appreciate', 'appreciation', 'approach', 'appropriate', 'approval', 'approve', 'april', 'aquarius', 'arbitrary', 'archetype', 'architecture', 'area', 'argue', 'argument', 'argumentative', 'arise', 'arm', 'army', 'arrange', 'arrive', 'arrogance', 'arrogant', 'art', 'article', 'articulate', 'artist', 'artistic', 'artsy', 'artwork', 'asexual', 'ashamed', 'asian', 'aside', 'ask', 'ask advice', 'ask feel', 'ask friend', 'ask help', 'ask know', 'ask like', 'ask people', 'ask question', 'ask think', 'ask want', 'asleep', 'aspect', 'aspect personality', 'aspect personality unsure', 'asperger', 'aspie', 'aspire', 'ass', 'assert', 'assertion', 'assertive', 'assess', 'assessment', 'asshole', 'assign', 'assignment', 'assistant', 'associate', 'association', 'assume', 'assumption', 'assure', 'astrology', 'atheism', 'atheist', 'athletic', 'atleast', 'atm', 'atmosphere', 'attach', 'attachment', 'attack', 'attempt', 'attend', 'attention', 'attention span', 'attitude', 'attract', 'attraction', 'attractive', 'attribute', 'audience', 'audio', 'auditory', 'august', 'aunt', 'aura', 'australia', 'australian', 'authentic', 'authenticity', 'author', 'authority', 'autism', 'autistic', 'auto', 'automatic', 'automatically', 'autumn', 'aux', 'auxiliary', 'available', 'avatar', 'average', 'avoid', 'avoidance', 'avoidant', 'aw', 'awake', 'aware', 'awareness', 'away', 'away think', 'awe', 'awesome', 'awesomeness', 'awful', 'awhile', 'awkward', 'awkwardly', 'awkwardness', 'aww', 'axis', 'baby', 'bachelor', 'background', 'backwards', 'bacon', 'bad', 'bad bad', 'bad day', 'bad experience', 'bad feel', 'bad guy', 'bad habit', 'bad happen', 'bad idea', 'bad know', 'bad like', 'bad people', 'bad person', 'bad thing', 'bad think', 'bad time', 'bad way', 'badass', 'badly', 'baffle', 'bag', 'bake', 'balance', 'balanced', 'ball', 'ban', 'banana', 'band', 'bang', 'bank', 'banter', 'bar', 'bare', 'barely', 'barrier', 'base', 'base experience', 'baseball', 'basement', 'bash', 'basic', 'basically', 'basis', 'basketball', 'bass', 'bastard', 'bat', 'bath', 'bathroom', 'batman', 'battery', 'battle', 'bbc', 'bc', 'beach', 'bean', 'bear', 'beard', 'beast', 'beat', 'beatles', 'beautiful', 'beautifully', 'beauty', 'bed', 'bedroom', 'bee', 'beer', 'befriend', 'beg', 'begin', 'beginning', 'behave', 'behave like', 'behavior', 'behavioral', 'behaviour', 'belief', 'believe', 'believe god', 'believe good', 'believe know', 'believe people', 'believe thing', 'believe think', 'believer', 'bell', 'belle', 'belong', 'belt', 'ben', 'bend', 'beneath', 'beneficial', 'benefit', 'best', 'bet', 'beta', 'betray', 'bf', 'bi', 'bias', 'biased', 'bible', 'big', 'big bang', 'big deal', 'big difference', 'big fan', 'big picture', 'big problem', 'big thing', 'bike', 'bill', 'billion', 'bind', 'binge', 'biological', 'biology', 'bipolar', 'bird', 'birth', 'birthday', 'bisexual', 'bit', 'bit like', 'bit think', 'bitch', 'bite', 'bitter', 'bizarre', 'black', 'black white', 'blah', 'blah blah', 'blame', 'blank', 'blanket', 'blast', 'bleed', 'blend', 'bless', 'blessing', 'blind', 'blindly', 'block', 'blog', 'blonde', 'blood', 'bloody', 'blow', 'blue', 'blunt', 'blush', 'board', 'boat', 'bob', 'body', 'body language', 'boil', 'bold', 'bolde', 'bomb', 'bond', 'bone', 'bonus', 'boob', 'book', 'book like', 'book movie', 'book read', 'book think', 'bookstore', 'boost', 'boot', 'border', 'borderline', 'bore', 'bored', 'boredom', 'boring', 'borrow', 'boss', 'bossy', 'bother', 'bottle', 'bounce', 'boundary', 'bout', 'bow', 'bowl', 'box', 'boy', 'boyfriend', 'brag', 'brain', 'brainstorm', 'branch', 'brand', 'brave', 'bread', 'break', 'break heart', 'breakdown', 'breakfast', 'breakup', 'breath', 'breathe', 'breed', 'brick', 'bridge', 'brief', 'briefly', 'briggs', 'briggs type', 'bright', 'brilliant', 'bring', 'british', 'bro', 'broad', 'brother', 'brown', 'browse', 'browser', 'brush', 'brutal', 'bs', 'btw', 'bubble', 'bubbly', 'bucket', 'bud', 'buddhism', 'buddhist', 'buddy', 'budget', 'bug', 'build', 'building', 'bull', 'bullet', 'bullshit', 'bully', 'bum', 'bump', 'bunch', 'bunch people', 'bunny', 'burden', 'burn', 'burst', 'bury', 'bus', 'bush', 'business', 'bust', 'busy', 'butt', 'butter', 'butterfly', 'button', 'buy', 'buzz', 'bye', 'cache', 'cafe', 'caffeine', 'cage', 'cake', 'calculate', 'calculus', 'california', 'calm', 'camera', 'camp', 'camping', 'campus', 'canada', 'canadian', 'cancel', 'cancer', 'candidate', 'candle', 'candy', 'cap', 'capability', 'capable', 'capacity', 'capital', 'capitalism', 'captain', 'capture', 'car', 'card', 'care', 'care care', 'care feel', 'care like', 'care lot', 'care people', 'care think', 'career', 'careful', 'carefully', 'caring', 'carl', 'carry', 'cartoon', 'case', 'case think', 'cash', 'cast', 'castle', 'casual', 'casual sex', 'casually', 'cat', 'catch', 'categorize', 'category', 'catholic', 'cause', 'cause problem', 'cautious', 'cave', 'cd', 'cease', 'celebrate', 'celebrity', 'cell', 'cell phone', 'cent', 'center', 'central', 'centre', 'century', 'certain', 'certain people', 'certain situation', 'certain thing', 'certain type', 'certain way', 'certainly', 'certainty', 'chain', 'chair', 'challenge', 'chameleon', 'chance', 'change', 'change life', 'change like', 'change mind', 'change thing', 'change think', 'change time', 'change type', 'change world', 'channel', 'chaos', 'chaotic', 'chapter', 'character', 'character like', 'characteristic', 'charge', 'charismatic', 'charity', 'charlie', 'charm', 'charming', 'chart', 'chase', 'chat', 'cheap', 'cheat', 'check', 'cheek', 'cheer', 'cheerful', 'cheese', 'cheesy', 'chemical', 'chemistry', 'chess', 'chest', 'chew', 'chicago', 'chick', 'chicken', 'child', 'child like', 'childhood', 'childish', 'childlike', 'chill', 'chime', 'china', 'chinese', 'chip', 'chocolate', 'choice', 'choke', 'choose', 'chord', 'chore', 'chris', 'christ', 'christian', 'christianity', 'christians', 'christmas', 'chronic', 'chuck', 'chuckle', 'church', 'cigarette', 'circle', 'circumstance', 'circumstance useful', 'circumstance useful information', 'citizen', 'city', 'civil', 'civilization', 'claim', 'clarification', 'clarify', 'clarity', 'clash', 'class', 'classic', 'classical', 'classical music', 'classify', 'classmate', 'classroom', 'classy', 'clean', 'clear', 'clearly', 'clever', 'cliche', 'click', 'client', 'cliff', 'climb', 'clingy', 'clinical', 'clip', 'clock', 'clone', 'close', 'close friend', 'close minded', 'close people', 'close relationship', 'close think', 'closely', 'closet', 'closure', 'clothe', 'clothing', 'cloud', 'clown', 'club', 'clue', 'clueless', 'clumsy', 'co', 'co worker', 'coast', 'coaster', 'coat', 'cocky', 'code', 'coffee', 'coffee shop', 'cognition', 'cognitive', 'cognitive function', 'cognitive function test', 'coin', 'coincidence', 'coke', 'cold', 'collage', 'collapse', 'colleague', 'collect', 'collection', 'collective', 'college', 'color', 'colorful', 'colour', 'combat', 'combination', 'combine', 'combo', 'come', 'come ask', 'come close', 'come conclusion', 'come feel', 'come good', 'come home', 'come know', 'come like', 'come love', 'come mind', 'come naturally', 'come people', 'come realize', 'come right', 'come term', 'come thing', 'come think', 'come time', 'come way', 'comedian', 'comedy', 'comfort', 'comfort zone', 'comfortable', 'comic', 'command', 'comment', 'commercial', 'commit', 'commitment', 'common', 'common sense', 'commonly', 'communicate', 'communication', 'communist', 'community', 'companion', 'company', 'compare', 'comparison', 'compassion', 'compassionate', 'compatibility', 'compatible', 'compel', 'compensate', 'compete', 'competent', 'competition', 'competitive', 'complain', 'complaint', 'complement', 'complete', 'complete opposite', 'completely', 'completely agree', 'completely different', 'completely understand', 'complex', 'complexity', 'complicate', 'complicated', 'compliment', 'component', 'compose', 'comprehend', 'compromise', 'computer', 'computer science', 'con', 'concentrate', 'concentration', 'concept', 'concern', 'concerned', 'concert', 'concise', 'conclude', 'conclusion', 'concrete', 'condescend', 'condition', 'conduct', 'confess', 'confession', 'confidence', 'confident', 'confirm', 'confirmation', 'conflict', 'conform', 'confront', 'confrontation', 'confrontational', 'confuse', 'confused', 'confusing', 'confusion', 'congrat', 'congratulation', 'connect', 'connect people', 'connection', 'conquer', 'conscience', 'conscious', 'consciously', 'consciousness', 'consensus', 'consequence', 'conservative', 'consider', 'consider good', 'considerate', 'consideration', 'consist', 'consistency', 'consistent', 'consistently', 'console', 'conspiracy', 'constant', 'constantly', 'construct', 'constructive', 'consume', 'contact', 'contain', 'contemplate', 'content', 'contest', 'context', 'continually', 'continue', 'contract', 'contradict', 'contradiction', 'contradictory', 'contrary', 'contrast', 'contribute', 'contribution', 'control', 'controversial', 'convenience', 'convention', 'conventional', 'conversation', 'conversation like', 'conversation people', 'converse', 'convert', 'convey', 'conviction', 'convince', 'cook', 'cookie', 'cooking', 'cool', 'cool like', 'cool people', 'cop', 'cope', 'copy', 'copy paste', 'core', 'corner', 'corporate', 'correct', 'correctly', 'correlate', 'correlation', 'correspond', 'corrupt', 'cos', 'cost', 'costume', 'couch', 'cough', 'counsel', 'counseling', 'counselor', 'count', 'counter', 'countless', 'country', 'couple', 'couple day', 'couple month', 'couple time', 'couple week', 'couple year', 'couple year ago', 'courage', 'course', 'court', 'cousin', 'cover', 'cow', 'coworker', 'coz', 'crack', 'craft', 'crap', 'crappy', 'crash', 'crave', 'crawl', 'crazy', 'cream', 'create', 'create thread', 'creation', 'creative', 'creativity', 'creator', 'creature', 'credit', 'creep', 'creepy', 'crime', 'criminal', 'cringe', 'crisis', 'criterion', 'critical', 'criticism', 'criticize', 'critique', 'cross', 'crowd', 'cruel', 'crush', 'cry', 'crystal', 'cube', 'cuddle', 'cuddly', 'cue', 'cult', 'cultural', 'culture', 'cup', 'cure', 'curiosity', 'curious', 'curious know', 'curl', 'current', 'currently', 'currently work', 'curse', 'curve', 'customer', 'cut', 'cute', 'cuz', 'cycle', 'cynical', 'da', 'dabble', 'dad', 'dad intj', 'dad istj', 'daily', 'daily basis', 'damage', 'damn', 'dan', 'dance', 'dancing', 'dang', 'danger', 'dangerous', 'dare', 'dark', 'darkness', 'darn', 'dat', 'date', 'date guy', 'date infj', 'date intj', 'date site', 'datum', 'daughter', 'david', 'dawn', 'day', 'day ago', 'day come', 'day day', 'day dream', 'day feel', 'day know', 'day life', 'day like', 'day long', 'day think', 'day time', 'day want', 'day week', 'day work', 'daydream', 'dc', 'de', 'dead', 'deadline', 'deal', 'deal people', 'dear', 'death', 'death note', 'debate', 'debt', 'decade', 'december', 'decent', 'decide', 'decide want', 'decision', 'decision base', 'decisive', 'declare', 'decline', 'decorate', 'dedicate', 'deem', 'deep', 'deep conversation', 'deep level', 'deep think', 'deeply', 'def', 'default', 'defeat', 'defend', 'defense', 'defensive', 'definately', 'define', 'definite', 'definitely', 'definitely agree', 'definitely feel', 'definitely like', 'definitely need', 'definitely relate', 'definitely think', 'definition', 'definitive', 'degree', 'delay', 'delete', 'deliberately', 'delicious', 'deliver', 'delve', 'demand', 'demeanor', 'demon', 'demonstrate', 'denial', 'deny', 'department', 'depend', 'depend mood', 'depend person', 'depend situation', 'dependent', 'depress', 'depressed', 'depression', 'depressive', 'deprive', 'depth', 'derail', 'derive', 'describe', 'description', 'description fit', 'desert', 'deserve', 'design', 'designer', 'desire', 'desk', 'desktop', 'despair', 'desperate', 'desperately', 'despise', 'despite', 'destiny', 'destroy', 'destructive', 'detach', 'detail', 'detailed', 'detect', 'detective', 'determine', 'determine type', 'develop', 'developer', 'development', 'device', 'devil', 'devote', 'dexter', 'diagnose', 'diagnosis', 'dialogue', 'diary', 'dichotomy', 'dick', 'dictate', 'dictionary', 'die', 'diet', 'differ', 'difference', 'different', 'different kind', 'different people', 'different person', 'different personality', 'different perspective', 'different thing', 'different think', 'different time', 'different type', 'different way', 'differentiate', 'differently', 'difficult', 'difficult time', 'difficulty', 'dig', 'digital', 'dilemma', 'dimension', 'dinner', 'direct', 'direction', 'directly', 'director', 'dirt', 'dirty', 'disagree', 'disagreement', 'disappear', 'disappoint', 'disappointed', 'disappointment', 'disaster', 'discern', 'discipline', 'disclaimer', 'discomfort', 'disconnect', 'discourage', 'discover', 'discovery', 'discuss', 'discussion', 'disease', 'disguise', 'disgust', 'disgusting', 'dish', 'dislike', 'dismiss', 'disney', 'disorder', 'display', 'disregard', 'disrespect', 'distance', 'distance relationship', 'distant', 'distinct', 'distinction', 'distinguish', 'distract', 'distraction', 'distress', 'disturb', 'dive', 'diverse', 'divide', 'divine', 'divorce', 'doctor', 'document', 'documentary', 'dog', 'doll', 'dollar', 'dom', 'dominance', 'dominant', 'dominant function', 'dominate', 'domination', 'don', 'donald', 'donate', 'doodle', 'doom', 'door', 'door slam', 'dorm', 'dose', 'dot', 'double', 'double post', 'doubt', 'douche', 'download', 'dozen', 'dr', 'drag', 'dragon', 'drain', 'drama', 'dramatic', 'draw', 'drawing', 'dread', 'dream', 'dream dream', 'dream like', 'dream night', 'dreamer', 'dreamy', 'dress', 'drift', 'drink', 'drinking', 'drive', 'drive crazy', 'driver', 'drop', 'drown', 'drug', 'drum', 'drunk', 'dry', 'dual', 'duality', 'dubstep', 'duck', 'dude', 'duh', 'dull', 'dumb', 'dump', 'dunno', 'dust', 'dutch', 'duty', 'dvd', 'dwell', 'dye', 'dynamic', 'eachother', 'eager', 'ear', 'early', 'earn', 'earth', 'ease', 'easily', 'east', 'eastern', 'easy', 'easy way', 'eat', 'eccentric', 'echo', 'economic', 'economy', 'ect', 'ed', 'edge', 'edit', 'edit post', 'educate', 'education', 'educational', 'effect', 'effective', 'effectively', 'efficiency', 'efficient', 'efficiently', 'effort', 'eg', 'egg', 'ego', 'eh', 'einstein', 'elaborate', 'eld', 'election', 'electric', 'electronic', 'element', 'elementary', 'elementary school', 'elephant', 'eliminate', 'em', 'email', 'embarrass', 'embarrassed', 'embarrassing', 'embrace', 'emma', 'emo', 'emoticon', 'emotion', 'emotion feel', 'emotion like', 'emotion think', 'emotional', 'emotional connection', 'emotionally', 'empathetic', 'empathize', 'empathy', 'emphasis', 'emphasize', 'empire', 'employ', 'employee', 'employer', 'en', 'enable', 'encounter', 'encourage', 'encouragement', 'encyclopedia', 'end', 'end day', 'end feel', 'end like', 'end relationship', 'endear', 'endless', 'endure', 'enemy', 'energetic', 'energize', 'energy', 'enfj', 'enfj friend', 'enfj infj', 'enfj know', 'enfj think', 'enfp', 'enfp enfj', 'enfp entp', 'enfp forum', 'enfp friend', 'enfp good', 'enfp infj', 'enfp infp', 'enfp intj', 'enfp know', 'enfp like', 'enfp love', 'enfp think', 'enfps', 'engage', 'engine', 'engineer', 'engineering', 'england', 'english', 'english language', 'enhance', 'enjoy', 'enjoy company', 'enjoy life', 'enjoy read', 'enjoy stay', 'enjoy time', 'enjoyable', 'enjoyment', 'enlighten', 'enneagram', 'enneagram test', 'enneagram type', 'enneatype', 'enormous', 'ensure', 'enter', 'entertain', 'entertaining', 'entertainment', 'enthusiasm', 'enthusiastic', 'entire', 'entire life', 'entirely', 'entirely sure', 'entirety', 'entitle', 'entity', 'entj', 'entj friend', 'entj intj', 'entj know', 'entj like', 'entj think', 'entp', 'entp enfp', 'entp entp', 'entp friend', 'entp good', 'entp infj', 'entp intj', 'entp intp', 'entp know', 'entp like', 'entp love', 'entp think', 'entps', 'entry', 'environment', 'environmental', 'envy', 'enxp', 'epic', 'episode', 'equal', 'equality', 'equally', 'equate', 'equation', 'equivalent', 'er', 'era', 'erase', 'error', 'es', 'escape', 'esfj', 'esfp', 'esp', 'especially', 'especially come', 'especially like', 'especially people', 'essay', 'essence', 'essential', 'essentially', 'establish', 'esteem', 'estj', 'estp', 'esxp', 'etc', 'etc etc', 'etc like', 'etc think', 'eternal', 'ethic', 'ethical', 'europe', 'european', 'evaluate', 'eve', 'evening', 'event', 'eventually', 'everybody', 'everyday', 'everytime', 'evidence', 'evil', 'evolution', 'evolve', 'ex', 'exact', 'exact opposite', 'exact thing', 'exact way', 'exactly', 'exactly feel', 'exactly like', 'exactly mean', 'exactly think', 'exactly want', 'exactly way', 'exaggerate', 'exam', 'examine', 'example', 'example stressful', 'example stressful time', 'example think', 'excel', 'excellent', 'exception', 'exceptionally', 'excessive', 'exchange', 'excite', 'excited', 'excitement', 'exciting', 'exclude', 'exclusive', 'exclusively', 'excuse', 'execute', 'exercise', 'exfj', 'exfp', 'exhaust', 'exhibit', 'exist', 'existence', 'existential', 'exit', 'expand', 'expect', 'expect people', 'expectation', 'expense', 'expensive', 'experience', 'experience feel', 'experience know', 'experience life', 'experience like', 'experience people', 'experience thing', 'experience think', 'experiment', 'experimental', 'expert', 'explain', 'explain thing', 'explain think', 'explanation', 'explicitly', 'explode', 'exploration', 'explore', 'explosion', 'expose', 'exposure', 'express', 'express emotion', 'express feel', 'express feeling', 'expression', 'expressive', 'extend', 'extension', 'extensive', 'extent', 'exterior', 'external', 'externally', 'extra', 'extraversion', 'extravert', 'extraverte', 'extraverted', 'extreme', 'extremely', 'extroversion', 'extrovert', 'extroverte', 'extroverted', 'eye', 'eye contact', 'eye eye', 'eyebrow', 'facade', 'face', 'face face', 'facebook', 'facial', 'facial expression', 'fact', 'fact know', 'fact like', 'fact people', 'fact think', 'factor', 'factual', 'fade', 'fail', 'failure', 'fair', 'fairly', 'fairy', 'faith', 'fake', 'fall', 'fall asleep', 'fall love', 'fallacy', 'false', 'familiar', 'family', 'family friend', 'family member', 'famous', 'fan', 'fancy', 'fantasize', 'fantastic', 'fantasy', 'far', 'far away', 'far know', 'far think', 'farm', 'fart', 'fascinate', 'fascinating', 'fascination', 'fashion', 'fast', 'fat', 'fate', 'father', 'fault', 'fav', 'favor', 'favorite', 'favorite color', 'favorite movie', 'favorite song', 'favorite thing', 'favour', 'favourite', 'fb', 'fe', 'fe dom', 'fe fi', 'fe ni', 'fe se', 'fe si', 'fe te', 'fe ti', 'fe user', 'fear', 'feature', 'feed', 'feedback', 'feel', 'feel awkward', 'feel bad', 'feel bit', 'feel certain', 'feel close', 'feel come', 'feel comfortable', 'feel compel', 'feel completely', 'feel different', 'feel emotion', 'feel exactly', 'feel feel', 'feel free', 'feel good', 'feel great', 'feel guilty', 'feel happy', 'feel hurt', 'feel kind', 'feel know', 'feel like', 'feel like know', 'feel like need', 'feel like people', 'feel like want', 'feel little', 'feel lonely', 'feel lose', 'feel lot', 'feel love', 'feel need', 'feel pain', 'feel people', 'feel person', 'feel pretty', 'feel right', 'feel sad', 'feel safe', 'feel sorry', 'feel special', 'feel strong', 'feel strongly', 'feel thing', 'feel think', 'feel time', 'feel type', 'feel uncomfortable', 'feel understand', 'feel want', 'feel way', 'feel weird', 'feeler', 'feeling', 'feeling feel', 'feeling know', 'feeling like', 'feeling think', 'feely', 'fellow', 'fellow infj', 'fellow infp', 'female', 'female friend', 'female intj', 'feminine', 'feminism', 'feminist', 'fence', 'festival', 'fi', 'fi dom', 'fi dominant', 'fi fe', 'fi ne', 'fi se', 'fi te', 'fi ti', 'fi user', 'fiance', 'fiction', 'fictional', 'fictional character', 'field', 'fight', 'fight club', 'fighter', 'figure', 'figure thing', 'figure type', 'file', 'fill', 'film', 'filter', 'final', 'final fantasy', 'finally', 'finance', 'financial', 'financially', 'find', 'find answer', 'find attractive', 'find difficult', 'find easy', 'find feel', 'find friend', 'find funny', 'find good', 'find hard', 'find infj', 'find infp', 'find interesting', 'find intj', 'find intp', 'find job', 'find know', 'find like', 'find look', 'find lot', 'find love', 'find new', 'find people', 'find person', 'find place', 'find post', 'find right', 'find thing', 'find think', 'find thread', 'find time', 'find true', 'find type', 'find want', 'find way', 'find work', 'fine', 'finger', 'finish', 'fire', 'firm', 'firmly', 'first', 'firstly', 'fish', 'fist', 'fit', 'fitting', 'fix', 'fj', 'flag', 'flame', 'flash', 'flat', 'flatter', 'flavor', 'flaw', 'flesh', 'flexible', 'flight', 'flip', 'flirt', 'flirty', 'float', 'flood', 'floor', 'flow', 'flower', 'fluent', 'fluffy', 'fluid', 'fly', 'focus', 'fold', 'folk', 'follow', 'follow rule', 'follower', 'fond', 'font', 'food', 'fool', 'foolish', 'foot', 'football', 'force', 'foreign', 'foremost', 'forest', 'forever', 'forget', 'forget mention', 'forgive', 'form', 'formal', 'format', 'formula', 'formulate', 'forth', 'fortunate', 'fortunately', 'fortune', 'forum', 'forum hope', 'forum know', 'forum like', 'forum post', 'forum think', 'forward', 'foundation', 'fourth', 'fox', 'fragile', 'frame', 'framework', 'france', 'frank', 'frankly', 'freak', 'freakin', 'free', 'free encyclopedia', 'free time', 'freedom', 'freely', 'freeze', 'french', 'frequency', 'frequent', 'frequently', 'fresh', 'freshman', 'freshman year', 'friday', 'fridge', 'friend', 'friend actually', 'friend ask', 'friend close', 'friend come', 'friend enfj', 'friend enfp', 'friend entp', 'friend family', 'friend feel', 'friend find', 'friend friend', 'friend girl', 'friend good', 'friend guy', 'friend high', 'friend high school', 'friend infj', 'friend infp', 'friend intj', 'friend intp', 'friend istj', 'friend know', 'friend like', 'friend long', 'friend lot', 'friend love', 'friend need', 'friend people', 'friend pretty', 'friend start', 'friend talk', 'friend tell', 'friend thing', 'friend think', 'friend time', 'friend try', 'friend type', 'friend use', 'friend usually', 'friend want', 'friend work', 'friend year', 'friendly', 'friendship', 'fruit', 'frustrate', 'frustrated', 'frustrating', 'frustration', 'fry', 'fuck', 'fuckin', 'fucking', 'fuel', 'fulfil', 'fulfill', 'fully', 'fully understand', 'fun', 'fun like', 'fun love', 'fun think', 'function', 'function like', 'function order', 'function stack', 'function test', 'function think', 'function type', 'function use', 'functional', 'functions', 'fund', 'fundamental', 'fundamentally', 'funeral', 'funniest', 'funny', 'funny thing', 'funny think', 'furniture', 'future', 'fuzzy', 'gain', 'gal', 'galaxy', 'game', 'game like', 'game play', 'game thrones', 'gamer', 'games', 'gaming', 'gap', 'garbage', 'garden', 'gas', 'gather', 'gathering', 'gauge', 'gay', 'gaze', 'gear', 'geek', 'gemini', 'gen', 'gender', 'gender female', 'gender role', 'gene', 'general', 'general think', 'generalization', 'generalize', 'generally', 'generally like', 'generate', 'generation', 'generic', 'generous', 'genetic', 'genius', 'genre', 'gentle', 'gentleman', 'genuine', 'genuinely', 'george', 'german', 'germany', 'gesture', 'gf', 'ghost', 'giant', 'gif', 'gift', 'giggle', 'girl', 'girl friend', 'girl know', 'girl like', 'girl think', 'girl want', 'girlfriend', 'girly', 'glad', 'glad hear', 'glance', 'glare', 'glass', 'global', 'glorious', 'glory', 'glow', 'goal', 'god', 'god know', 'goddamn', 'gold', 'golden', 'good', 'good advice', 'good bad', 'good book', 'good come', 'good conversation', 'good day', 'good evil', 'good example', 'good feel', 'good find', 'good fit', 'good friend', 'good friend enfp', 'good friend infj', 'good friend infp', 'good friend intj', 'good friend intp', 'good good', 'good grade', 'good guess', 'good guy', 'good hear', 'good idea', 'good job', 'good know', 'good like', 'good look', 'good love', 'good luck', 'good match', 'good math', 'good mood', 'good movie', 'good old', 'good people', 'good person', 'good place', 'good point', 'good question', 'good read', 'good reason', 'good relationship', 'good sense', 'good stuff', 'good thing', 'good think', 'good time', 'good try', 'good type', 'good use', 'good want', 'good way', 'good work', 'goodbye', 'goodness', 'goofy', 'google', 'gorgeous', 'gosh', 'gossip', 'got', 'government', 'gpa', 'grab', 'grace', 'grad', 'grad school', 'grade', 'gradually', 'graduate', 'grain', 'grammar', 'grand', 'grandfather', 'grandma', 'grandmother', 'grandparent', 'grant', 'graphic', 'grasp', 'grass', 'grateful', 'gravitate', 'gravity', 'gray', 'great', 'great advice', 'great deal', 'great friend', 'great idea', 'great love', 'great people', 'great thing', 'great think', 'great time', 'great way', 'greatly', 'greek', 'green', 'greet', 'grey', 'grief', 'grin', 'grind', 'grip', 'grocery', 'grocery store', 'gross', 'ground', 'group', 'group friend', 'group people', 'grow', 'grow old', 'growth', 'grudge', 'grumpy', 'gryffindor', 'gt', 'gt use', 'guarantee', 'guard', 'guardian', 'guess', 'guess depend', 'guess feel', 'guess know', 'guess like', 'guess mean', 'guess need', 'guess people', 'guess think', 'guess type', 'guest', 'guide', 'guilt', 'guilty', 'guitar', 'gun', 'gut', 'guy', 'guy date', 'guy feel', 'guy find', 'guy friend', 'guy girl', 'guy good', 'guy know', 'guy like', 'guy love', 'guy need', 'guy think', 'guy try', 'guy want', 'gym', 'ha', 'ha ha', 'habit', 'hah', 'haha', 'haha think', 'hahah', 'hahaha', 'hair', 'haircut', 'half', 'half hour', 'half time', 'half year', 'halfway', 'hall', 'halloween', 'hammer', 'hand', 'handful', 'handle', 'handsome', 'handwriting', 'handy', 'hang', 'hang friend', 'hang people', 'happen', 'happen feel', 'happen happen', 'happen know', 'happen like', 'happen lot', 'happen think', 'happen time', 'happily', 'happiness', 'happy', 'happy know', 'happy think', 'hard', 'hard explain', 'hard find', 'hard know', 'hard read', 'hard tell', 'hard thing', 'hard think', 'hard time', 'hard try', 'hard type', 'hard understand', 'hard work', 'hardcore', 'hardly', 'harm', 'harmful', 'harmless', 'harmony', 'harry', 'harry potter', 'harsh', 'hat', 'hate', 'hate feel', 'hate hate', 'hate people', 'hate relationship', 'hate think', 'hatred', 'haunt', 'head', 'head like', 'head think', 'headache', 'headphone', 'heal', 'healer', 'health', 'healthy', 'heap', 'hear', 'hear lot', 'hear people', 'hear think', 'heart', 'hearted', 'heartless', 'heat', 'heaven', 'heavily', 'heavy', 'heck', 'heel', 'heh', 'hehe', 'height', 'hell', 'hello', 'help', 'help feel', 'help figure', 'help find', 'help know', 'help like', 'help lot', 'help people', 'help think', 'help understand', 'helpful', 'hermit', 'hero', 'hesitant', 'hesitate', 'heterosexual', 'hey', 'hi', 'hidden', 'hide', 'hierarchy', 'high', 'high level', 'high school', 'high standard', 'highlight', 'highly', 'highly recommend', 'highly sensitive', 'highschool', 'hike', 'hilarious', 'hill', 'hint', 'hip', 'hip hop', 'hippie', 'hipst', 'hire', 'historical', 'history', 'hit', 'hit nail', 'hit nail head', 'hitler', 'hm', 'hmm', 'hmmm', 'hobbit', 'hobby', 'hold', 'hold grudge', 'hold hand', 'hole', 'holiday', 'holmes', 'holy', 'home', 'home work', 'homeless', 'homework', 'homosexual', 'honest', 'honest think', 'honestly', 'honestly know', 'honestly think', 'honesty', 'honey', 'honor', 'hood', 'hook', 'hop', 'hope', 'hope enjoy', 'hope feel', 'hope find', 'hope good', 'hope help', 'hope like', 'hopeful', 'hopefully', 'hopeless', 'hormone', 'horny', 'horoscope', 'horrible', 'horribly', 'horror', 'horror movie', 'horse', 'hospital', 'host', 'hostile', 'hot', 'hotel', 'hour', 'hour day', 'hour sleep', 'house', 'household', 'hphoto', 'hphoto ak', 'hr', 'hs', 'hsp', 'hufflepuff', 'hug', 'huge', 'huge fan', 'huh', 'human', 'human nature', 'humanity', 'humble', 'humor', 'humorous', 'humour', 'hunch', 'hunger', 'hungry', 'hunt', 'hunter', 'hurry', 'hurt', 'hurt feel', 'hurt people', 'hurtful', 'husband', 'hybrid', 'hype', 'hyper', 'hypocrite', 'hypothesis', 'hypothetical', 'ice', 'ice cream', 'icon', 'idea', 'idea come', 'idea feel', 'idea know', 'idea like', 'idea people', 'idea think', 'idea type', 'idea want', 'ideal', 'idealism', 'idealist', 'idealistic', 'idealize', 'ideally', 'identical', 'identify', 'identity', 'ideology', 'idiot', 'idk', 'ie', 'ignorance', 'ignorant', 'ignore', 'ii', 'ill', 'illegal', 'illness', 'illness medication', 'illness medication special', 'illogical', 'illusion', 'illustrate', 'image', 'imaginary', 'imagination', 'imaginative', 'imagine', 'immature', 'immediate', 'immediately', 'immensely', 'immerse', 'imo', 'impact', 'impatient', 'implement', 'implication', 'imply', 'importance', 'important', 'important thing', 'importantly', 'impose', 'impossible', 'impress', 'impression', 'impressive', 'improve', 'improvement', 'impulse', 'impulsive', 'inability', 'inaccurate', 'inappropriate', 'incapable', 'inception', 'inch', 'incident', 'inclination', 'incline', 'include', 'income', 'incompetent', 'inconsiderate', 'inconsistency', 'incorporate', 'incorrect', 'increase', 'incredible', 'incredibly', 'indecisive', 'independence', 'independent', 'india', 'indian', 'indicate', 'indication', 'indicator', 'indie', 'indifferent', 'individual', 'induce', 'indulge', 'industry', 'inevitable', 'inevitably', 'infatuate', 'inferior', 'inferior fe', 'inferior function', 'inferior se', 'infinite', 'infj', 'infj enfj', 'infj feel', 'infj female', 'infj forum', 'infj friend', 'infj good', 'infj guy', 'infj infj', 'infj infp', 'infj intj', 'infj intp', 'infj isfj', 'infj know', 'infj like', 'infj love', 'infj male', 'infj thing', 'infj think', 'infj type', 'infjs', 'influence', 'info', 'inform', 'information', 'information include', 'informative', 'infp', 'infp enfp', 'infp feel', 'infp find', 'infp forum', 'infp friend', 'infp good', 'infp guy', 'infp infj', 'infp infp', 'infp intj', 'infp intp', 'infp isfp', 'infp know', 'infp like', 'infp love', 'infp male', 'infp thing', 'infp think', 'infp type', 'infps', 'infx', 'inherent', 'inherently', 'initial', 'initially', 'initiate', 'initiate conversation', 'initiative', 'injury', 'injustice', 'innate', 'inner', 'inner world', 'innocent', 'input', 'insane', 'insanity', 'insect', 'insecure', 'insecurity', 'insensitive', 'insert', 'inside', 'inside head', 'insight', 'insightful', 'insist', 'insomnia', 'inspiration', 'inspire', 'instance', 'instant', 'instantly', 'instead', 'instinct', 'instinctual', 'instruction', 'instrument', 'instrumental', 'insult', 'integrate', 'integrity', 'intellect', 'intellectual', 'intellectually', 'intelligence', 'intelligent', 'intend', 'intense', 'intensely', 'intensity', 'intent', 'intention', 'intentional', 'intentionally', 'interact', 'interact people', 'interaction', 'interest', 'interest like', 'interested', 'interested know', 'interesting', 'interesting know', 'interesting like', 'interesting people', 'interesting question', 'interesting read', 'interesting thing', 'interesting think', 'interesting thread', 'interfere', 'internal', 'internalize', 'internally', 'international', 'internet', 'interpersonal', 'interpret', 'interpretation', 'interrupt', 'interview', 'intimacy', 'intimate', 'intimidate', 'intj', 'intj enfp', 'intj entj', 'intj feel', 'intj female', 'intj forum', 'intj friend', 'intj good', 'intj infj', 'intj infp', 'intj intj', 'intj intp', 'intj istj', 'intj know', 'intj like', 'intj love', 'intj think', 'intj type', 'intj want', 'intj woman', 'intjs', 'intp', 'intp entp', 'intp feel', 'intp female', 'intp forum', 'intp friend', 'intp good', 'intp infj', 'intp infp', 'intp intj', 'intp intp', 'intp istp', 'intp know', 'intp like', 'intp thing', 'intp think', 'intp type', 'intps', 'intrigue', 'intriguing', 'intro', 'introduce', 'introduction', 'introspection', 'introspective', 'introversion', 'introvert', 'introvert extrovert', 'introvert think', 'introverted', 'introverted intuition', 'intuition', 'intuitive', 'intuitively', 'intx', 'invade', 'invent', 'invention', 'invest', 'investigate', 'investment', 'invisible', 'invite', 'involve', 'inward', 'inxj', 'inxp', 'inxx', 'ipad', 'iphone', 'iphone use', 'ipod', 'iq', 'iq test', 'irish', 'irl', 'iron', 'ironic', 'ironically', 'irony', 'irrational', 'irrelevant', 'irritate', 'irritated', 'isfj', 'isfj friend', 'isfj think', 'isfp', 'isfp friend', 'isfp infp', 'isfp think', 'isfps', 'ish', 'island', 'isolate', 'isolation', 'issue', 'istj', 'istj friend', 'istj intj', 'istj know', 'istj think', 'istp', 'istp friend', 'istp think', 'italian', 'italy', 'item', 'ixfj', 'ixfp', 'ixtj', 'ixtp', 'jack', 'jacket', 'jackson', 'jam', 'james', 'jane', 'january', 'japan', 'japanese', 'jar', 'jazz', 'jealous', 'jealousy', 'jean', 'jerk', 'jesus', 'jim', 'jk', 'job', 'job interview', 'job like', 'job work', 'joe', 'john', 'johnny', 'join', 'join forum', 'joke', 'joker', 'jon', 'journal', 'journey', 'joy', 'js', 'judge', 'judge function', 'judge people', 'judgement', 'judgemental', 'judger', 'judging', 'judgment', 'judgmental', 'juice', 'july', 'jump', 'june', 'jung', 'jungian', 'junior', 'junk', 'justice', 'justify', 'kate', 'keen', 'keirsey', 'key', 'keyboard', 'kick', 'kid', 'kid like', 'kid think', 'kill', 'kill people', 'killer', 'kind', 'kind feel', 'kind like', 'kind music', 'kind people', 'kind person', 'kind stuff', 'kind thing', 'kind think', 'kind word', 'kinda', 'kinda like', 'kindergarten', 'kindly', 'kindness', 'king', 'kingdom', 'kiss', 'kitchen', 'kitteh', 'kitten', 'kitty', 'knee', 'knife', 'knight', 'knock', 'know', 'know actually', 'know answer', 'know ask', 'know bad', 'know believe', 'know bit', 'know care', 'know come', 'know enfj', 'know enfp', 'know entp', 'know exactly', 'know exactly mean', 'know fact', 'know feel', 'know feel like', 'know find', 'know friend', 'know girl', 'know good', 'know guess', 'know guy', 'know happen', 'know hard', 'know hate', 'know help', 'know infj', 'know infp', 'know intj', 'know intp', 'know introvert', 'know isfj', 'know istj', 'know istp', 'know kind', 'know know', 'know life', 'know like', 'know little', 'know long', 'know look', 'know lot', 'know love', 'know maybe', 'know mbti', 'know mean', 'know meet', 'know need', 'know old', 'know people', 'know person', 'know personality', 'know personally', 'know post', 'know pretty', 'know probably', 'know read', 'know real', 'know right', 'know sound', 'know start', 'know sure', 'know talk', 'know tell', 'know tend', 'know thing', 'know think', 'know thread', 'know time', 'know true', 'know try', 'know type', 'know understand', 'know use', 'know usually', 'know want', 'know way', 'know word', 'know work', 'know wrong', 'know year', 'knowledge', 'knowledgeable', 'korea', 'korean', 'la', 'lab', 'label', 'labor', 'lack', 'lady', 'lake', 'lame', 'land', 'landscape', 'language', 'laptop', 'large', 'large group', 'largely', 'lash', 'late', 'late night', 'lately', 'later', 'latin', 'laugh', 'laugh hard', 'laugh loud', 'laugh think', 'laughter', 'laundry', 'law', 'lawful', 'lawyer', 'lay', 'layer', 'laziness', 'lazy', 'le', 'lead', 'leader', 'leadership', 'league', 'lean', 'leap', 'learn', 'learn language', 'learn lot', 'learn mbti', 'learn new', 'learn thing', 'learn think', 'learner', 'learning', 'leave', 'leave brain', 'leave feel', 'leave hand', 'leave house', 'leave right', 'lecture', 'lee', 'left', 'leg', 'legal', 'legend', 'legit', 'legitimate', 'lego', 'lemon', 'lend', 'length', 'leo', 'lesbian', 'lesson', 'let', 'let know', 'let people', 'let talk', 'let tell', 'let thing', 'let think', 'let try', 'letter', 'level', 'lewis', 'liar', 'liberal', 'libertarian', 'libra', 'library', 'license', 'lick', 'lie', 'lie bed', 'life', 'life change', 'life circumstance', 'life circumstance useful', 'life easy', 'life experience', 'life feel', 'life find', 'life good', 'life know', 'life like', 'life live', 'life long', 'life love', 'life mean', 'life people', 'life pretty', 'life right', 'life thing', 'life think', 'life time', 'life try', 'life want', 'life way', 'lifestyle', 'lifetime', 'lift', 'light', 'lightly', 'like', 'like able', 'like actually', 'like add', 'like agree', 'like answer', 'like ask', 'like bad', 'like believe', 'like big', 'like bit', 'like book', 'like care', 'like cat', 'like change', 'like child', 'like close', 'like come', 'like cool', 'like crazy', 'like date', 'like day', 'like definitely', 'like describe', 'like different', 'like dislike', 'like draw', 'like eat', 'like end', 'like enfj', 'like enfp', 'like enfps', 'like enjoy', 'like entj', 'like entp', 'like experience', 'like fact', 'like feel', 'like feel like', 'like fi', 'like find', 'like fit', 'like friend', 'like fun', 'like girl', 'like good', 'like great', 'like guess', 'like guy', 'like happen', 'like happy', 'like hard', 'like hate', 'like hear', 'like help', 'like hour', 'like hug', 'like idea', 'like infj', 'like infp', 'like interesting', 'like intj', 'like intp', 'like isfj', 'like isfp', 'like istj', 'like istp', 'like kid', 'like kind', 'like know', 'like learn', 'like let', 'like life', 'like like', 'like listen', 'like little', 'like live', 'like lol', 'like long', 'like look', 'like lose', 'like lot', 'like love', 'like man', 'like maybe', 'like mean', 'like meet', 'like mention', 'like mind', 'like minded', 'like month', 'like movie', 'like music', 'like need', 'like new', 'like nice', 'like oh', 'like old', 'like open', 'like people', 'like person', 'like personality', 'like plan', 'like play', 'like point', 'like post', 'like pretty', 'like probably', 'like problem', 'like read', 'like real', 'like reason', 'like relate', 'like relationship', 'like right', 'like sense', 'like share', 'like shit', 'like song', 'like sort', 'like sound', 'like spend', 'like start', 'like sure', 'like talk', 'like tell', 'like test', 'like thank', 'like thing', 'like think', 'like thread', 'like time', 'like true', 'like try', 'like type', 'like understand', 'like use', 'like usually', 'like walk', 'like want', 'like watch', 'like way', 'like wear', 'like week', 'like woman', 'like word', 'like work', 'like world', 'like write', 'like wrong', 'like year', 'likely', 'lil', 'limit', 'limited', 'line', 'linear', 'linguistic', 'link', 'linux', 'lion', 'lip', 'list', 'list thing', 'listen', 'listen music', 'listen people', 'listen song', 'listener', 'literal', 'literally', 'literature', 'little', 'little bit', 'little girl', 'little kid', 'little like', 'little sister', 'little thing', 'little think', 'little time', 'live', 'live life', 'live like', 'live moment', 'live world', 'living', 'lmao', 'load', 'loathe', 'local', 'location', 'lock', 'log', 'logic', 'logical', 'logically', 'lol', 'lol know', 'lol like', 'lol think', 'london', 'loneliness', 'lonely', 'loner', 'long', 'long ago', 'long distance', 'long hair', 'long know', 'long period', 'long period time', 'long post', 'long run', 'long story', 'long term', 'long term relationship', 'long think', 'long time', 'long time ago', 'long way', 'look', 'look different', 'look eye', 'look feel', 'look forward', 'look function', 'look good', 'look know', 'look like', 'look nice', 'look people', 'look pretty', 'look thing', 'look think', 'look way', 'loop', 'loose', 'lord', 'lord rings', 'lose', 'lose interest', 'loser', 'loss', 'lot', 'lot different', 'lot feel', 'lot friend', 'lot fun', 'lot good', 'lot infj', 'lot know', 'lot like', 'lot lot', 'lot people', 'lot question', 'lot sense', 'lot stuff', 'lot thing', 'lot think', 'lot time', 'lot way', 'lot work', 'loud', 'loudly', 'love', 'love care', 'love feel', 'love find', 'love friend', 'love good', 'love guy', 'love hate', 'love hear', 'love idea', 'love infj', 'love intj', 'love know', 'love language', 'love learn', 'love life', 'love like', 'love lot', 'love love', 'love love love', 'love meet', 'love movie', 'love music', 'love people', 'love person', 'love play', 'love read', 'love song', 'love talk', 'love tell', 'love thing', 'love think', 'love thread', 'love time', 'love try', 'love type', 'love want', 'love watch', 'love way', 'love work', 'love write', 'lovely', 'lover', 'low', 'low self', 'low self esteem', 'loyal', 'loyalty', 'lucid', 'lucid dream', 'luck', 'luckily', 'lucky', 'luna', 'lunch', 'lurk', 'lust', 'lyric', 'mac', 'machine', 'mad', 'magazine', 'magic', 'magical', 'mail', 'main', 'main character', 'main reason', 'main thing', 'mainly', 'mainstream', 'maintain', 'maintenance', 'major', 'majority', 'majority people', 'maker', 'makeup', 'male', 'male female', 'male friend', 'male infj', 'male infp', 'mall', 'man', 'man know', 'man like', 'man think', 'man woman', 'manage', 'management', 'manager', 'manga', 'manic', 'manifest', 'manipulate', 'manipulate people', 'manipulation', 'manipulative', 'mankind', 'manly', 'manner', 'mannerism', 'manual', 'map', 'march', 'marijuana', 'mark', 'market', 'marketing', 'marriage', 'married', 'marry', 'marry year', 'mars', 'martial', 'martial art', 'martin', 'marvel', 'mary', 'masculine', 'mask', 'mass', 'massage', 'masse', 'massive', 'master', 'mastermind', 'match', 'mate', 'material', 'math', 'mathematic', 'mathematical', 'matrix', 'matt', 'matter', 'mature', 'maturity', 'max', 'may', 'maybe', 'maybe good', 'maybe know', 'maybe like', 'maybe need', 'maybe think', 'maybe time', 'maybe try', 'mbti', 'mbti enneagram', 'mbti personality', 'mbti test', 'mbti think', 'mbti type', 'meal', 'mean', 'mean come', 'mean feel', 'mean find', 'mean good', 'mean know', 'mean life', 'mean like', 'mean look', 'mean lot', 'mean love', 'mean mean', 'mean need', 'mean people', 'mean thing', 'mean think', 'mean time', 'mean try', 'mean use', 'mean want', 'mean way', 'meaning', 'meaningful', 'meaningless', 'measure', 'meat', 'mechanic', 'mechanical', 'mechanism', 'medical', 'medication', 'medication special', 'medication special life', 'medicine', 'mediocre', 'meditate', 'meditation', 'medium', 'meet', 'meet guy', 'meet infj', 'meet intj', 'meet like', 'meet new', 'meet new people', 'meet people', 'meet person', 'meet think', 'meeting', 'meetup', 'meh', 'melancholic', 'melancholy', 'mellow', 'melody', 'melt', 'member', 'meme', 'memorize', 'memory', 'men', 'mental', 'mental health', 'mental illness', 'mental illness medication', 'mentality', 'mentally', 'mention', 'mentor', 'mere', 'merely', 'merit', 'mess', 'message', 'messy', 'metal', 'metaphor', 'method', 'michael', 'mid', 'middle', 'middle school', 'midnight', 'mild', 'mildly', 'mile', 'mile away', 'military', 'milk', 'million', 'mimic', 'min', 'mind', 'mind ask', 'mind like', 'mind people', 'mind think', 'mind work', 'minded', 'minded people', 'mindedness', 'mindless', 'mindset', 'mini', 'minimal', 'minimum', 'minor', 'minority', 'minus', 'minute', 'mirror', 'misconception', 'miserable', 'misery', 'misinterpret', 'mislead', 'misread', 'miss', 'miss point', 'mission', 'mistake', 'mistype', 'misunderstand', 'misunderstanding', 'misunderstood', 'mix', 'mixed', 'mixture', 'mobile', 'mock', 'mod', 'mode', 'model', 'moderate', 'moderately', 'modern', 'modest', 'mold', 'mom', 'mom esfj', 'mom isfj', 'moment', 'moment like', 'monday', 'money', 'monitor', 'monkey', 'monologue', 'monster', 'month', 'month ago', 'mood', 'moody', 'moon', 'moral', 'morality', 'morally', 'morbid', 'more', 'morning', 'moron', 'most', 'most people', 'most time', 'mother', 'motion', 'motivate', 'motivated', 'motivation', 'motivational', 'motive', 'motorcycle', 'mountain', 'mouse', 'mouth', 'movement', 'movie', 'movie like', 'movie watch', 'mr', 'multi', 'multiple', 'multiple time', 'mum', 'mundane', 'murder', 'muscle', 'muse', 'museum', 'mushroom', 'music', 'music like', 'music listen', 'music video', 'musical', 'musician', 'muslim', 'mutual', 'mutual friend', 'mutually', 'myer', 'myer briggs', 'myers', 'myers briggs', 'mysterious', 'mystery', 'mystical', 'myth', 'nag', 'nah', 'nail', 'nail head', 'naive', 'naked', 'nap', 'narcissism', 'narcissist', 'narcissistic', 'narrow', 'naruto', 'nasty', 'nation', 'national', 'native', 'natural', 'naturally', 'nature', 'navigate', 'nazi', 'ne', 'ne dom', 'ne fi', 'ne ni', 'ne se', 'ne si', 'ne ti', 'ne user', 'near', 'nearby', 'nearly', 'neat', 'necessarily', 'necessarily mean', 'necessary', 'necessity', 'neck', 'need', 'need advice', 'need change', 'need feel', 'need find', 'need good', 'need hear', 'need help', 'need know', 'need learn', 'need like', 'need look', 'need lot', 'need love', 'need need', 'need people', 'need read', 'need space', 'need stop', 'need talk', 'need tell', 'need thing', 'need think', 'need time', 'need understand', 'need want', 'need work', 'needless', 'needy', 'negative', 'negative emotion', 'negatively', 'negativity', 'neglect', 'neighbor', 'neighborhood', 'nerd', 'nerdy', 'nerve', 'nervous', 'ness', 'net', 'netflix', 'network', 'neurotic', 'neutral', 'nevermind', 'new', 'new experience', 'new friend', 'new idea', 'new job', 'new people', 'new thing', 'new thread', 'new year', 'new york', 'newbie', 'news', 'nf', 'nfj', 'nfp', 'nfs', 'ni', 'ni dom', 'ni fe', 'ni fi', 'ni ne', 'ni se', 'ni te', 'ni ti', 'ni user', 'nice', 'nice guy', 'nice know', 'nice meet', 'nice people', 'nice person', 'nice thing', 'nicely', 'nick', 'nickname', 'nietzsche', 'night', 'nightmare', 'ninja', 'noble', 'nod', 'noise', 'non', 'non fiction', 'nonetheless', 'nonsense', 'nope', 'norm', 'normal', 'normally', 'north', 'nose', 'nostalgia', 'nostalgic', 'note', 'notebook', 'notice', 'notice lot', 'notice people', 'notice thing', 'notification', 'notion', 'novel', 'november', 'nowadays', 'np', 'nt', 'ntj', 'ntp', 'nuance', 'nuclear', 'numb', 'number', 'number people', 'numerous', 'nurse', 'nurture', 'nut', 'obama', 'object', 'objective', 'objectively', 'obligation', 'oblivious', 'obnoxious', 'obscure', 'observant', 'observation', 'observe', 'observer', 'obsess', 'obsession', 'obsessive', 'obstacle', 'obtain', 'obvious', 'obviously', 'occasion', 'occasional', 'occasionally', 'occupy', 'occur', 'ocd', 'ocean', 'october', 'odd', 'oddly', 'offend', 'offense', 'offensive', 'offer', 'office', 'officer', 'official', 'officially', 'oh', 'oh god', 'oh wait', 'oh yeah', 'oh yes', 'oil', 'ok', 'okay', 'old', 'old brother', 'old friend', 'old man', 'old people', 'old sister', 'old thread', 'omg', 'oneself', 'onion', 'online', 'online date', 'online test', 'oop', 'op', 'open', 'open mind', 'open minded', 'open people', 'opening', 'openly', 'openness', 'opera', 'operate', 'opinion', 'opinion think', 'opportunity', 'oppose', 'opposite', 'opposite sex', 'optimism', 'optimistic', 'option', 'orange', 'order', 'ordinary', 'organ', 'organic', 'organise', 'organization', 'organize', 'orient', 'orientation', 'origin', 'original', 'original post', 'originally', 'ought', 'outburst', 'outcome', 'outer', 'outfit', 'outgo', 'outgoing', 'outlet', 'outline', 'outlook', 'outright', 'outside', 'outside world', 'outsider', 'outward', 'outwardly', 'overall', 'overcome', 'overlap', 'overload', 'overlook', 'overly', 'overthink', 'overthinke', 'overwhelm', 'overwhelmed', 'overwhelming', 'owe', 'owl', 'owner', 'pace', 'pack', 'page', 'pain', 'painful', 'painfully', 'paint', 'painting', 'pair', 'pale', 'pan', 'panda', 'panic', 'panic attack', 'pant', 'paper', 'paradox', 'paragraph', 'parallel', 'paranoia', 'paranoid', 'parent', 'paris', 'park', 'parking', 'parrot', 'partial', 'partially', 'participate', 'particular', 'particular order', 'particularly', 'partly', 'partner', 'party', 'pass', 'pass away', 'passion', 'passionate', 'passive', 'passive aggressive', 'password', 'past', 'past day', 'past experience', 'past month', 'past week', 'past year', 'paste', 'pat', 'patch', 'path', 'pathetic', 'patience', 'patient', 'pattern', 'paul', 'pause', 'pay', 'pay attention', 'pc', 'peace', 'peaceful', 'peak', 'peanut', 'peanut butter', 'pee', 'peep', 'peer', 'peeve', 'peg', 'pen', 'pencil', 'penguin', 'penis', 'people', 'people able', 'people act', 'people actually', 'people age', 'people agree', 'people ask', 'people assume', 'people bad', 'people believe', 'people care', 'people change', 'people close', 'people come', 'people consider', 'people constantly', 'people day', 'people different', 'people easily', 'people emotion', 'people enjoy', 'people especially', 'people expect', 'people experience', 'people feel', 'people feel like', 'people find', 'people forum', 'people friend', 'people general', 'people generally', 'people good', 'people happy', 'people hard', 'people hate', 'people hear', 'people help', 'people interested', 'people kind', 'people know', 'people laugh', 'people learn', 'people let', 'people life', 'people like', 'people listen', 'people live', 'people long', 'people look', 'people lot', 'people love', 'people mean', 'people meet', 'people mind', 'people mistake', 'people need', 'people notice', 'people open', 'people opinion', 'people people', 'people person', 'people point', 'people post', 'people pretty', 'people probably', 'people problem', 'people read', 'people real', 'people realize', 'people relate', 'people right', 'people share', 'people start', 'people stop', 'people sure', 'people talk', 'people tell', 'people tend', 'people thing', 'people think', 'people time', 'people trust', 'people try', 'people type', 'people understand', 'people use', 'people usually', 'people want', 'people watch', 'people way', 'people work', 'people world', 'pepper', 'perc', 'perceive', 'perceive function', 'perceiver', 'percent', 'percentage', 'perception', 'perceptive', 'perfect', 'perfect sense', 'perfection', 'perfectionism', 'perfectionist', 'perfectly', 'perform', 'performance', 'period', 'period time', 'permanent', 'person', 'person ask', 'person come', 'person feel', 'person find', 'person good', 'person know', 'person life', 'person like', 'person love', 'person meet', 'person people', 'person person', 'person talk', 'person think', 'person time', 'person try', 'person type', 'person want', 'persona', 'personal', 'personal experience', 'personal space', 'personality', 'personality cafe', 'personality disorder', 'personality profile', 'personality test', 'personality theory', 'personality think', 'personality trait', 'personality type', 'personality unsure', 'personality unsure type', 'personalitycafe', 'personally', 'personally feel', 'personally find', 'personally like', 'personally think', 'perspective', 'pertain', 'pessimistic', 'pet', 'pet peeve', 'peter', 'petty', 'phase', 'phd', 'phenomenon', 'philosopher', 'philosophical', 'philosophy', 'phlegmatic', 'phobia', 'phone', 'photo', 'photograph', 'photography', 'phrase', 'physic', 'physical', 'physical contact', 'physical touch', 'physically', 'physics', 'pi', 'piano', 'pic', 'pick', 'picky', 'picture', 'pie', 'piece', 'pierce', 'pig', 'pile', 'pill', 'pillow', 'pilot', 'pin', 'pink', 'pinpoint', 'pirate', 'piss', 'pit', 'pitch', 'pity', 'pizza', 'place', 'place like', 'place people', 'place think', 'plague', 'plain', 'plan', 'plane', 'planet', 'planning', 'plant', 'plastic', 'plate', 'platonic', 'play', 'play game', 'play guitar', 'play piano', 'play role', 'play video', 'play video game', 'player', 'playful', 'playlist', 'pleasant', 'pleasure', 'plenty', 'plot', 'plus', 'pm', 'pocket', 'podcast', 'poem', 'poet', 'poetic', 'poetry', 'point', 'point feel', 'point know', 'point life', 'point like', 'point people', 'point point', 'point think', 'point time', 'point try', 'point view', 'point want', 'pointless', 'poison', 'poke', 'pokemon', 'poker', 'polar', 'pole', 'police', 'policy', 'polish', 'polite', 'politic', 'political', 'politically', 'politician', 'poll', 'ponder', 'pony', 'pool', 'poor', 'poorly', 'pop', 'pop head', 'popcorn', 'popular', 'population', 'porn', 'portion', 'portrait', 'portray', 'pose', 'position', 'positive', 'positive negative', 'positively', 'possess', 'possession', 'possibility', 'possible', 'possibly', 'post', 'post feel', 'post find', 'post forum', 'post know', 'post like', 'post link', 'post picture', 'post post', 'post read', 'post thank', 'post thing', 'post think', 'post thread', 'post time', 'post video', 'post want', 'poster', 'pot', 'potato', 'potential', 'potentially', 'potter', 'pound', 'pour', 'pov', 'power', 'powerful', 'ppl', 'practical', 'practically', 'practice', 'pragmatic', 'praise', 'prank', 'pray', 'prayer', 'pre', 'precious', 'precise', 'precisely', 'predict', 'predictable', 'prefer', 'preferably', 'preference', 'preferred', 'pregnant', 'prejudice', 'premise', 'prepare', 'presence', 'present', 'presentation', 'president', 'press', 'pressure', 'presume', 'pretend', 'pretentious', 'pretty', 'pretty accurate', 'pretty awesome', 'pretty bad', 'pretty big', 'pretty close', 'pretty cool', 'pretty damn', 'pretty easy', 'pretty good', 'pretty hard', 'pretty interesting', 'pretty like', 'pretty sure', 'pretty think', 'prevent', 'previous', 'previous post', 'previously', 'price', 'pride', 'primarily', 'primary', 'prime', 'prince', 'princess', 'principle', 'print', 'prior', 'priority', 'prison', 'privacy', 'private', 'privilege', 'prize', 'pro', 'pro con', 'probability', 'probably', 'probably feel', 'probably good', 'probably know', 'probably like', 'probably right', 'probably think', 'probably want', 'problem', 'problem feel', 'problem know', 'problem like', 'problem people', 'problem solve', 'problem think', 'problem want', 'problematic', 'proceed', 'process', 'processing', 'procrastinate', 'procrastination', 'produce', 'product', 'production', 'productive', 'profession', 'professional', 'professionally', 'professor', 'profile', 'profile picture', 'profit', 'profound', 'program', 'programmer', 'programming', 'progress', 'progressive', 'project', 'projection', 'promise', 'promote', 'prompt', 'prone', 'pronounce', 'proof', 'proper', 'properly', 'property', 'propose', 'prospect', 'protagonist', 'protect', 'protection', 'protective', 'proud', 'prove', 'prove wrong', 'provide', 'provoke', 'ps', 'pseudo', 'psych', 'psyche', 'psychedelic', 'psychiatrist', 'psychic', 'psycho', 'psychological', 'psychologist', 'psychology', 'psychopath', 'ptsd', 'public', 'publish', 'pull', 'pump', 'pun', 'punch', 'punish', 'punishment', 'punk', 'puppy', 'purchase', 'pure', 'purely', 'purple', 'purpose', 'purposely', 'pursue', 'pursuit', 'push', 'push away', 'pushy', 'puzzle', 'python', 'qualify', 'quality', 'quality time', 'quantum', 'quarter', 'queen', 'quest', 'question', 'question answer', 'question ask', 'question example', 'question example stressful', 'question feel', 'question know', 'question like', 'question think', 'question type', 'question want', 'questionnaire', 'quick', 'quickly', 'quiet', 'quietly', 'quirk', 'quirky', 'quit', 'quiz', 'quote', 'rabbit', 'race', 'racism', 'racist', 'radical', 'radio', 'radiohead', 'rage', 'rain', 'rainbow', 'rainy', 'raise', 'ramble', 'random', 'random people', 'random thing', 'randomly', 'range', 'rank', 'rant', 'rap', 'rape', 'rare', 'rarely', 'rat', 'rate', 'ratio', 'rational', 'rationality', 'rationalize', 'rationally', 'rave', 'ravenclaw', 'raw', 'ray', 'reach', 'react', 'reaction', 'reactive', 'read', 'read article', 'read book', 'read description', 'read forum', 'read good', 'read know', 'read like', 'read lot', 'read mind', 'read page', 'read people', 'read post', 'read read', 'read response', 'read thing', 'read think', 'read thread', 'read time', 'read type', 'read write', 'reader', 'readily', 'reading', 'ready', 'real', 'real life', 'real world', 'realise', 'realist', 'realistic', 'reality', 'realization', 'realize', 'realize people', 'really', 'realm', 'reason', 'reason feel', 'reason like', 'reason people', 'reason think', 'reason want', 'reasonable', 'reasonably', 'reasoning', 'rebel', 'rebellious', 'recall', 'receive', 'recent', 'recently', 'recently start', 'recharge', 'recipe', 'reciprocate', 'reckless', 'reckon', 'recognise', 'recognition', 'recognize', 'recommend', 'recommendation', 'record', 'recover', 'red', 'reddit', 'reduce', 'refer', 'reference', 'reflect', 'reflection', 'reflective', 'refresh', 'refreshing', 'refuse', 'regard', 'regardless', 'region', 'register', 'regret', 'regular', 'regular basis', 'regularly', 'reinforce', 'reject', 'rejection', 'relatable', 'relate', 'relate feel', 'relate lot', 'relate people', 'relate think', 'relate type', 'relation', 'relationship', 'relationship end', 'relationship feel', 'relationship infj', 'relationship intj', 'relationship know', 'relationship like', 'relationship people', 'relationship think', 'relationship want', 'relationship work', 'relationship year', 'relative', 'relatively', 'relax', 'relaxed', 'release', 'relevant', 'reliable', 'relief', 'relieve', 'religion', 'religious', 'reluctant', 'rely', 'remain', 'remark', 'remember', 'remember dream', 'remember read', 'remember thing', 'remember think', 'remember time', 'remind', 'reminder', 'remote', 'remotely', 'remove', 'rent', 'repeat', 'repeatedly', 'repetitive', 'replace', 'reply', 'reply thread', 'report', 'represent', 'representation', 'repress', 'reputation', 'request', 'require', 'requirement', 'reread', 'rescue', 'research', 'resemble', 'resent', 'resentment', 'reserve', 'reserved', 'resist', 'resolution', 'resolve', 'resonate', 'resort', 'resource', 'respect', 'respectful', 'respond', 'response', 'responsibility', 'responsible', 'rest', 'rest life', 'restaurant', 'restless', 'restrict', 'result', 'resume', 'retail', 'retain', 'retard', 'retire', 'retreat', 'return', 'reveal', 'revenge', 'reverse', 'review', 'revolution', 'revolve', 'reward', 'rhyme', 'rhythm', 'rice', 'rich', 'richard', 'rid', 'riddle', 'ride', 'ridiculous', 'ridiculously', 'right', 'right away', 'right brain', 'right feel', 'right good', 'right hand', 'right know', 'right like', 'right people', 'right person', 'right place', 'right right', 'right thing', 'right think', 'right time', 'right try', 'right want', 'right way', 'right word', 'right wrong', 'rigid', 'ring', 'rings', 'rip', 'rise', 'risk', 'ritual', 'river', 'road', 'robert', 'robin', 'robot', 'rock', 'rocky', 'role', 'roll', 'roller', 'rolleyes', 'roman', 'romance', 'romantic', 'romantic interest', 'romantic partner', 'romantic relationship', 'romantically', 'room', 'roommate', 'root', 'rose', 'rough', 'roughly', 'round', 'route', 'routine', 'row', 'rpg', 'rub', 'rude', 'ruin', 'rule', 'run', 'run away', 'rush', 'russian', 'rut', 'sacrifice', 'sad', 'sadly', 'sadness', 'safe', 'safety', 'sake', 'salad', 'sale', 'salt', 'sam', 'sample', 'san', 'sand', 'sandwich', 'sane', 'sanguine', 'sanity', 'santa', 'sarcasm', 'sarcastic', 'satisfaction', 'satisfied', 'satisfy', 'saturday', 'sauce', 'save', 'save life', 'scale', 'scan', 'scar', 'scare', 'scared', 'scary', 'scatter', 'scenario', 'scene', 'schedule', 'scheme', 'schizoid', 'school', 'school college', 'school like', 'school think', 'school work', 'school year', 'sci', 'sci fi', 'science', 'science fiction', 'scientific', 'scientist', 'score', 'score high', 'scorpio', 'scott', 'scratch', 'scream', 'screen', 'screw', 'script', 'scroll', 'se', 'se dom', 'se fi', 'se ni', 'se si', 'se ti', 'sea', 'search', 'season', 'seat', 'second', 'second guess', 'second time', 'secondary', 'secondly', 'secret', 'secretly', 'section', 'secure', 'security', 'seduce', 'seed', 'seek', 'seeker', 'seemingly', 'seldom', 'select', 'selection', 'selective', 'self', 'self absorb', 'self aware', 'self center', 'self confidence', 'self conscious', 'self esteem', 'selfie', 'selfish', 'selfishness', 'selfless', 'sell', 'semester', 'semi', 'send', 'send gt', 'send gt use', 'send iphone', 'send iphone use', 'send message', 'send sm', 'send sm use', 'send use', 'senior', 'senior year', 'sensation', 'sense', 'sense feel', 'sense humor', 'sense humour', 'sense like', 'sense think', 'sensible', 'sensing', 'sensitive', 'sensitivity', 'sensor', 'sensory', 'sentence', 'sentiment', 'sentimental', 'separate', 'september', 'serial', 'serial killer', 'series', 'seriously', 'seriously think', 'seriousness', 'serve', 'server', 'service', 'session', 'set', 'setting', 'settle', 'seven', 'severe', 'severely', 'sex', 'sex drive', 'sexist', 'sexual', 'sexuality', 'sexually', 'sexy', 'sf', 'sfj', 'shade', 'shadow', 'shadow function', 'shake', 'shall', 'shallow', 'shame', 'shape', 'share', 'share experience', 'share think', 'shark', 'sharp', 'shave', 'shed', 'sheep', 'sheer', 'sheet', 'shell', 'shelter', 'sherlock', 'sherlock holmes', 'shield', 'shift', 'shine', 'shiny', 'ship', 'shirt', 'shit', 'shitty', 'shock', 'shoe', 'shoot', 'shop', 'shopping', 'short', 'short story', 'short term', 'short time', 'shortly', 'shot', 'shoulder', 'shout', 'shove', 'show', 'shower', 'shrink', 'shrug', 'shut', 'shy', 'shy away', 'shyness', 'si', 'si dom', 'si fe', 'si ne', 'si ni', 'si se', 'si te', 'sible', 'sibling', 'sick', 'sig', 'sigh', 'sight', 'sign', 'signal', 'signature', 'significant', 'significantly', 'silence', 'silent', 'silly', 'silver', 'similar', 'similar experience', 'similar situation', 'similar thing', 'similarity', 'similarly', 'simple', 'simplify', 'simply', 'simultaneously', 'sin', 'sincere', 'sincerely', 'sing', 'singe', 'singer', 'single', 'sink', 'sir', 'sister', 'sit', 'site', 'situation', 'situation feel', 'situation know', 'situation like', 'situation think', 'size', 'sj', 'sjs', 'skeptical', 'sketch', 'skill', 'skilled', 'skim', 'skin', 'skinny', 'skip', 'skirt', 'sky', 'skype', 'slam', 'slap', 'slave', 'sleep', 'sleep hour', 'sleepy', 'sleeve', 'slice', 'slide', 'slight', 'slightly', 'slip', 'sloth', 'slow', 'slowly', 'slytherin', 'sm', 'sm use', 'smack', 'small', 'small group', 'small talk', 'small thing', 'small town', 'smart', 'smash', 'smell', 'smell like', 'smile', 'smiley', 'smith', 'smoke', 'smoke weed', 'smoking', 'smooth', 'smother', 'snack', 'snail', 'snake', 'snap', 'snape', 'sneak', 'snow', 'snowflake', 'snuggle', 'so', 'soap', 'sober', 'soccer', 'sociable', 'social', 'social anxiety', 'social interaction', 'social life', 'social medium', 'social norm', 'social situation', 'social skill', 'socialism', 'socialist', 'socialize', 'socially', 'socially awkward', 'societal', 'society', 'sociology', 'socionic', 'socionics', 'sociopath', 'sock', 'soft', 'software', 'soldier', 'solely', 'solid', 'solitary', 'solitude', 'solo', 'solution', 'solve', 'solve problem', 'somebody', 'someday', 'somewhat', 'son', 'song', 'song like', 'soo', 'soon', 'sooo', 'soooo', 'sooooo', 'soothe', 'sophomore', 'sorry', 'sorry hear', 'sorry think', 'sort', 'sort like', 'sort thing', 'sorta', 'soul', 'soul mate', 'soulmate', 'sound', 'sound bit', 'sound exactly', 'sound exactly like', 'sound good', 'sound interesting', 'sound like', 'sound like good', 'sound lot', 'sound lot like', 'sound pretty', 'sound right', 'soundtrack', 'soup', 'sour', 'source', 'south', 'southern', 'sp', 'sp sx', 'space', 'spam', 'span', 'spanish', 'spare', 'spark', 'speak', 'speak mind', 'speaker', 'special', 'special life', 'special life circumstance', 'specially', 'specie', 'specific', 'specifically', 'specify', 'spectrum', 'speculate', 'speculation', 'speech', 'speed', 'spell', 'spelling', 'spend', 'spend day', 'spend hour', 'spend life', 'spend lot', 'spend lot time', 'spend money', 'spend time', 'spend year', 'spice', 'spider', 'spill', 'spin', 'spiral', 'spirit', 'spirited', 'spiritual', 'spirituality', 'spit', 'split', 'spoil', 'spoiler', 'spontaneous', 'spoon', 'sport', 'spot', 'spouse', 'spread', 'spring', 'spy', 'square', 'st', 'stab', 'stability', 'stable', 'stack', 'staff', 'stage', 'stalk', 'stalker', 'stance', 'stand', 'standard', 'standpoint', 'star', 'star trek', 'star wars', 'stare', 'stark', 'start', 'start conversation', 'start date', 'start feel', 'start like', 'start look', 'start new', 'start play', 'start read', 'start talk', 'start think', 'start thread', 'start watch', 'start work', 'start write', 'starter', 'starve', 'stat', 'state', 'state mind', 'statement', 'states', 'static', 'station', 'statistic', 'status', 'stay', 'stay away', 'stay home', 'steady', 'steal', 'steam', 'steel', 'stem', 'step', 'stephen', 'stereotype', 'stereotypical', 'stereotypically', 'steve', 'stick', 'stick head', 'sticky', 'stimulate', 'stimulation', 'stimulus', 'stir', 'stj', 'stock', 'stoic', 'stomach', 'stone', 'stop', 'stop talk', 'stop think', 'stop try', 'store', 'storm', 'story', 'story short', 'straight', 'straight forward', 'straightforward', 'strange', 'strangely', 'stranger', 'strategy', 'strawberry', 'streak', 'stream', 'street', 'strength', 'stress', 'stressful', 'stressful time', 'stressful time mental', 'stretch', 'strict', 'strictly', 'strike', 'string', 'strip', 'strive', 'stroke', 'strong', 'strong emotion', 'strong feeling', 'strongly', 'structure', 'struggle', 'stubborn', 'stuck', 'student', 'studio', 'study', 'stuff', 'stuff like', 'stuff think', 'stumble', 'stupid', 'stupid people', 'stupid thing', 'stupidity', 'style', 'sub', 'sub forum', 'subconscious', 'subconsciously', 'subforum', 'subject', 'subjective', 'submissive', 'submit', 'subscribe', 'substance', 'subtle', 'subtype', 'succeed', 'success', 'successful', 'successfully', 'suck', 'sucker', 'sudden', 'suddenly', 'suffer', 'sufficient', 'sugar', 'suggest', 'suggestion', 'suicidal', 'suicide', 'suit', 'suitable', 'sum', 'summarize', 'summary', 'summer', 'sun', 'sunday', 'sunny', 'sunshine', 'super', 'superficial', 'superior', 'superiority', 'supernatural', 'superpower', 'supervisor', 'supply', 'support', 'supportive', 'suppose', 'supposedly', 'suppress', 'sure', 'sure feel', 'sure find', 'sure good', 'sure infj', 'sure infp', 'sure intj', 'sure intp', 'sure know', 'sure like', 'sure love', 'sure mean', 'sure people', 'sure thing', 'sure think', 'sure type', 'sure understand', 'sure use', 'sure want', 'surely', 'surf', 'surface', 'surgery', 'surprise', 'surprised', 'surprising', 'surprisingly', 'surreal', 'surround', 'survey', 'survival', 'survive', 'suspect', 'suspicious', 'sustain', 'swallow', 'sway', 'swear', 'sweat', 'sweden', 'swedish', 'sweep', 'sweet', 'swift', 'swim', 'swimming', 'swing', 'switch', 'sword', 'sx', 'sx sp', 'symbol', 'symbolic', 'symbolism', 'sympathy', 'symptom', 'syndrome', 'system', 'tab', 'table', 'tactic', 'tad', 'tag', 'tail', 'tale', 'talent', 'talented', 'talk', 'talk feel', 'talk friend', 'talk good', 'talk know', 'talk like', 'talk lot', 'talk people', 'talk person', 'talk phone', 'talk talk', 'talk thing', 'talk think', 'talk time', 'talk want', 'talkative', 'tall', 'tan', 'tangent', 'tangible', 'tank', 'tap', 'tapatalk', 'tape', 'target', 'task', 'taste', 'taste like', 'tattoo', 'taurus', 'tax', 'taylor', 'tbh', 'te', 'te dom', 'te fi', 'te ni', 'te si', 'te ti', 'tea', 'teach', 'teacher', 'teaching', 'team', 'tear', 'tease', 'tech', 'technical', 'technically', 'technique', 'technology', 'ted', 'teddy', 'tedious', 'teen', 'teenage', 'teenage year', 'teenager', 'television', 'tell', 'tell feel', 'tell friend', 'tell good', 'tell guy', 'tell know', 'tell like', 'tell look', 'tell love', 'tell need', 'tell people', 'tell person', 'tell stop', 'tell story', 'tell tell', 'tell thing', 'tell think', 'tell time', 'tell truth', 'tell type', 'tell want', 'temper', 'temperament', 'temperature', 'temporary', 'tempt', 'tend', 'tend feel', 'tend like', 'tend look', 'tend think', 'tendency', 'tennis', 'tense', 'tension', 'term', 'term relationship', 'terrible', 'terribly', 'terrify', 'territory', 'tertiary', 'test', 'test come', 'test find', 'test infj', 'test infp', 'test intj', 'test intp', 'test like', 'test result', 'test score', 'test test', 'test think', 'test time', 'test type', 'testing', 'texas', 'text', 'text message', 'textbook', 'texte', 'texting', 'thank', 'thank advice', 'thank feel', 'thank god', 'thank good', 'thank guy', 'thank help', 'thank input', 'thank know', 'thank like', 'thank lot', 'thank post', 'thank reply', 'thank response', 'thank share', 'thank thank', 'thank think', 'thank time', 'thankful', 'thankfully', 'theater', 'theatre', 'theirs', 'theme', 'theoretical', 'theoretically', 'theory', 'therapist', 'therapy', 'thesis', 'thick', 'thin', 'thing', 'thing actually', 'thing ask', 'thing bad', 'thing care', 'thing change', 'thing come', 'thing consider', 'thing day', 'thing different', 'thing enjoy', 'thing especially', 'thing feel', 'thing feel like', 'thing find', 'thing friend', 'thing good', 'thing guess', 'thing happen', 'thing hard', 'thing hate', 'thing hear', 'thing help', 'thing infj', 'thing infp', 'thing intj', 'thing know', 'thing learn', 'thing life', 'thing like', 'thing long', 'thing look', 'thing lot', 'thing love', 'thing maybe', 'thing mean', 'thing mention', 'thing mind', 'thing need', 'thing notice', 'thing people', 'thing person', 'thing personally', 'thing pretty', 'thing probably', 'thing read', 'thing relate', 'thing remember', 'thing right', 'thing sound', 'thing start', 'thing sure', 'thing talk', 'thing tell', 'thing tend', 'thing thing', 'thing think', 'thing time', 'thing try', 'thing type', 'thing understand', 'thing use', 'thing usually', 'thing want', 'thing way', 'thing work', 'thing world', 'thing write', 'thing wrong', 'think', 'think able', 'think act', 'think actually', 'think agree', 'think answer', 'think ask', 'think bad', 'think believe', 'think big', 'think bit', 'think care', 'think case', 'think change', 'think come', 'think common', 'think completely', 'think cool', 'think crazy', 'think day', 'think definitely', 'think depend', 'think different', 'think easy', 'think enfj', 'think enfp', 'think enjoy', 'think entj', 'think entp', 'think esfj', 'think esfp', 'think estp', 'think exactly', 'think experience', 'think fact', 'think far', 'think fe', 'think feel', 'think feel like', 'think fi', 'think find', 'think fit', 'think friend', 'think fun', 'think funny', 'think girl', 'think good', 'think great', 'think guess', 'think guy', 'think happen', 'think happy', 'think hard', 'think hate', 'think help', 'think high', 'think idea', 'think important', 'think infj', 'think infp', 'think infps', 'think interesting', 'think intj', 'think intp', 'think introvert', 'think isfj', 'think isfp', 'think issue', 'think istj', 'think istp', 'think kind', 'think know', 'think learn', 'think let', 'think life', 'think like', 'think likely', 'think little', 'think long', 'think look', 'think lot', 'think lot people', 'think love', 'think main', 'think matter', 'think maybe', 'think mbti', 'think mean', 'think meet', 'think mind', 'think ne', 'think need', 'think ni', 'think nice', 'think normal', 'think people', 'think person', 'think personality', 'think point', 'think possible', 'think post', 'think pretty', 'think probably', 'think problem', 'think process', 'think question', 'think read', 'think real', 'think realize', 'think reason', 'think relate', 'think relationship', 'think right', 'think sense', 'think share', 'think situation', 'think sort', 'think sound', 'think start', 'think strong', 'think stupid', 'think sure', 'think talk', 'think tell', 'think tend', 'think term', 'think test', 'think thank', 'think thing', 'think think', 'think thread', 'think ti', 'think time', 'think true', 'think try', 'think type', 'think understand', 'think use', 'think usually', 'think want', 'think way', 'think weird', 'think word', 'think work', 'think world', 'think worth', 'think write', 'think wrong', 'think year', 'think yes', 'thinker', 'thinking', 'thirty', 'tho', 'thorough', 'thoroughly', 'thought', 'thought process', 'thoughtful', 'thousand', 'thread', 'thread feel', 'thread find', 'thread know', 'thread like', 'thread post', 'thread start', 'thread think', 'thread title', 'thread want', 'threat', 'threaten', 'thrill', 'thrive', 'throat', 'thrones', 'throw', 'throw away', 'thumb', 'thursday', 'ti', 'ti dom', 'ti fe', 'ti fi', 'ti ne', 'ti ni', 'ti se', 'ti te', 'ti user', 'tick', 'ticket', 'tidy', 'tie', 'tiger', 'tight', 'til', 'till', 'tim', 'time', 'time actually', 'time ago', 'time ask', 'time come', 'time day', 'time decide', 'time especially', 'time favorite', 'time feel', 'time feel like', 'time figure', 'time find', 'time friend', 'time good', 'time happen', 'time hear', 'time job', 'time know', 'time learn', 'time let', 'time life', 'time like', 'time long', 'time look', 'time lot', 'time love', 'time mean', 'time meet', 'time mental', 'time mental illness', 'time month', 'time need', 'time people', 'time play', 'time post', 'time pretty', 'time read', 'time realize', 'time right', 'time spend', 'time start', 'time sure', 'time talk', 'time tell', 'time test', 'time thank', 'time thing', 'time think', 'time time', 'time travel', 'time try', 'time type', 'time understand', 'time use', 'time usually', 'time want', 'time watch', 'time week', 'time work', 'time write', 'time year', 'time yes', 'tiny', 'tip', 'tire', 'tired', 'tiring', 'title', 'title thread', 'tj', 'tmlt', 'toast', 'today', 'toe', 'toilet', 'tolerance', 'tolerant', 'tolerate', 'tom', 'tomato', 'tomorrow', 'ton', 'tone', 'tongue', 'tonight', 'tony', 'tool', 'tooth', 'top', 'topic', 'torture', 'toss', 'total', 'totally', 'totally agree', 'totally different', 'totally relate', 'totally understand', 'touch', 'touchy', 'touchy feely', 'tough', 'tour', 'tower', 'town', 'toxic', 'toy', 'track', 'trade', 'tradition', 'traditional', 'traffic', 'tragedy', 'tragic', 'trail', 'trailer', 'train', 'training', 'trait', 'trance', 'transfer', 'transform', 'transition', 'translate', 'translation', 'trap', 'trash', 'trauma', 'traumatic', 'travel', 'treasure', 'treat', 'treat like', 'treatment', 'tree', 'trek', 'trend', 'tri', 'triad', 'trial', 'trick', 'tricky', 'trigger', 'trilogy', 'trip', 'triple', 'tritype', 'trivial', 'troll', 'trouble', 'truck', 'true', 'true love', 'true self', 'true think', 'truly', 'trump', 'trust', 'trust people', 'trustworthy', 'truth', 'try', 'try answer', 'try avoid', 'try change', 'try come', 'try convince', 'try explain', 'try feel', 'try figure', 'try find', 'try fit', 'try fix', 'try good', 'try hard', 'try help', 'try know', 'try learn', 'try like', 'try look', 'try new', 'try people', 'try read', 'try stay', 'try talk', 'try tell', 'try thing', 'try think', 'try time', 'try try', 'try type', 'try understand', 'try use', 'try work', 'try write', 'tuesday', 'tumblr', 'tune', 'turn', 'turtle', 'tutor', 'tv', 'twice', 'twilight', 'twin', 'twist', 'twitter', 'type', 'type actually', 'type base', 'type character', 'type come', 'type description', 'type different', 'type enfp', 'type enneagram', 'type entp', 'type feel', 'type find', 'type fit', 'type forum', 'type friend', 'type good', 'type guess', 'type guy', 'type infj', 'type infp', 'type intj', 'type intp', 'type istj', 'type know', 'type like', 'type likely', 'type look', 'type lot', 'type love', 'type mbti', 'type mean', 'type need', 'type people', 'type person', 'type personality', 'type pretty', 'type probably', 'type question', 'type read', 'type relate', 'type sure', 'type tend', 'type test', 'type thing', 'type think', 'type thread', 'type try', 'type type', 'type type type', 'type use', 'type want', 'type way', 'type wing', 'types', 'typical', 'typically', 'typing', 'typo', 'typology', 'ugh', 'ugly', 'uh', 'uk', 'ultimate', 'ultimately', 'um', 'umm', 'un', 'unable', 'unaware', 'uncertain', 'uncertainty', 'uncle', 'uncomfortable', 'uncommon', 'unconscious', 'underdeveloped', 'underestimate', 'undergrad', 'underlie', 'underneath', 'understand', 'understand come', 'understand feel', 'understand know', 'understand like', 'understand mean', 'understand need', 'understand people', 'understand point', 'understand thing', 'understand think', 'understand try', 'understand want', 'understandable', 'understanding', 'unexpected', 'unfair', 'unfortunate', 'unfortunately', 'unhappy', 'unhealthy', 'uni', 'unicorn', 'unintentionally', 'unique', 'unit', 'united', 'united states', 'universal', 'universe', 'university', 'unknown', 'unlike', 'unlikely', 'unnecessary', 'unpleasant', 'unpredictable', 'unrealistic', 'unrelated', 'unstable', 'unsure', 'unsure type', 'unusual', 'update', 'upload', 'upper', 'upset', 'upside', 'ur', 'urban', 'urge', 'us', 'usa', 'usage', 'use', 'use fe', 'use feel', 'use fi', 'use function', 'use good', 'use know', 'use like', 'use logic', 'use lot', 'use love', 'use mbti', 'use ne', 'use ni', 'use people', 'use play', 'use se', 'use send', 'use tapatalk', 'use te', 'use term', 'use thing', 'use think', 'use ti', 'use time', 'use use', 'use want', 'use way', 'use word', 'use work', 'useful', 'useful information', 'useful information include', 'useless', 'user', 'username', 'usual', 'usually', 'usually come', 'usually end', 'usually feel', 'usually find', 'usually good', 'usually like', 'usually people', 'usually pretty', 'usually think', 'usually try', 'utilize', 'utter', 'utterly', 'vacation', 'vague', 'vaguely', 'vain', 'valentine', 'valentine day', 'valid', 'validate', 'validation', 'validity', 'valuable', 'value', 'vampire', 'van', 'vanilla', 'variable', 'variant', 'variation', 'variety', 'vary', 'vast', 'vast majority', 've', 'vegan', 'vegetable', 'vegetarian', 'vehicle', 'vent', 'venting', 'venture', 'verbal', 'verbally', 'versa', 'verse', 'version', 'versus', 'versus versus', 'vibe', 'vice', 'vice versa', 'victim', 'vid', 'video', 'video game', 'videogame', 'view', 'view world', 'viewpoint', 'villain', 'violate', 'violence', 'violent', 'violin', 'virgin', 'virgo', 'virtual', 'virtually', 'virtue', 'visible', 'vision', 'visionary', 'visit', 'visual', 'vivid', 'vocabulary', 'vocal', 'voice', 'void', 'volume', 'volunteer', 'vote', 'vs', 'vulnerability', 'vulnerable', 'wage', 'wait', 'wake', 'wake morning', 'walk', 'walk away', 'wall', 'wallet', 'wander', 'wanna', 'wanna know', 'want', 'want able', 'want add', 'want ask', 'want believe', 'want change', 'want child', 'want come', 'want date', 'want feel', 'want find', 'want friend', 'want good', 'want hang', 'want hear', 'want help', 'want hug', 'want hurt', 'want kid', 'want know', 'want learn', 'want leave', 'want let', 'want life', 'want like', 'want live', 'want look', 'want love', 'want marry', 'want meet', 'want need', 'want people', 'want person', 'want play', 'want post', 'want read', 'want relationship', 'want share', 'want spend', 'want start', 'want stay', 'want sure', 'want talk', 'want tell', 'want thank', 'want thing', 'want think', 'want time', 'want try', 'want understand', 'want use', 'want want', 'want work', 'want write', 'war', 'warm', 'warmth', 'warn', 'warning', 'warrior', 'wars', 'wary', 'wash', 'waste', 'waste time', 'watch', 'watch episode', 'watch movie', 'watch people', 'watch tv', 'watch video', 'water', 'wave', 'way', 'way actually', 'way answer', 'way answer question', 'way come', 'way deal', 'way describe', 'way explain', 'way express', 'way feel', 'way find', 'way good', 'way help', 'way know', 'way life', 'way like', 'way live', 'way long', 'way look', 'way lot', 'way love', 'way mean', 'way need', 'way people', 'way talk', 'way tell', 'way thing', 'way think', 'way time', 'way try', 'way type', 'way understand', 'way use', 'way want', 'way way', 'way work', 'way write', 'weak', 'weakness', 'wealth', 'weapon', 'wear', 'weather', 'web', 'website', 'wedding', 'weed', 'week', 'week ago', 'weekend', 'weekly', 'weigh', 'weight', 'weird', 'weird thing', 'weirdo', 'welcome', 'welcome forum', 'welcome hope', 'welcome perc', 'welcome welcome', 'west', 'western', 'wet', 'whatnot', 'whatsoever', 'wheel', 'whilst', 'whine', 'whiny', 'whip', 'whisper', 'white', 'whoa', 'whore', 'wicked', 'wide', 'wife', 'wiki', 'wikipedia', 'wikipedia free', 'wikipedia free encyclopedia', 'wild', 'william', 'willing', 'willingness', 'win', 'wind', 'window', 'windows', 'wine', 'wing', 'wink', 'winter', 'wipe', 'wire', 'wisdom', 'wise', 'wish', 'wish good', 'wish know', 'wish people', 'wit', 'witch', 'withdraw', 'witness', 'witty', 'wizard', 'wolf', 'woman', 'woman like', 'woman man', 'wonder', 'wonder like', 'wonder people', 'wonder think', 'wonderful', 'woo', 'wood', 'word', 'word affirmation', 'word like', 'word mean', 'word think', 'word use', 'word word', 'work', 'work day', 'work feel', 'work find', 'work good', 'work hard', 'work hour', 'work know', 'work like', 'work lot', 'work people', 'work pretty', 'work school', 'work thing', 'work think', 'work time', 'work try', 'work want', 'work way', 'work work', 'work year', 'worker', 'workout', 'workplace', 'world', 'world domination', 'world feel', 'world know', 'world like', 'world people', 'world think', 'worried', 'worry', 'worship', 'worth', 'worthless', 'worthwhile', 'worthy', 'wound', 'wow', 'wp', 'wp content', 'wrap', 'wreck', 'write', 'write book', 'write like', 'write poetry', 'write post', 'write song', 'write story', 'write think', 'writer', 'writing', 'wrong', 'wrong think', 'wrong way', 'wtf', 'xd', 'xnfj', 'xnfp', 'xntj', 'xntp', 'xsfj', 'xstj', 'xstp', 'ya', 'ya know', 'yard', 'yay', 'yea', 'yeah', 'yeah definitely', 'yeah know', 'yeah like', 'yeah think', 'year', 'year ago', 'year college', 'year feel', 'year find', 'year good', 'year half', 'year high', 'year high school', 'year know', 'year later', 'year life', 'year like', 'year long', 'year love', 'year old', 'year relationship', 'year start', 'year think', 'year time', 'year year', 'year young', 'yearn', 'yell', 'yellow', 'yep', 'yes', 'yes definitely', 'yes feel', 'yes know', 'yes like', 'yes love', 'yes think', 'yes yes', 'yesterday', 'yield', 'yo', 'yoga', 'york', 'young', 'young age', 'young brother', 'young child', 'young people', 'young sister', 'youth', 'youtube', 'youtube video', 'yr', 'yup', 'zelda', 'zen', 'zero', 'zodiac', 'zombie', 'zone']\n"
          ]
        }
      ],
      "source": [
        "print((cv.get_feature_names()))"
      ]
    },
    {
      "cell_type": "code",
      "execution_count": 22,
      "metadata": {
        "colab": {
          "base_uri": "https://localhost:8080/",
          "height": 0
        },
        "id": "vE5vLjC9On8m",
        "outputId": "570b15e5-326d-4cb6-e6f1-c52170c80814"
      },
      "outputs": [
        {
          "output_type": "stream",
          "name": "stderr",
          "text": [
            "/usr/local/lib/python3.7/dist-packages/sklearn/utils/deprecation.py:87: FutureWarning:\n",
            "\n",
            "Function get_feature_names is deprecated; get_feature_names is deprecated in 1.0 and will be removed in 1.2. Please use get_feature_names_out instead.\n",
            "\n"
          ]
        },
        {
          "output_type": "stream",
          "name": "stdout",
          "text": [
            "[[0 0 0 ... 0 0 0]\n",
            " [1 0 1 ... 0 0 0]\n",
            " [0 2 1 ... 0 0 0]\n",
            " ...\n",
            " [0 0 0 ... 0 0 0]\n",
            " [0 0 2 ... 0 0 0]\n",
            " [0 0 1 ... 0 0 0]]\n"
          ]
        },
        {
          "output_type": "stream",
          "name": "stderr",
          "text": [
            "/usr/local/lib/python3.7/dist-packages/sklearn/utils/deprecation.py:87: FutureWarning:\n",
            "\n",
            "Function get_feature_names is deprecated; get_feature_names is deprecated in 1.0 and will be removed in 1.2. Please use get_feature_names_out instead.\n",
            "\n"
          ]
        },
        {
          "output_type": "execute_result",
          "data": {
            "text/plain": [
              "      abandon  ability  able  able find  abnormal  abortion  abroad  absence  \\\n",
              "0           0        0     0          0         0         0       0        0   \n",
              "1           1        0     1          0         0         0       0        0   \n",
              "2           0        2     1          0         0         0       0        0   \n",
              "3           0        0     2          0         0         0       0        0   \n",
              "4           0        0     0          0         0         0       0        0   \n",
              "...       ...      ...   ...        ...       ...       ...     ...      ...   \n",
              "8670        0        0     0          0         0         0       0        0   \n",
              "8671        0        0     0          0         0         0       0        0   \n",
              "8672        0        0     0          0         0         0       0        0   \n",
              "8673        0        0     2          0         0         0       0        0   \n",
              "8674        0        0     1          0         0         0       0        0   \n",
              "\n",
              "      absent  absolute  ...  youtube  youtube video  yr  yup  zelda  zen  \\\n",
              "0          0         0  ...        0              0   0    0      0    0   \n",
              "1          0         0  ...        0              0   0    0      0    0   \n",
              "2          0         0  ...        0              0   0    0      0    0   \n",
              "3          0         1  ...        0              0   0    0      0    0   \n",
              "4          0         0  ...        0              0   0    0      0    0   \n",
              "...      ...       ...  ...      ...            ...  ..  ...    ...  ...   \n",
              "8670       0         0  ...        1              0   0    0      0    0   \n",
              "8671       0         0  ...        0              0   0    0      0    0   \n",
              "8672       0         0  ...        0              0   0    0      0    0   \n",
              "8673       1         0  ...        0              0   0    0      0    0   \n",
              "8674       0         0  ...        0              0   0    0      0    0   \n",
              "\n",
              "      zero  zodiac  zombie  zone  \n",
              "0        0       0       0     0  \n",
              "1        0       0       0     0  \n",
              "2        0       0       0     0  \n",
              "3        0       0       0     0  \n",
              "4        0       0       0     0  \n",
              "...    ...     ...     ...   ...  \n",
              "8670     0       0       0     0  \n",
              "8671     0       0       0     0  \n",
              "8672     0       0       0     0  \n",
              "8673     0       0       0     0  \n",
              "8674     0       0       0     0  \n",
              "\n",
              "[8675 rows x 7000 columns]"
            ],
            "text/html": [
              "\n",
              "  <div id=\"df-ccf1e86b-946c-4a30-a828-3f9fb577c1c9\">\n",
              "    <div class=\"colab-df-container\">\n",
              "      <div>\n",
              "<style scoped>\n",
              "    .dataframe tbody tr th:only-of-type {\n",
              "        vertical-align: middle;\n",
              "    }\n",
              "\n",
              "    .dataframe tbody tr th {\n",
              "        vertical-align: top;\n",
              "    }\n",
              "\n",
              "    .dataframe thead th {\n",
              "        text-align: right;\n",
              "    }\n",
              "</style>\n",
              "<table border=\"1\" class=\"dataframe\">\n",
              "  <thead>\n",
              "    <tr style=\"text-align: right;\">\n",
              "      <th></th>\n",
              "      <th>abandon</th>\n",
              "      <th>ability</th>\n",
              "      <th>able</th>\n",
              "      <th>able find</th>\n",
              "      <th>abnormal</th>\n",
              "      <th>abortion</th>\n",
              "      <th>abroad</th>\n",
              "      <th>absence</th>\n",
              "      <th>absent</th>\n",
              "      <th>absolute</th>\n",
              "      <th>...</th>\n",
              "      <th>youtube</th>\n",
              "      <th>youtube video</th>\n",
              "      <th>yr</th>\n",
              "      <th>yup</th>\n",
              "      <th>zelda</th>\n",
              "      <th>zen</th>\n",
              "      <th>zero</th>\n",
              "      <th>zodiac</th>\n",
              "      <th>zombie</th>\n",
              "      <th>zone</th>\n",
              "    </tr>\n",
              "  </thead>\n",
              "  <tbody>\n",
              "    <tr>\n",
              "      <th>0</th>\n",
              "      <td>0</td>\n",
              "      <td>0</td>\n",
              "      <td>0</td>\n",
              "      <td>0</td>\n",
              "      <td>0</td>\n",
              "      <td>0</td>\n",
              "      <td>0</td>\n",
              "      <td>0</td>\n",
              "      <td>0</td>\n",
              "      <td>0</td>\n",
              "      <td>...</td>\n",
              "      <td>0</td>\n",
              "      <td>0</td>\n",
              "      <td>0</td>\n",
              "      <td>0</td>\n",
              "      <td>0</td>\n",
              "      <td>0</td>\n",
              "      <td>0</td>\n",
              "      <td>0</td>\n",
              "      <td>0</td>\n",
              "      <td>0</td>\n",
              "    </tr>\n",
              "    <tr>\n",
              "      <th>1</th>\n",
              "      <td>1</td>\n",
              "      <td>0</td>\n",
              "      <td>1</td>\n",
              "      <td>0</td>\n",
              "      <td>0</td>\n",
              "      <td>0</td>\n",
              "      <td>0</td>\n",
              "      <td>0</td>\n",
              "      <td>0</td>\n",
              "      <td>0</td>\n",
              "      <td>...</td>\n",
              "      <td>0</td>\n",
              "      <td>0</td>\n",
              "      <td>0</td>\n",
              "      <td>0</td>\n",
              "      <td>0</td>\n",
              "      <td>0</td>\n",
              "      <td>0</td>\n",
              "      <td>0</td>\n",
              "      <td>0</td>\n",
              "      <td>0</td>\n",
              "    </tr>\n",
              "    <tr>\n",
              "      <th>2</th>\n",
              "      <td>0</td>\n",
              "      <td>2</td>\n",
              "      <td>1</td>\n",
              "      <td>0</td>\n",
              "      <td>0</td>\n",
              "      <td>0</td>\n",
              "      <td>0</td>\n",
              "      <td>0</td>\n",
              "      <td>0</td>\n",
              "      <td>0</td>\n",
              "      <td>...</td>\n",
              "      <td>0</td>\n",
              "      <td>0</td>\n",
              "      <td>0</td>\n",
              "      <td>0</td>\n",
              "      <td>0</td>\n",
              "      <td>0</td>\n",
              "      <td>0</td>\n",
              "      <td>0</td>\n",
              "      <td>0</td>\n",
              "      <td>0</td>\n",
              "    </tr>\n",
              "    <tr>\n",
              "      <th>3</th>\n",
              "      <td>0</td>\n",
              "      <td>0</td>\n",
              "      <td>2</td>\n",
              "      <td>0</td>\n",
              "      <td>0</td>\n",
              "      <td>0</td>\n",
              "      <td>0</td>\n",
              "      <td>0</td>\n",
              "      <td>0</td>\n",
              "      <td>1</td>\n",
              "      <td>...</td>\n",
              "      <td>0</td>\n",
              "      <td>0</td>\n",
              "      <td>0</td>\n",
              "      <td>0</td>\n",
              "      <td>0</td>\n",
              "      <td>0</td>\n",
              "      <td>0</td>\n",
              "      <td>0</td>\n",
              "      <td>0</td>\n",
              "      <td>0</td>\n",
              "    </tr>\n",
              "    <tr>\n",
              "      <th>4</th>\n",
              "      <td>0</td>\n",
              "      <td>0</td>\n",
              "      <td>0</td>\n",
              "      <td>0</td>\n",
              "      <td>0</td>\n",
              "      <td>0</td>\n",
              "      <td>0</td>\n",
              "      <td>0</td>\n",
              "      <td>0</td>\n",
              "      <td>0</td>\n",
              "      <td>...</td>\n",
              "      <td>0</td>\n",
              "      <td>0</td>\n",
              "      <td>0</td>\n",
              "      <td>0</td>\n",
              "      <td>0</td>\n",
              "      <td>0</td>\n",
              "      <td>0</td>\n",
              "      <td>0</td>\n",
              "      <td>0</td>\n",
              "      <td>0</td>\n",
              "    </tr>\n",
              "    <tr>\n",
              "      <th>...</th>\n",
              "      <td>...</td>\n",
              "      <td>...</td>\n",
              "      <td>...</td>\n",
              "      <td>...</td>\n",
              "      <td>...</td>\n",
              "      <td>...</td>\n",
              "      <td>...</td>\n",
              "      <td>...</td>\n",
              "      <td>...</td>\n",
              "      <td>...</td>\n",
              "      <td>...</td>\n",
              "      <td>...</td>\n",
              "      <td>...</td>\n",
              "      <td>...</td>\n",
              "      <td>...</td>\n",
              "      <td>...</td>\n",
              "      <td>...</td>\n",
              "      <td>...</td>\n",
              "      <td>...</td>\n",
              "      <td>...</td>\n",
              "      <td>...</td>\n",
              "    </tr>\n",
              "    <tr>\n",
              "      <th>8670</th>\n",
              "      <td>0</td>\n",
              "      <td>0</td>\n",
              "      <td>0</td>\n",
              "      <td>0</td>\n",
              "      <td>0</td>\n",
              "      <td>0</td>\n",
              "      <td>0</td>\n",
              "      <td>0</td>\n",
              "      <td>0</td>\n",
              "      <td>0</td>\n",
              "      <td>...</td>\n",
              "      <td>1</td>\n",
              "      <td>0</td>\n",
              "      <td>0</td>\n",
              "      <td>0</td>\n",
              "      <td>0</td>\n",
              "      <td>0</td>\n",
              "      <td>0</td>\n",
              "      <td>0</td>\n",
              "      <td>0</td>\n",
              "      <td>0</td>\n",
              "    </tr>\n",
              "    <tr>\n",
              "      <th>8671</th>\n",
              "      <td>0</td>\n",
              "      <td>0</td>\n",
              "      <td>0</td>\n",
              "      <td>0</td>\n",
              "      <td>0</td>\n",
              "      <td>0</td>\n",
              "      <td>0</td>\n",
              "      <td>0</td>\n",
              "      <td>0</td>\n",
              "      <td>0</td>\n",
              "      <td>...</td>\n",
              "      <td>0</td>\n",
              "      <td>0</td>\n",
              "      <td>0</td>\n",
              "      <td>0</td>\n",
              "      <td>0</td>\n",
              "      <td>0</td>\n",
              "      <td>0</td>\n",
              "      <td>0</td>\n",
              "      <td>0</td>\n",
              "      <td>0</td>\n",
              "    </tr>\n",
              "    <tr>\n",
              "      <th>8672</th>\n",
              "      <td>0</td>\n",
              "      <td>0</td>\n",
              "      <td>0</td>\n",
              "      <td>0</td>\n",
              "      <td>0</td>\n",
              "      <td>0</td>\n",
              "      <td>0</td>\n",
              "      <td>0</td>\n",
              "      <td>0</td>\n",
              "      <td>0</td>\n",
              "      <td>...</td>\n",
              "      <td>0</td>\n",
              "      <td>0</td>\n",
              "      <td>0</td>\n",
              "      <td>0</td>\n",
              "      <td>0</td>\n",
              "      <td>0</td>\n",
              "      <td>0</td>\n",
              "      <td>0</td>\n",
              "      <td>0</td>\n",
              "      <td>0</td>\n",
              "    </tr>\n",
              "    <tr>\n",
              "      <th>8673</th>\n",
              "      <td>0</td>\n",
              "      <td>0</td>\n",
              "      <td>2</td>\n",
              "      <td>0</td>\n",
              "      <td>0</td>\n",
              "      <td>0</td>\n",
              "      <td>0</td>\n",
              "      <td>0</td>\n",
              "      <td>1</td>\n",
              "      <td>0</td>\n",
              "      <td>...</td>\n",
              "      <td>0</td>\n",
              "      <td>0</td>\n",
              "      <td>0</td>\n",
              "      <td>0</td>\n",
              "      <td>0</td>\n",
              "      <td>0</td>\n",
              "      <td>0</td>\n",
              "      <td>0</td>\n",
              "      <td>0</td>\n",
              "      <td>0</td>\n",
              "    </tr>\n",
              "    <tr>\n",
              "      <th>8674</th>\n",
              "      <td>0</td>\n",
              "      <td>0</td>\n",
              "      <td>1</td>\n",
              "      <td>0</td>\n",
              "      <td>0</td>\n",
              "      <td>0</td>\n",
              "      <td>0</td>\n",
              "      <td>0</td>\n",
              "      <td>0</td>\n",
              "      <td>0</td>\n",
              "      <td>...</td>\n",
              "      <td>0</td>\n",
              "      <td>0</td>\n",
              "      <td>0</td>\n",
              "      <td>0</td>\n",
              "      <td>0</td>\n",
              "      <td>0</td>\n",
              "      <td>0</td>\n",
              "      <td>0</td>\n",
              "      <td>0</td>\n",
              "      <td>0</td>\n",
              "    </tr>\n",
              "  </tbody>\n",
              "</table>\n",
              "<p>8675 rows × 7000 columns</p>\n",
              "</div>\n",
              "      <button class=\"colab-df-convert\" onclick=\"convertToInteractive('df-ccf1e86b-946c-4a30-a828-3f9fb577c1c9')\"\n",
              "              title=\"Convert this dataframe to an interactive table.\"\n",
              "              style=\"display:none;\">\n",
              "        \n",
              "  <svg xmlns=\"http://www.w3.org/2000/svg\" height=\"24px\"viewBox=\"0 0 24 24\"\n",
              "       width=\"24px\">\n",
              "    <path d=\"M0 0h24v24H0V0z\" fill=\"none\"/>\n",
              "    <path d=\"M18.56 5.44l.94 2.06.94-2.06 2.06-.94-2.06-.94-.94-2.06-.94 2.06-2.06.94zm-11 1L8.5 8.5l.94-2.06 2.06-.94-2.06-.94L8.5 2.5l-.94 2.06-2.06.94zm10 10l.94 2.06.94-2.06 2.06-.94-2.06-.94-.94-2.06-.94 2.06-2.06.94z\"/><path d=\"M17.41 7.96l-1.37-1.37c-.4-.4-.92-.59-1.43-.59-.52 0-1.04.2-1.43.59L10.3 9.45l-7.72 7.72c-.78.78-.78 2.05 0 2.83L4 21.41c.39.39.9.59 1.41.59.51 0 1.02-.2 1.41-.59l7.78-7.78 2.81-2.81c.8-.78.8-2.07 0-2.86zM5.41 20L4 18.59l7.72-7.72 1.47 1.35L5.41 20z\"/>\n",
              "  </svg>\n",
              "      </button>\n",
              "      \n",
              "  <style>\n",
              "    .colab-df-container {\n",
              "      display:flex;\n",
              "      flex-wrap:wrap;\n",
              "      gap: 12px;\n",
              "    }\n",
              "\n",
              "    .colab-df-convert {\n",
              "      background-color: #E8F0FE;\n",
              "      border: none;\n",
              "      border-radius: 50%;\n",
              "      cursor: pointer;\n",
              "      display: none;\n",
              "      fill: #1967D2;\n",
              "      height: 32px;\n",
              "      padding: 0 0 0 0;\n",
              "      width: 32px;\n",
              "    }\n",
              "\n",
              "    .colab-df-convert:hover {\n",
              "      background-color: #E2EBFA;\n",
              "      box-shadow: 0px 1px 2px rgba(60, 64, 67, 0.3), 0px 1px 3px 1px rgba(60, 64, 67, 0.15);\n",
              "      fill: #174EA6;\n",
              "    }\n",
              "\n",
              "    [theme=dark] .colab-df-convert {\n",
              "      background-color: #3B4455;\n",
              "      fill: #D2E3FC;\n",
              "    }\n",
              "\n",
              "    [theme=dark] .colab-df-convert:hover {\n",
              "      background-color: #434B5C;\n",
              "      box-shadow: 0px 1px 3px 1px rgba(0, 0, 0, 0.15);\n",
              "      filter: drop-shadow(0px 1px 2px rgba(0, 0, 0, 0.3));\n",
              "      fill: #FFFFFF;\n",
              "    }\n",
              "  </style>\n",
              "\n",
              "      <script>\n",
              "        const buttonEl =\n",
              "          document.querySelector('#df-ccf1e86b-946c-4a30-a828-3f9fb577c1c9 button.colab-df-convert');\n",
              "        buttonEl.style.display =\n",
              "          google.colab.kernel.accessAllowed ? 'block' : 'none';\n",
              "\n",
              "        async function convertToInteractive(key) {\n",
              "          const element = document.querySelector('#df-ccf1e86b-946c-4a30-a828-3f9fb577c1c9');\n",
              "          const dataTable =\n",
              "            await google.colab.kernel.invokeFunction('convertToInteractive',\n",
              "                                                     [key], {});\n",
              "          if (!dataTable) return;\n",
              "\n",
              "          const docLinkHtml = 'Like what you see? Visit the ' +\n",
              "            '<a target=\"_blank\" href=https://colab.research.google.com/notebooks/data_table.ipynb>data table notebook</a>'\n",
              "            + ' to learn more about interactive tables.';\n",
              "          element.innerHTML = '';\n",
              "          dataTable['output_type'] = 'display_data';\n",
              "          await google.colab.output.renderOutput(dataTable, element);\n",
              "          const docLink = document.createElement('div');\n",
              "          docLink.innerHTML = docLinkHtml;\n",
              "          element.appendChild(docLink);\n",
              "        }\n",
              "      </script>\n",
              "    </div>\n",
              "  </div>\n",
              "  "
            ]
          },
          "metadata": {},
          "execution_count": 22
        }
      ],
      "source": [
        "#featurized = featurized[:, featurized.sum(axis=1) >= 2]\n",
        "print(featurized)\n",
        "featurized=pd.DataFrame(data=featurized,columns=cv.get_feature_names())\n",
        "#featurized=featurized[featurized.columns[featurized.sum()>0.2]]\n",
        "featurized"
      ]
    },
    {
      "cell_type": "code",
      "execution_count": 22,
      "metadata": {
        "id": "Mall9GVAcw1_"
      },
      "outputs": [],
      "source": [
        ""
      ]
    },
    {
      "cell_type": "markdown",
      "metadata": {
        "id": "qMU0JG7PfA4P"
      },
      "source": [
        "## Splitting training and testing data"
      ]
    },
    {
      "cell_type": "code",
      "execution_count": 23,
      "metadata": {
        "id": "eob8lLo0cw3l"
      },
      "outputs": [],
      "source": [
        "from sklearn.model_selection import train_test_split"
      ]
    },
    {
      "cell_type": "code",
      "execution_count": 24,
      "metadata": {
        "id": "0Va5OdRacw77"
      },
      "outputs": [],
      "source": [
        "X_train, X_test, y_train, y_test = train_test_split(featurized, Y, test_size=0.3,random_state=1)\n",
        "#print(X_train,y_train)\n"
      ]
    },
    {
      "cell_type": "code",
      "execution_count": 25,
      "metadata": {
        "id": "Rl3b7lVAcw9Z"
      },
      "outputs": [],
      "source": [
        "y_IE=y_train['IE']"
      ]
    },
    {
      "cell_type": "markdown",
      "metadata": {
        "id": "RW_ZkjwNFI8A"
      },
      "source": [
        "## Logistic Regression"
      ]
    },
    {
      "cell_type": "code",
      "execution_count": 26,
      "metadata": {
        "id": "JpJ7JMroq_Wg"
      },
      "outputs": [],
      "source": [
        "from sklearn.metrics import plot_confusion_matrix\n"
      ]
    },
    {
      "cell_type": "code",
      "execution_count": 27,
      "metadata": {
        "colab": {
          "base_uri": "https://localhost:8080/",
          "height": 0
        },
        "id": "ScI6l7NwcxBS",
        "outputId": "4b43bff9-561f-4091-a4bc-50a62b5f1466"
      },
      "outputs": [
        {
          "output_type": "stream",
          "name": "stderr",
          "text": [
            "/usr/local/lib/python3.7/dist-packages/sklearn/linear_model/_logistic.py:818: ConvergenceWarning:\n",
            "\n",
            "lbfgs failed to converge (status=1):\n",
            "STOP: TOTAL NO. of ITERATIONS REACHED LIMIT.\n",
            "\n",
            "Increase the number of iterations (max_iter) or scale the data as shown in:\n",
            "    https://scikit-learn.org/stable/modules/preprocessing.html\n",
            "Please also refer to the documentation for alternative solver options:\n",
            "    https://scikit-learn.org/stable/modules/linear_model.html#logistic-regression\n",
            "\n"
          ]
        },
        {
          "output_type": "execute_result",
          "data": {
            "text/plain": [
              "LogisticRegression()"
            ]
          },
          "metadata": {},
          "execution_count": 27
        },
        {
          "output_type": "stream",
          "name": "stderr",
          "text": [
            "/usr/local/lib/python3.7/dist-packages/sklearn/utils/deprecation.py:87: FutureWarning:\n",
            "\n",
            "Function plot_confusion_matrix is deprecated; Function `plot_confusion_matrix` is deprecated in 1.0 and will be removed in 1.2. Use one of the class methods: ConfusionMatrixDisplay.from_predictions or ConfusionMatrixDisplay.from_estimator.\n",
            "\n"
          ]
        },
        {
          "output_type": "execute_result",
          "data": {
            "text/plain": [
              "<sklearn.metrics._plot.confusion_matrix.ConfusionMatrixDisplay at 0x7efc007e2a90>"
            ]
          },
          "metadata": {},
          "execution_count": 27
        },
        {
          "output_type": "display_data",
          "data": {
            "text/plain": [
              "<Figure size 432x288 with 2 Axes>"
            ],
            "image/png": "[encoded data removed]"
          },
          "metadata": {
            "needs_background": "light"
          }
        },
        {
          "output_type": "stream",
          "name": "stdout",
          "text": [
            "0.80945063388398\n"
          ]
        }
      ],
      "source": [
        "from sklearn.linear_model import LogisticRegression\n",
        "\n",
        "logistic_IE = LogisticRegression()\n",
        "logistic_IE.fit(X_train, y_IE)\n",
        "# y_pred_log = logistic.predict(X_test)\n",
        "# y_pred_log1 = logistic.predict_proba(X_test)\n",
        "plot_confusion_matrix(logistic_IE, X_test, y_test['IE'])  \n",
        "plt.show()\n",
        "\n",
        "\n",
        "print(logistic_IE.score(X_test,y_test['IE']))\n",
        "\n",
        "#print(y_pred_log)\n",
        "# from sklearn.metrics import classification_report, log_loss\n",
        "\n",
        "# print('Logistic Regression Report')\n",
        "# print( classification_report(y_test,y_pred_log))\n",
        "# print('Log Loss:', log_loss(y_test,y_pred_log1))"
      ]
    },
    {
      "cell_type": "code",
      "execution_count": 28,
      "metadata": {
        "colab": {
          "base_uri": "https://localhost:8080/",
          "height": 0
        },
        "id": "A9aWiARgcxC2",
        "outputId": "e7fae179-7def-4d46-c420-7678552c5add"
      },
      "outputs": [
        {
          "output_type": "stream",
          "name": "stderr",
          "text": [
            "/usr/local/lib/python3.7/dist-packages/sklearn/linear_model/_logistic.py:818: ConvergenceWarning:\n",
            "\n",
            "lbfgs failed to converge (status=1):\n",
            "STOP: TOTAL NO. of ITERATIONS REACHED LIMIT.\n",
            "\n",
            "Increase the number of iterations (max_iter) or scale the data as shown in:\n",
            "    https://scikit-learn.org/stable/modules/preprocessing.html\n",
            "Please also refer to the documentation for alternative solver options:\n",
            "    https://scikit-learn.org/stable/modules/linear_model.html#logistic-regression\n",
            "\n"
          ]
        },
        {
          "output_type": "execute_result",
          "data": {
            "text/plain": [
              "LogisticRegression()"
            ]
          },
          "metadata": {},
          "execution_count": 28
        },
        {
          "output_type": "stream",
          "name": "stderr",
          "text": [
            "/usr/local/lib/python3.7/dist-packages/sklearn/utils/deprecation.py:87: FutureWarning:\n",
            "\n",
            "Function plot_confusion_matrix is deprecated; Function `plot_confusion_matrix` is deprecated in 1.0 and will be removed in 1.2. Use one of the class methods: ConfusionMatrixDisplay.from_predictions or ConfusionMatrixDisplay.from_estimator.\n",
            "\n"
          ]
        },
        {
          "output_type": "execute_result",
          "data": {
            "text/plain": [
              "<sklearn.metrics._plot.confusion_matrix.ConfusionMatrixDisplay at 0x7efc2612da50>"
            ]
          },
          "metadata": {},
          "execution_count": 28
        },
        {
          "output_type": "display_data",
          "data": {
            "text/plain": [
              "<Figure size 432x288 with 2 Axes>"
            ],
            "image/png": "[encoded data removed]"
          },
          "metadata": {
            "needs_background": "light"
          }
        },
        {
          "output_type": "stream",
          "name": "stdout",
          "text": [
            "0.885516711486746\n"
          ]
        }
      ],
      "source": [
        "logistic_NS = LogisticRegression()\n",
        "logistic_NS.fit(X_train, y_train['NS'])\n",
        "# y_pred_log = logistic.predict(X_test)\n",
        "# y_pred_log1 = logistic.predict_proba(X_test)\n",
        "plot_confusion_matrix(logistic_NS, X_test, y_test['NS'])  \n",
        "plt.show()\n",
        "print(logistic_NS.score(X_test,y_test['NS']))"
      ]
    },
    {
      "cell_type": "code",
      "execution_count": 29,
      "metadata": {
        "colab": {
          "base_uri": "https://localhost:8080/",
          "height": 0
        },
        "id": "Ff2SjC0wcxGZ",
        "outputId": "cc8916c9-91bd-47de-9187-ab3ff197a885"
      },
      "outputs": [
        {
          "output_type": "stream",
          "name": "stderr",
          "text": [
            "/usr/local/lib/python3.7/dist-packages/sklearn/linear_model/_logistic.py:818: ConvergenceWarning:\n",
            "\n",
            "lbfgs failed to converge (status=1):\n",
            "STOP: TOTAL NO. of ITERATIONS REACHED LIMIT.\n",
            "\n",
            "Increase the number of iterations (max_iter) or scale the data as shown in:\n",
            "    https://scikit-learn.org/stable/modules/preprocessing.html\n",
            "Please also refer to the documentation for alternative solver options:\n",
            "    https://scikit-learn.org/stable/modules/linear_model.html#logistic-regression\n",
            "\n"
          ]
        },
        {
          "output_type": "execute_result",
          "data": {
            "text/plain": [
              "LogisticRegression()"
            ]
          },
          "metadata": {},
          "execution_count": 29
        },
        {
          "output_type": "stream",
          "name": "stderr",
          "text": [
            "/usr/local/lib/python3.7/dist-packages/sklearn/utils/deprecation.py:87: FutureWarning:\n",
            "\n",
            "Function plot_confusion_matrix is deprecated; Function `plot_confusion_matrix` is deprecated in 1.0 and will be removed in 1.2. Use one of the class methods: ConfusionMatrixDisplay.from_predictions or ConfusionMatrixDisplay.from_estimator.\n",
            "\n"
          ]
        },
        {
          "output_type": "execute_result",
          "data": {
            "text/plain": [
              "<sklearn.metrics._plot.confusion_matrix.ConfusionMatrixDisplay at 0x7efc259066d0>"
            ]
          },
          "metadata": {},
          "execution_count": 29
        },
        {
          "output_type": "display_data",
          "data": {
            "text/plain": [
              "<Figure size 432x288 with 2 Axes>"
            ],
            "image/png": "[encoded data removed]"
          },
          "metadata": {
            "needs_background": "light"
          }
        },
        {
          "output_type": "stream",
          "name": "stdout",
          "text": [
            "0.8167499039569728\n"
          ]
        }
      ],
      "source": [
        "logistic_TF = LogisticRegression()\n",
        "logistic_TF.fit(X_train, y_train['TF'])\n",
        "# y_pred_log = logistic.predict(X_test)\n",
        "# y_pred_log1 = logistic.predict_proba(X_test)\n",
        "plot_confusion_matrix(logistic_TF, X_test, y_test['TF'])  \n",
        "plt.show()\n",
        "print(logistic_TF.score(X_test,y_test['TF']))"
      ]
    },
    {
      "cell_type": "code",
      "execution_count": 30,
      "metadata": {
        "colab": {
          "base_uri": "https://localhost:8080/",
          "height": 0
        },
        "id": "pMFcDWn3cxIA",
        "outputId": "7bc6ce56-bcab-4b9a-a74e-9ce26e316e64"
      },
      "outputs": [
        {
          "output_type": "stream",
          "name": "stderr",
          "text": [
            "/usr/local/lib/python3.7/dist-packages/sklearn/linear_model/_logistic.py:818: ConvergenceWarning:\n",
            "\n",
            "lbfgs failed to converge (status=1):\n",
            "STOP: TOTAL NO. of ITERATIONS REACHED LIMIT.\n",
            "\n",
            "Increase the number of iterations (max_iter) or scale the data as shown in:\n",
            "    https://scikit-learn.org/stable/modules/preprocessing.html\n",
            "Please also refer to the documentation for alternative solver options:\n",
            "    https://scikit-learn.org/stable/modules/linear_model.html#logistic-regression\n",
            "\n"
          ]
        },
        {
          "output_type": "execute_result",
          "data": {
            "text/plain": [
              "LogisticRegression()"
            ]
          },
          "metadata": {},
          "execution_count": 30
        },
        {
          "output_type": "stream",
          "name": "stderr",
          "text": [
            "/usr/local/lib/python3.7/dist-packages/sklearn/utils/deprecation.py:87: FutureWarning:\n",
            "\n",
            "Function plot_confusion_matrix is deprecated; Function `plot_confusion_matrix` is deprecated in 1.0 and will be removed in 1.2. Use one of the class methods: ConfusionMatrixDisplay.from_predictions or ConfusionMatrixDisplay.from_estimator.\n",
            "\n"
          ]
        },
        {
          "output_type": "execute_result",
          "data": {
            "text/plain": [
              "<sklearn.metrics._plot.confusion_matrix.ConfusionMatrixDisplay at 0x7efc28309890>"
            ]
          },
          "metadata": {},
          "execution_count": 30
        },
        {
          "output_type": "display_data",
          "data": {
            "text/plain": [
              "<Figure size 432x288 with 2 Axes>"
            ],
            "image/png": "[encoded data removed]"
          },
          "metadata": {
            "needs_background": "light"
          }
        },
        {
          "output_type": "stream",
          "name": "stdout",
          "text": [
            "0.742604686899731\n"
          ]
        }
      ],
      "source": [
        "logistic_PJ = LogisticRegression()\n",
        "logistic_PJ.fit(X_train, y_train['PJ'])\n",
        "# y_pred_log = logistic.predict(X_test)\n",
        "# y_pred_log1 = logistic.predict_proba(X_test)\n",
        "plot_confusion_matrix(logistic_PJ, X_test, y_test['PJ'])  \n",
        "plt.show()\n",
        "print(logistic_PJ.score(X_test,y_test['PJ']))"
      ]
    },
    {
      "cell_type": "markdown",
      "metadata": {
        "id": "6hu9hUqNyMya"
      },
      "source": [
        "# Naive Bayes"
      ]
    },
    {
      "cell_type": "code",
      "execution_count": 31,
      "metadata": {
        "id": "gBKXybVOcxLq"
      },
      "outputs": [],
      "source": [
        "from sklearn.naive_bayes import GaussianNB\n"
      ]
    },
    {
      "cell_type": "code",
      "execution_count": 32,
      "metadata": {
        "colab": {
          "base_uri": "https://localhost:8080/",
          "height": 403
        },
        "id": "szBqgzyocxNi",
        "outputId": "b8c3e896-b73d-4363-ba17-cf376a222ec7"
      },
      "outputs": [
        {
          "output_type": "execute_result",
          "data": {
            "text/plain": [
              "GaussianNB()"
            ]
          },
          "metadata": {},
          "execution_count": 32
        },
        {
          "output_type": "stream",
          "name": "stderr",
          "text": [
            "/usr/local/lib/python3.7/dist-packages/sklearn/utils/deprecation.py:87: FutureWarning:\n",
            "\n",
            "Function plot_confusion_matrix is deprecated; Function `plot_confusion_matrix` is deprecated in 1.0 and will be removed in 1.2. Use one of the class methods: ConfusionMatrixDisplay.from_predictions or ConfusionMatrixDisplay.from_estimator.\n",
            "\n"
          ]
        },
        {
          "output_type": "execute_result",
          "data": {
            "text/plain": [
              "<sklearn.metrics._plot.confusion_matrix.ConfusionMatrixDisplay at 0x7efc00a0bc50>"
            ]
          },
          "metadata": {},
          "execution_count": 32
        },
        {
          "output_type": "display_data",
          "data": {
            "text/plain": [
              "<Figure size 432x288 with 2 Axes>"
            ],
            "image/png": "[encoded data removed]"
          },
          "metadata": {
            "needs_background": "light"
          }
        },
        {
          "output_type": "stream",
          "name": "stdout",
          "text": [
            "0.6918939684978871\n"
          ]
        }
      ],
      "source": [
        "Gaussian_IE = GaussianNB()\n",
        "Gaussian_IE.fit(X_train, y_train['IE'])\n",
        "# y_pred_log = Gaussian.predict(X_test)\n",
        "# y_pred_log1 = Gaussian.predict_proba(X_test)\n",
        "plot_confusion_matrix(Gaussian_IE, X_test, y_test['IE'])  \n",
        "plt.show()\n",
        "print(Gaussian_IE.score(X_test,y_test['IE']))\n"
      ]
    },
    {
      "cell_type": "code",
      "execution_count": 33,
      "metadata": {
        "id": "QstRP4UWcxRt"
      },
      "outputs": [],
      "source": [
        "from sklearn.naive_bayes import MultinomialNB\n"
      ]
    },
    {
      "cell_type": "code",
      "execution_count": 34,
      "metadata": {
        "colab": {
          "base_uri": "https://localhost:8080/",
          "height": 403
        },
        "id": "dzmeKDwkh-Jz",
        "outputId": "3f6128b0-bfdc-430e-9a00-e0a3335023d2"
      },
      "outputs": [
        {
          "output_type": "execute_result",
          "data": {
            "text/plain": [
              "MultinomialNB(alpha=1e-08)"
            ]
          },
          "metadata": {},
          "execution_count": 34
        },
        {
          "output_type": "stream",
          "name": "stderr",
          "text": [
            "/usr/local/lib/python3.7/dist-packages/sklearn/utils/deprecation.py:87: FutureWarning:\n",
            "\n",
            "Function plot_confusion_matrix is deprecated; Function `plot_confusion_matrix` is deprecated in 1.0 and will be removed in 1.2. Use one of the class methods: ConfusionMatrixDisplay.from_predictions or ConfusionMatrixDisplay.from_estimator.\n",
            "\n"
          ]
        },
        {
          "output_type": "execute_result",
          "data": {
            "text/plain": [
              "<sklearn.metrics._plot.confusion_matrix.ConfusionMatrixDisplay at 0x7efc272b48d0>"
            ]
          },
          "metadata": {},
          "execution_count": 34
        },
        {
          "output_type": "display_data",
          "data": {
            "text/plain": [
              "<Figure size 432x288 with 2 Axes>"
            ],
            "image/png": "[encoded data removed]"
          },
          "metadata": {
            "needs_background": "light"
          }
        },
        {
          "output_type": "stream",
          "name": "stdout",
          "text": [
            "0.7979254706108336\n"
          ]
        }
      ],
      "source": [
        "clf = MultinomialNB(alpha=1e-8)\n",
        "clf.fit(X_train, y_train['IE'])\n",
        "plot_confusion_matrix(clf, X_test, y_test['IE'])  \n",
        "plt.show()\n",
        "print(clf.score(X_test,y_test['IE']))"
      ]
    },
    {
      "cell_type": "code",
      "execution_count": 35,
      "metadata": {
        "colab": {
          "base_uri": "https://localhost:8080/",
          "height": 403
        },
        "id": "G_3Z8MC-h-Ll",
        "outputId": "c103d3f9-a3ee-4bb6-a1b6-6a91420e22c3"
      },
      "outputs": [
        {
          "output_type": "execute_result",
          "data": {
            "text/plain": [
              "MultinomialNB(alpha=1e-08)"
            ]
          },
          "metadata": {},
          "execution_count": 35
        },
        {
          "output_type": "stream",
          "name": "stderr",
          "text": [
            "/usr/local/lib/python3.7/dist-packages/sklearn/utils/deprecation.py:87: FutureWarning:\n",
            "\n",
            "Function plot_confusion_matrix is deprecated; Function `plot_confusion_matrix` is deprecated in 1.0 and will be removed in 1.2. Use one of the class methods: ConfusionMatrixDisplay.from_predictions or ConfusionMatrixDisplay.from_estimator.\n",
            "\n"
          ]
        },
        {
          "output_type": "execute_result",
          "data": {
            "text/plain": [
              "<sklearn.metrics._plot.confusion_matrix.ConfusionMatrixDisplay at 0x7efc272b04d0>"
            ]
          },
          "metadata": {},
          "execution_count": 35
        },
        {
          "output_type": "display_data",
          "data": {
            "text/plain": [
              "<Figure size 432x288 with 2 Axes>"
            ],
            "image/png": "[encoded data removed]"
          },
          "metadata": {
            "needs_background": "light"
          }
        },
        {
          "output_type": "stream",
          "name": "stdout",
          "text": [
            "0.8755282366500192\n"
          ]
        }
      ],
      "source": [
        "clfNS = MultinomialNB(alpha=1e-8)\n",
        "clfNS.fit(X_train, y_train['NS'])\n",
        "plot_confusion_matrix(clfNS, X_test, y_test['NS'])  \n",
        "plt.show()\n",
        "print(clfNS.score(X_test,y_test['NS']))"
      ]
    },
    {
      "cell_type": "code",
      "execution_count": 36,
      "metadata": {
        "colab": {
          "base_uri": "https://localhost:8080/",
          "height": 403
        },
        "id": "dDSnXI_bh-Qw",
        "outputId": "68c7215d-0be1-46b3-8db2-0f3d6622250c"
      },
      "outputs": [
        {
          "output_type": "execute_result",
          "data": {
            "text/plain": [
              "MultinomialNB(alpha=1e-08)"
            ]
          },
          "metadata": {},
          "execution_count": 36
        },
        {
          "output_type": "stream",
          "name": "stderr",
          "text": [
            "/usr/local/lib/python3.7/dist-packages/sklearn/utils/deprecation.py:87: FutureWarning:\n",
            "\n",
            "Function plot_confusion_matrix is deprecated; Function `plot_confusion_matrix` is deprecated in 1.0 and will be removed in 1.2. Use one of the class methods: ConfusionMatrixDisplay.from_predictions or ConfusionMatrixDisplay.from_estimator.\n",
            "\n"
          ]
        },
        {
          "output_type": "execute_result",
          "data": {
            "text/plain": [
              "<sklearn.metrics._plot.confusion_matrix.ConfusionMatrixDisplay at 0x7efc1ab7f710>"
            ]
          },
          "metadata": {},
          "execution_count": 36
        },
        {
          "output_type": "display_data",
          "data": {
            "text/plain": [
              "<Figure size 432x288 with 2 Axes>"
            ],
            "image/png": "[encoded data removed]"
          },
          "metadata": {
            "needs_background": "light"
          }
        },
        {
          "output_type": "stream",
          "name": "stdout",
          "text": [
            "0.7502881290818286\n"
          ]
        }
      ],
      "source": [
        "clfPJ = MultinomialNB(alpha=1e-8)\n",
        "clfPJ.fit(X_train, y_train['PJ'])\n",
        "plot_confusion_matrix(clfPJ, X_test, y_test['PJ'])  \n",
        "plt.show()\n",
        "print(clfPJ.score(X_test,y_test['PJ']))"
      ]
    },
    {
      "cell_type": "code",
      "execution_count": 37,
      "metadata": {
        "colab": {
          "base_uri": "https://localhost:8080/",
          "height": 403
        },
        "id": "qkMRtIV4h-SR",
        "outputId": "bebd4908-95c6-46ca-f6fa-86e794b7db23"
      },
      "outputs": [
        {
          "output_type": "execute_result",
          "data": {
            "text/plain": [
              "MultinomialNB(alpha=1e-08)"
            ]
          },
          "metadata": {},
          "execution_count": 37
        },
        {
          "output_type": "stream",
          "name": "stderr",
          "text": [
            "/usr/local/lib/python3.7/dist-packages/sklearn/utils/deprecation.py:87: FutureWarning:\n",
            "\n",
            "Function plot_confusion_matrix is deprecated; Function `plot_confusion_matrix` is deprecated in 1.0 and will be removed in 1.2. Use one of the class methods: ConfusionMatrixDisplay.from_predictions or ConfusionMatrixDisplay.from_estimator.\n",
            "\n"
          ]
        },
        {
          "output_type": "execute_result",
          "data": {
            "text/plain": [
              "<sklearn.metrics._plot.confusion_matrix.ConfusionMatrixDisplay at 0x7efc2279b150>"
            ]
          },
          "metadata": {},
          "execution_count": 37
        },
        {
          "output_type": "display_data",
          "data": {
            "text/plain": [
              "<Figure size 432x288 with 2 Axes>"
            ],
            "image/png": "[encoded data removed]"
          },
          "metadata": {
            "needs_background": "light"
          }
        },
        {
          "output_type": "stream",
          "name": "stdout",
          "text": [
            "0.8182865923933922\n"
          ]
        }
      ],
      "source": [
        "clfTF = MultinomialNB(alpha=1e-8)\n",
        "clfTF.fit(X_train, y_train['TF'])\n",
        "plot_confusion_matrix(clfTF, X_test, y_test['TF'])  \n",
        "plt.show()\n",
        "print(clfTF.score(X_test,y_test['TF']))"
      ]
    },
    {
      "cell_type": "code",
      "execution_count": 38,
      "metadata": {
        "id": "Ssa1BrVqh-We"
      },
      "outputs": [],
      "source": [
        "from sklearn.linear_model import PassiveAggressiveClassifier"
      ]
    },
    {
      "cell_type": "code",
      "execution_count": 39,
      "metadata": {
        "colab": {
          "base_uri": "https://localhost:8080/",
          "height": 403
        },
        "id": "OpIzUYM3h-X-",
        "outputId": "32c1b04e-73d0-48e1-c5d1-78e8a312afa8"
      },
      "outputs": [
        {
          "output_type": "execute_result",
          "data": {
            "text/plain": [
              "PassiveAggressiveClassifier()"
            ]
          },
          "metadata": {},
          "execution_count": 39
        },
        {
          "output_type": "stream",
          "name": "stderr",
          "text": [
            "/usr/local/lib/python3.7/dist-packages/sklearn/utils/deprecation.py:87: FutureWarning:\n",
            "\n",
            "Function plot_confusion_matrix is deprecated; Function `plot_confusion_matrix` is deprecated in 1.0 and will be removed in 1.2. Use one of the class methods: ConfusionMatrixDisplay.from_predictions or ConfusionMatrixDisplay.from_estimator.\n",
            "\n"
          ]
        },
        {
          "output_type": "execute_result",
          "data": {
            "text/plain": [
              "<sklearn.metrics._plot.confusion_matrix.ConfusionMatrixDisplay at 0x7efc2279b350>"
            ]
          },
          "metadata": {},
          "execution_count": 39
        },
        {
          "output_type": "display_data",
          "data": {
            "text/plain": [
              "<Figure size 432x288 with 2 Axes>"
            ],
            "image/png": "[encoded data removed]"
          },
          "metadata": {
            "needs_background": "light"
          }
        },
        {
          "output_type": "stream",
          "name": "stdout",
          "text": [
            "0.8040722243565117\n"
          ]
        }
      ],
      "source": [
        "pas_IE = PassiveAggressiveClassifier(max_iter=1000)\n",
        "pas_IE.fit(X_train, y_train['IE'])\n",
        "plot_confusion_matrix(pas_IE, X_test, y_test['IE'])  \n",
        "plt.show()\n",
        "print(pas_IE.score(X_test,y_test['IE']))"
      ]
    }
  ],
  "metadata": {
    "colab": {
      "name": "MBTI_Personality_Predictor.ipynb",
      "provenance": [],
      "authorship_tag": "ABX9TyPgpCAP5BnNOV2t3B5dDOHG",
      "include_colab_link": true
    },
    "kernelspec": {
      "display_name": "Python 3",
      "name": "python3"
    },
    "language_info": {
      "name": "python"
    }
  },
  "nbformat": 4,
  "nbformat_minor": 0
}